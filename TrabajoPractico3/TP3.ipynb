{
  "cells": [
    {
      "cell_type": "markdown",
      "metadata": {
        "id": "g3yeJGnCYxuF"
      },
      "source": [
        "<img src=\"https://github.com/hernancontigiani/ceia_memorias_especializacion/raw/master/Figures/logoFIUBA.jpg\" width=\"500\" align=\"center\">\n",
        "\n",
        "\n",
        "# Procesamiento de lenguaje natural\n",
        "## Modelo de lenguaje con tokenización por caracteres"
      ]
    },
    {
      "cell_type": "markdown",
      "metadata": {
        "id": "Iv5PEwGzZA9-"
      },
      "source": [
        "### Consigna\n",
        "- Seleccionar un corpus de texto sobre el cual entrenar el modelo de lenguaje.\n",
        "- Realizar el pre-procesamiento adecuado para tokenizar el corpus, estructurar el dataset y separar entre datos de entrenamiento y validación.\n",
        "- Proponer arquitecturas de redes neuronales basadas en unidades recurrentes para implementar un modelo de lenguaje.\n",
        "- Con el o los modelos que consideren adecuados, generar nuevas secuencias a partir de secuencias de contexto con las estrategias de greedy search y beam search determístico y estocástico. En este último caso observar el efecto de la temperatura en la generación de secuencias.\n",
        "\n",
        "\n",
        "### Sugerencias\n",
        "- Durante el entrenamiento, guiarse por el descenso de la perplejidad en los datos de validación para finalizar el entrenamiento. Para ello se provee un callback.\n",
        "- Explorar utilizar SimpleRNN (celda de Elman), LSTM y GRU.\n",
        "- rmsprop es el optimizador recomendado para la buena convergencia. No obstante se pueden explorar otros.\n"
      ]
    },
    {
      "cell_type": "code",
      "execution_count": 25,
      "metadata": {
        "id": "Y-QdFbHZYj7C"
      },
      "outputs": [],
      "source": [
        "import random\n",
        "import io\n",
        "import pickle\n",
        "\n",
        "import numpy as np\n",
        "import pandas as pd\n",
        "import matplotlib.pyplot as plt\n",
        "from sklearn.model_selection import train_test_split\n",
        "\n",
        "from tensorflow import keras\n",
        "from tensorflow.keras import layers\n",
        "from keras.utils import to_categorical\n",
        "from keras.models import Sequential\n",
        "from keras.layers import Dense, LSTM, Embedding, Dropout\n",
        "from tensorflow.keras.losses import SparseCategoricalCrossentropy"
      ]
    },
    {
      "cell_type": "markdown",
      "metadata": {
        "id": "xTvXlEKQZdqx"
      },
      "source": [
        "### Datos\n",
        "Se utiliza un dataset con diferentes textos (corpus Gutemberg), seleccionando finalmente Tiny Shakespeare."
      ]
    },
    {
      "cell_type": "code",
      "execution_count": 26,
      "metadata": {
        "id": "7amy6uUaBLVD"
      },
      "outputs": [],
      "source": [
        "# descargar de textos.info\n",
        "import urllib.request\n",
        "\n",
        "# Para leer y parsear el texto en HTML de wikipedia\n",
        "import bs4 as bs"
      ]
    },
    {
      "cell_type": "code",
      "execution_count": 27,
      "metadata": {
        "colab": {
          "base_uri": "https://localhost:8080/"
        },
        "id": "6v_ickFwBJTy",
        "outputId": "1083d1ad-d08c-4411-ebae-4e56386435bd"
      },
      "outputs": [
        {
          "output_type": "stream",
          "name": "stdout",
          "text": [
            "Corpus de Tiny Shakespeare cargado. Longitud: 1115394 caracteres.\n"
          ]
        }
      ],
      "source": [
        "import requests\n",
        "\n",
        "# URL directa al corpus de Tiny Shakespeare en GitHub\n",
        "url = \"https://raw.githubusercontent.com/karpathy/char-rnn/master/data/tinyshakespeare/input.txt\"\n",
        "\n",
        "# Descargar el contenido del corpus\n",
        "try:\n",
        "    response = requests.get(url)\n",
        "    response.raise_for_status()  # Lanza un error para códigos de estado HTTP incorrectos (4xx o 5xx)\n",
        "    article_text = response.text\n",
        "    article_text = article_text.lower()\n",
        "    print(f\"Corpus de Tiny Shakespeare cargado. Longitud: {len(article_text)} caracteres.\")\n",
        "except requests.exceptions.RequestException as e:\n",
        "    print(f\"Error al descargar el corpus: {e}\")\n",
        "    article_text = \"\" # Asegura que article_text esté vacío en caso de error"
      ]
    },
    {
      "cell_type": "code",
      "execution_count": 28,
      "metadata": {
        "colab": {
          "base_uri": "https://localhost:8080/",
          "height": 122
        },
        "id": "WBE0sSYuB-E6",
        "outputId": "6abe62f9-1de7-45a7-bdf1-147ce6ef5f0e"
      },
      "outputs": [
        {
          "output_type": "execute_result",
          "data": {
            "text/plain": [
              "\"first citizen:\\nbefore we proceed any further, hear me speak.\\n\\nall:\\nspeak, speak.\\n\\nfirst citizen:\\nyou are all resolved rather to die than to famish?\\n\\nall:\\nresolved. resolved.\\n\\nfirst citizen:\\nfirst, you know caius marcius is chief enemy to the people.\\n\\nall:\\nwe know't, we know't.\\n\\nfirst citizen:\\nlet us kill him, and we'll have corn at our own price.\\nis't a verdict?\\n\\nall:\\nno more talking on't; let it be done: away, away!\\n\\nsecond citizen:\\none word, good citizens.\\n\\nfirst citizen:\\nwe are accounted poor citizens, the patricians good.\\nwhat authority surfeits on would relieve us: if they\\nwould yield us but the superfluity, while it were\\nwholesome, we might guess they relieved us humanely;\\nbut they think we are too dear: the leanness that\\nafflicts us, the object of our misery, is as an\\ninventory to particularise their abundance; our\\nsufferance is a gain to them let us revenge this with\\nour pikes, ere we become rakes: for the gods know i\\nspeak this in hunger for bread, not in thirst for revenge.\\n\\n\""
            ],
            "application/vnd.google.colaboratory.intrinsic+json": {
              "type": "string"
            }
          },
          "metadata": {},
          "execution_count": 28
        }
      ],
      "source": [
        "# en article text se encuentra el texto de todo el libro\n",
        "article_text[:1000]"
      ]
    },
    {
      "cell_type": "markdown",
      "metadata": {
        "id": "cP1JdiOIKQWi"
      },
      "source": [
        "### Elegir el tamaño del contexto\n",
        "\n",
        "En este caso, como el modelo de lenguaje es por caracteres, todo un gran corpus\n",
        "de texto puede ser considerado un documento en sí mismo y el tamaño de contexto\n",
        "puede ser elegido con más libertad en comparación a un modelo de lenguaje tokenizado por palabras y dividido en documentos más acotados."
      ]
    },
    {
      "cell_type": "code",
      "execution_count": 29,
      "metadata": {
        "id": "wumBNwdjJM3j"
      },
      "outputs": [],
      "source": [
        "# seleccionamos el tamaño de contexto\n",
        "max_context_size = 100"
      ]
    },
    {
      "cell_type": "code",
      "execution_count": 30,
      "metadata": {
        "id": "m5FeTaGvbDbw"
      },
      "outputs": [],
      "source": [
        "# Usaremos las utilidades de procesamiento de textos y secuencias de Keras\n",
        "from tensorflow.keras.utils import pad_sequences # se utilizará para padding"
      ]
    },
    {
      "cell_type": "code",
      "execution_count": 31,
      "metadata": {
        "id": "573Cg5n7VhWw"
      },
      "outputs": [],
      "source": [
        "# en este caso el vocabulario es el conjunto único de caracteres que existe en todo el texto\n",
        "chars_vocab = set(article_text)"
      ]
    },
    {
      "cell_type": "code",
      "execution_count": 32,
      "metadata": {
        "colab": {
          "base_uri": "https://localhost:8080/"
        },
        "id": "VwTK6xgLJd8q",
        "outputId": "880acd00-23fd-401b-bf48-0227af1f66ef"
      },
      "outputs": [
        {
          "output_type": "execute_result",
          "data": {
            "text/plain": [
              "39"
            ]
          },
          "metadata": {},
          "execution_count": 32
        }
      ],
      "source": [
        "# la longitud de vocabulario de caracteres es:\n",
        "len(chars_vocab)"
      ]
    },
    {
      "cell_type": "code",
      "execution_count": 33,
      "metadata": {
        "id": "2W0AeQjXV1Ou"
      },
      "outputs": [],
      "source": [
        "# Construimos los dicionarios que asignan índices a caracteres y viceversa.\n",
        "# El diccionario `char2idx` servirá como tokenizador.\n",
        "char2idx = {k: v for v,k in enumerate(chars_vocab)}\n",
        "idx2char = {v: k for k,v in char2idx.items()}"
      ]
    },
    {
      "cell_type": "markdown",
      "metadata": {
        "id": "2oIUjVU0LB0r"
      },
      "source": [
        "###  Tokenizar"
      ]
    },
    {
      "cell_type": "code",
      "execution_count": 34,
      "metadata": {
        "id": "h07G3srdJppo"
      },
      "outputs": [],
      "source": [
        "# tokenizamos el texto completo\n",
        "tokenized_text = [char2idx[ch] for ch in article_text]"
      ]
    },
    {
      "cell_type": "code",
      "execution_count": 35,
      "metadata": {
        "colab": {
          "base_uri": "https://localhost:8080/"
        },
        "id": "PwGVSKOiJ5bj",
        "outputId": "a06e2a87-4f09-49bf-9c23-53c21803712e"
      },
      "outputs": [
        {
          "output_type": "execute_result",
          "data": {
            "text/plain": [
              "[23,\n",
              " 15,\n",
              " 24,\n",
              " 37,\n",
              " 0,\n",
              " 4,\n",
              " 32,\n",
              " 15,\n",
              " 0,\n",
              " 15,\n",
              " 20,\n",
              " 34,\n",
              " 36,\n",
              " 27,\n",
              " 28,\n",
              " 19,\n",
              " 34,\n",
              " 23,\n",
              " 10,\n",
              " 24,\n",
              " 34,\n",
              " 4,\n",
              " 7,\n",
              " 34,\n",
              " 4,\n",
              " 25,\n",
              " 24,\n",
              " 10,\n",
              " 32,\n",
              " 34,\n",
              " 34,\n",
              " 30,\n",
              " 4,\n",
              " 16,\n",
              " 36,\n",
              " 26,\n",
              " 4,\n",
              " 23,\n",
              " 38,\n",
              " 24,\n",
              " 0,\n",
              " 33,\n",
              " 34,\n",
              " 24,\n",
              " 11,\n",
              " 4,\n",
              " 33,\n",
              " 34,\n",
              " 16,\n",
              " 24,\n",
              " 4,\n",
              " 35,\n",
              " 34,\n",
              " 4,\n",
              " 37,\n",
              " 25,\n",
              " 34,\n",
              " 16,\n",
              " 12,\n",
              " 3,\n",
              " 28,\n",
              " 28,\n",
              " 16,\n",
              " 21,\n",
              " 21,\n",
              " 27,\n",
              " 28,\n",
              " 37,\n",
              " 25,\n",
              " 34,\n",
              " 16,\n",
              " 12,\n",
              " 11,\n",
              " 4,\n",
              " 37,\n",
              " 25,\n",
              " 34,\n",
              " 16,\n",
              " 12,\n",
              " 3,\n",
              " 28,\n",
              " 28,\n",
              " 23,\n",
              " 15,\n",
              " 24,\n",
              " 37,\n",
              " 0,\n",
              " 4,\n",
              " 32,\n",
              " 15,\n",
              " 0,\n",
              " 15,\n",
              " 20,\n",
              " 34,\n",
              " 36,\n",
              " 27,\n",
              " 28,\n",
              " 26,\n",
              " 10,\n",
              " 38,\n",
              " 4,\n",
              " 16,\n",
              " 24,\n",
              " 34,\n",
              " 4,\n",
              " 16,\n",
              " 21,\n",
              " 21,\n",
              " 4,\n",
              " 24,\n",
              " 34,\n",
              " 37,\n",
              " 10,\n",
              " 21,\n",
              " 13,\n",
              " 34,\n",
              " 30,\n",
              " 4,\n",
              " 24,\n",
              " 16,\n",
              " 0,\n",
              " 33,\n",
              " 34,\n",
              " 24,\n",
              " 4,\n",
              " 0,\n",
              " 10,\n",
              " 4,\n",
              " 30,\n",
              " 15,\n",
              " 34,\n",
              " 4,\n",
              " 0,\n",
              " 33,\n",
              " 16,\n",
              " 36,\n",
              " 4,\n",
              " 0,\n",
              " 10,\n",
              " 4,\n",
              " 23,\n",
              " 16,\n",
              " 35,\n",
              " 15,\n",
              " 37,\n",
              " 33,\n",
              " 17,\n",
              " 28,\n",
              " 28,\n",
              " 16,\n",
              " 21,\n",
              " 21,\n",
              " 27,\n",
              " 28,\n",
              " 24,\n",
              " 34,\n",
              " 37,\n",
              " 10,\n",
              " 21,\n",
              " 13,\n",
              " 34,\n",
              " 30,\n",
              " 3,\n",
              " 4,\n",
              " 24,\n",
              " 34,\n",
              " 37,\n",
              " 10,\n",
              " 21,\n",
              " 13,\n",
              " 34,\n",
              " 30,\n",
              " 3,\n",
              " 28,\n",
              " 28,\n",
              " 23,\n",
              " 15,\n",
              " 24,\n",
              " 37,\n",
              " 0,\n",
              " 4,\n",
              " 32,\n",
              " 15,\n",
              " 0,\n",
              " 15,\n",
              " 20,\n",
              " 34,\n",
              " 36,\n",
              " 27,\n",
              " 28,\n",
              " 23,\n",
              " 15,\n",
              " 24,\n",
              " 37,\n",
              " 0,\n",
              " 11,\n",
              " 4,\n",
              " 26,\n",
              " 10,\n",
              " 38,\n",
              " 4,\n",
              " 12,\n",
              " 36,\n",
              " 10,\n",
              " 7,\n",
              " 4,\n",
              " 32,\n",
              " 16,\n",
              " 15,\n",
              " 38,\n",
              " 37,\n",
              " 4,\n",
              " 35,\n",
              " 16,\n",
              " 24,\n",
              " 32,\n",
              " 15,\n",
              " 38,\n",
              " 37,\n",
              " 4,\n",
              " 15,\n",
              " 37,\n",
              " 4,\n",
              " 32,\n",
              " 33,\n",
              " 15,\n",
              " 34,\n",
              " 23,\n",
              " 4,\n",
              " 34,\n",
              " 36,\n",
              " 34,\n",
              " 35,\n",
              " 26,\n",
              " 4,\n",
              " 0,\n",
              " 10,\n",
              " 4,\n",
              " 0,\n",
              " 33,\n",
              " 34,\n",
              " 4,\n",
              " 25,\n",
              " 34,\n",
              " 10,\n",
              " 25,\n",
              " 21,\n",
              " 34,\n",
              " 3,\n",
              " 28,\n",
              " 28,\n",
              " 16,\n",
              " 21,\n",
              " 21,\n",
              " 27,\n",
              " 28,\n",
              " 7,\n",
              " 34,\n",
              " 4,\n",
              " 12,\n",
              " 36,\n",
              " 10,\n",
              " 7,\n",
              " 22,\n",
              " 0,\n",
              " 11,\n",
              " 4,\n",
              " 7,\n",
              " 34,\n",
              " 4,\n",
              " 12,\n",
              " 36,\n",
              " 10,\n",
              " 7,\n",
              " 22,\n",
              " 0,\n",
              " 3,\n",
              " 28,\n",
              " 28,\n",
              " 23,\n",
              " 15,\n",
              " 24,\n",
              " 37,\n",
              " 0,\n",
              " 4,\n",
              " 32,\n",
              " 15,\n",
              " 0,\n",
              " 15,\n",
              " 20,\n",
              " 34,\n",
              " 36,\n",
              " 27,\n",
              " 28,\n",
              " 21,\n",
              " 34,\n",
              " 0,\n",
              " 4,\n",
              " 38,\n",
              " 37,\n",
              " 4,\n",
              " 12,\n",
              " 15,\n",
              " 21,\n",
              " 21,\n",
              " 4,\n",
              " 33,\n",
              " 15,\n",
              " 35,\n",
              " 11,\n",
              " 4,\n",
              " 16,\n",
              " 36,\n",
              " 30,\n",
              " 4,\n",
              " 7,\n",
              " 34,\n",
              " 22,\n",
              " 21,\n",
              " 21,\n",
              " 4,\n",
              " 33,\n",
              " 16,\n",
              " 13,\n",
              " 34,\n",
              " 4,\n",
              " 32,\n",
              " 10,\n",
              " 24,\n",
              " 36,\n",
              " 4,\n",
              " 16,\n",
              " 0,\n",
              " 4,\n",
              " 10,\n",
              " 38,\n",
              " 24,\n",
              " 4,\n",
              " 10,\n",
              " 7,\n",
              " 36,\n",
              " 4,\n",
              " 25,\n",
              " 24,\n",
              " 15,\n",
              " 32,\n",
              " 34,\n",
              " 3,\n",
              " 28,\n",
              " 15,\n",
              " 37,\n",
              " 22,\n",
              " 0,\n",
              " 4,\n",
              " 16,\n",
              " 4,\n",
              " 13,\n",
              " 34,\n",
              " 24,\n",
              " 30,\n",
              " 15,\n",
              " 32,\n",
              " 0,\n",
              " 17,\n",
              " 28,\n",
              " 28,\n",
              " 16,\n",
              " 21,\n",
              " 21,\n",
              " 27,\n",
              " 28,\n",
              " 36,\n",
              " 10,\n",
              " 4,\n",
              " 35,\n",
              " 10,\n",
              " 24,\n",
              " 34,\n",
              " 4,\n",
              " 0,\n",
              " 16,\n",
              " 21,\n",
              " 12,\n",
              " 15,\n",
              " 36,\n",
              " 29,\n",
              " 4,\n",
              " 10,\n",
              " 36,\n",
              " 22,\n",
              " 0,\n",
              " 18,\n",
              " 4,\n",
              " 21,\n",
              " 34,\n",
              " 0,\n",
              " 4,\n",
              " 15,\n",
              " 0,\n",
              " 4,\n",
              " 19,\n",
              " 34,\n",
              " 4,\n",
              " 30,\n",
              " 10,\n",
              " 36,\n",
              " 34,\n",
              " 27,\n",
              " 4,\n",
              " 16,\n",
              " 7,\n",
              " 16,\n",
              " 26,\n",
              " 11,\n",
              " 4,\n",
              " 16,\n",
              " 7,\n",
              " 16,\n",
              " 26,\n",
              " 1,\n",
              " 28,\n",
              " 28,\n",
              " 37,\n",
              " 34,\n",
              " 32,\n",
              " 10,\n",
              " 36,\n",
              " 30,\n",
              " 4,\n",
              " 32,\n",
              " 15,\n",
              " 0,\n",
              " 15,\n",
              " 20,\n",
              " 34,\n",
              " 36,\n",
              " 27,\n",
              " 28,\n",
              " 10,\n",
              " 36,\n",
              " 34,\n",
              " 4,\n",
              " 7,\n",
              " 10,\n",
              " 24,\n",
              " 30,\n",
              " 11,\n",
              " 4,\n",
              " 29,\n",
              " 10,\n",
              " 10,\n",
              " 30,\n",
              " 4,\n",
              " 32,\n",
              " 15,\n",
              " 0,\n",
              " 15,\n",
              " 20,\n",
              " 34,\n",
              " 36,\n",
              " 37,\n",
              " 3,\n",
              " 28,\n",
              " 28,\n",
              " 23,\n",
              " 15,\n",
              " 24,\n",
              " 37,\n",
              " 0,\n",
              " 4,\n",
              " 32,\n",
              " 15,\n",
              " 0,\n",
              " 15,\n",
              " 20,\n",
              " 34,\n",
              " 36,\n",
              " 27,\n",
              " 28,\n",
              " 7,\n",
              " 34,\n",
              " 4,\n",
              " 16,\n",
              " 24,\n",
              " 34,\n",
              " 4,\n",
              " 16,\n",
              " 32,\n",
              " 32,\n",
              " 10,\n",
              " 38,\n",
              " 36,\n",
              " 0,\n",
              " 34,\n",
              " 30,\n",
              " 4,\n",
              " 25,\n",
              " 10,\n",
              " 10,\n",
              " 24,\n",
              " 4,\n",
              " 32,\n",
              " 15,\n",
              " 0,\n",
              " 15,\n",
              " 20,\n",
              " 34,\n",
              " 36,\n",
              " 37,\n",
              " 11,\n",
              " 4,\n",
              " 0,\n",
              " 33,\n",
              " 34,\n",
              " 4,\n",
              " 25,\n",
              " 16,\n",
              " 0,\n",
              " 24,\n",
              " 15,\n",
              " 32,\n",
              " 15,\n",
              " 16,\n",
              " 36,\n",
              " 37,\n",
              " 4,\n",
              " 29,\n",
              " 10,\n",
              " 10,\n",
              " 30,\n",
              " 3,\n",
              " 28,\n",
              " 7,\n",
              " 33,\n",
              " 16,\n",
              " 0,\n",
              " 4,\n",
              " 16,\n",
              " 38,\n",
              " 0,\n",
              " 33,\n",
              " 10,\n",
              " 24,\n",
              " 15,\n",
              " 0,\n",
              " 26,\n",
              " 4,\n",
              " 37,\n",
              " 38,\n",
              " 24,\n",
              " 23,\n",
              " 34,\n",
              " 15,\n",
              " 0,\n",
              " 37,\n",
              " 4,\n",
              " 10,\n",
              " 36,\n",
              " 4,\n",
              " 7,\n",
              " 10,\n",
              " 38,\n",
              " 21,\n",
              " 30,\n",
              " 4,\n",
              " 24,\n",
              " 34,\n",
              " 21,\n",
              " 15,\n",
              " 34,\n",
              " 13,\n",
              " 34,\n",
              " 4,\n",
              " 38,\n",
              " 37,\n",
              " 27,\n",
              " 4,\n",
              " 15,\n",
              " 23,\n",
              " 4,\n",
              " 0,\n",
              " 33,\n",
              " 34,\n",
              " 26,\n",
              " 28,\n",
              " 7,\n",
              " 10,\n",
              " 38,\n",
              " 21,\n",
              " 30,\n",
              " 4,\n",
              " 26,\n",
              " 15,\n",
              " 34,\n",
              " 21,\n",
              " 30,\n",
              " 4,\n",
              " 38,\n",
              " 37,\n",
              " 4,\n",
              " 19,\n",
              " 38,\n",
              " 0,\n",
              " 4,\n",
              " 0,\n",
              " 33,\n",
              " 34,\n",
              " 4,\n",
              " 37,\n",
              " 38,\n",
              " 25,\n",
              " 34,\n",
              " 24,\n",
              " 23,\n",
              " 21,\n",
              " 38,\n",
              " 15,\n",
              " 0,\n",
              " 26,\n",
              " 11,\n",
              " 4,\n",
              " 7,\n",
              " 33,\n",
              " 15,\n",
              " 21,\n",
              " 34,\n",
              " 4,\n",
              " 15,\n",
              " 0,\n",
              " 4,\n",
              " 7,\n",
              " 34,\n",
              " 24,\n",
              " 34,\n",
              " 28,\n",
              " 7,\n",
              " 33,\n",
              " 10,\n",
              " 21,\n",
              " 34,\n",
              " 37,\n",
              " 10,\n",
              " 35,\n",
              " 34,\n",
              " 11,\n",
              " 4,\n",
              " 7,\n",
              " 34,\n",
              " 4,\n",
              " 35,\n",
              " 15,\n",
              " 29,\n",
              " 33,\n",
              " 0,\n",
              " 4,\n",
              " 29,\n",
              " 38,\n",
              " 34,\n",
              " 37,\n",
              " 37,\n",
              " 4,\n",
              " 0,\n",
              " 33,\n",
              " 34,\n",
              " 26,\n",
              " 4,\n",
              " 24,\n",
              " 34,\n",
              " 21,\n",
              " 15,\n",
              " 34,\n",
              " 13,\n",
              " 34,\n",
              " 30,\n",
              " 4,\n",
              " 38,\n",
              " 37,\n",
              " 4,\n",
              " 33,\n",
              " 38,\n",
              " 35,\n",
              " 16,\n",
              " 36,\n",
              " 34,\n",
              " 21,\n",
              " 26,\n",
              " 18,\n",
              " 28,\n",
              " 19,\n",
              " 38,\n",
              " 0,\n",
              " 4,\n",
              " 0,\n",
              " 33,\n",
              " 34,\n",
              " 26,\n",
              " 4,\n",
              " 0,\n",
              " 33,\n",
              " 15,\n",
              " 36,\n",
              " 12,\n",
              " 4,\n",
              " 7,\n",
              " 34,\n",
              " 4,\n",
              " 16,\n",
              " 24,\n",
              " 34,\n",
              " 4,\n",
              " 0,\n",
              " 10,\n",
              " 10,\n",
              " 4,\n",
              " 30,\n",
              " 34,\n",
              " 16,\n",
              " 24,\n",
              " 27,\n",
              " 4,\n",
              " 0,\n",
              " 33,\n",
              " 34,\n",
              " 4,\n",
              " 21,\n",
              " 34,\n",
              " 16,\n",
              " 36,\n",
              " 36,\n",
              " 34,\n",
              " 37,\n",
              " 37,\n",
              " 4,\n",
              " 0,\n",
              " 33,\n",
              " 16,\n",
              " 0,\n",
              " 28,\n",
              " 16,\n",
              " 23,\n",
              " 23,\n",
              " 21,\n",
              " 15,\n",
              " 32,\n",
              " 0,\n",
              " 37,\n",
              " 4,\n",
              " 38,\n",
              " 37,\n",
              " 11,\n",
              " 4,\n",
              " 0,\n",
              " 33,\n",
              " 34,\n",
              " 4,\n",
              " 10,\n",
              " 19,\n",
              " 2,\n",
              " 34,\n",
              " 32,\n",
              " 0,\n",
              " 4,\n",
              " 10,\n",
              " 23,\n",
              " 4,\n",
              " 10,\n",
              " 38,\n",
              " 24,\n",
              " 4,\n",
              " 35,\n",
              " 15,\n",
              " 37,\n",
              " 34,\n",
              " 24,\n",
              " 26,\n",
              " 11,\n",
              " 4,\n",
              " 15,\n",
              " 37,\n",
              " 4,\n",
              " 16,\n",
              " 37,\n",
              " 4,\n",
              " 16,\n",
              " 36,\n",
              " 28,\n",
              " 15,\n",
              " 36,\n",
              " 13,\n",
              " 34,\n",
              " 36,\n",
              " 0,\n",
              " 10,\n",
              " 24,\n",
              " 26,\n",
              " 4,\n",
              " 0,\n",
              " 10,\n",
              " 4,\n",
              " 25,\n",
              " 16,\n",
              " 24,\n",
              " 0,\n",
              " 15,\n",
              " 32,\n",
              " 38,\n",
              " 21,\n",
              " 16,\n",
              " 24,\n",
              " 15,\n",
              " 37,\n",
              " 34,\n",
              " 4,\n",
              " 0,\n",
              " 33,\n",
              " 34,\n",
              " 15,\n",
              " 24,\n",
              " 4,\n",
              " 16,\n",
              " 19,\n",
              " 38,\n",
              " 36,\n",
              " 30,\n",
              " 16,\n",
              " 36,\n",
              " 32,\n",
              " 34,\n",
              " 18,\n",
              " 4,\n",
              " 10,\n",
              " 38,\n",
              " 24,\n",
              " 28,\n",
              " 37,\n",
              " 38,\n",
              " 23,\n",
              " 23,\n",
              " 34,\n",
              " 24,\n",
              " 16,\n",
              " 36,\n",
              " 32,\n",
              " 34,\n",
              " 4,\n",
              " 15,\n",
              " 37,\n",
              " 4,\n",
              " 16,\n",
              " 4,\n",
              " 29,\n",
              " 16,\n",
              " 15,\n",
              " 36,\n",
              " 4,\n",
              " 0,\n",
              " 10,\n",
              " 4,\n",
              " 0,\n",
              " 33,\n",
              " 34,\n",
              " 35,\n",
              " 4,\n",
              " 21,\n",
              " 34,\n",
              " 0,\n",
              " 4,\n",
              " 38,\n",
              " 37,\n",
              " 4,\n",
              " 24,\n",
              " 34,\n",
              " 13,\n",
              " 34,\n",
              " 36,\n",
              " 29,\n",
              " 34,\n",
              " 4,\n",
              " 0,\n",
              " 33,\n",
              " 15,\n",
              " 37,\n",
              " 4,\n",
              " 7,\n",
              " 15,\n",
              " 0,\n",
              " 33,\n",
              " 28,\n",
              " 10,\n",
              " 38,\n",
              " 24,\n",
              " 4,\n",
              " 25,\n",
              " 15,\n",
              " 12,\n",
              " 34,\n",
              " 37,\n",
              " 11,\n",
              " 4,\n",
              " 34,\n",
              " 24,\n",
              " 34,\n",
              " 4,\n",
              " 7,\n",
              " 34,\n",
              " 4,\n",
              " 19,\n",
              " 34,\n",
              " 32,\n",
              " 10,\n",
              " 35,\n",
              " 34,\n",
              " 4,\n",
              " 24,\n",
              " 16,\n",
              " 12,\n",
              " 34,\n",
              " 37,\n",
              " 27,\n",
              " 4,\n",
              " 23,\n",
              " 10,\n",
              " 24,\n",
              " 4,\n",
              " 0,\n",
              " 33,\n",
              " 34,\n",
              " 4,\n",
              " 29,\n",
              " 10,\n",
              " 30,\n",
              " 37,\n",
              " 4,\n",
              " 12,\n",
              " 36,\n",
              " 10,\n",
              " 7,\n",
              " 4,\n",
              " 15,\n",
              " 28,\n",
              " 37,\n",
              " 25,\n",
              " 34,\n",
              " 16,\n",
              " 12,\n",
              " 4,\n",
              " 0,\n",
              " 33,\n",
              " 15,\n",
              " 37,\n",
              " 4,\n",
              " 15,\n",
              " 36,\n",
              " 4,\n",
              " 33,\n",
              " 38,\n",
              " 36,\n",
              " 29,\n",
              " 34,\n",
              " 24,\n",
              " 4,\n",
              " 23,\n",
              " 10,\n",
              " 24,\n",
              " 4,\n",
              " 19,\n",
              " 24,\n",
              " 34,\n",
              " 16,\n",
              " 30,\n",
              " 11,\n",
              " 4,\n",
              " 36,\n",
              " 10,\n",
              " 0,\n",
              " 4,\n",
              " 15,\n",
              " 36,\n",
              " 4,\n",
              " 0,\n",
              " 33,\n",
              " 15,\n",
              " 24,\n",
              " 37,\n",
              " 0,\n",
              " 4,\n",
              " 23,\n",
              " 10,\n",
              " 24,\n",
              " 4,\n",
              " 24,\n",
              " 34,\n",
              " 13,\n",
              " 34,\n",
              " 36,\n",
              " 29,\n",
              " 34,\n",
              " 3,\n",
              " 28,\n",
              " 28]"
            ]
          },
          "metadata": {},
          "execution_count": 35
        }
      ],
      "source": [
        "tokenized_text[:1000]"
      ]
    },
    {
      "cell_type": "markdown",
      "metadata": {
        "id": "pfpYcaypKcI9"
      },
      "source": [
        "### Organizando y estructurando el dataset"
      ]
    },
    {
      "cell_type": "code",
      "execution_count": 36,
      "metadata": {
        "id": "WSSmg9jtKP0T"
      },
      "outputs": [],
      "source": [
        "# separaremos el dataset entre entrenamiento y validación.\n",
        "# `p_val` será la proporción del corpus que se reservará para validación\n",
        "# `num_val` es la cantidad de secuencias de tamaño `max_context_size` que se usará en validación\n",
        "p_val = 0.1\n",
        "num_val = int(np.ceil(len(tokenized_text)*p_val/max_context_size))"
      ]
    },
    {
      "cell_type": "code",
      "execution_count": 37,
      "metadata": {
        "id": "b7dCpGrdKll0"
      },
      "outputs": [],
      "source": [
        "# separamos la porción de texto utilizada en entrenamiento de la de validación.\n",
        "train_text = tokenized_text[:-num_val*max_context_size]\n",
        "val_text = tokenized_text[-num_val*max_context_size:]"
      ]
    },
    {
      "cell_type": "code",
      "execution_count": 38,
      "metadata": {
        "id": "NmxQdxl8LRCg"
      },
      "outputs": [],
      "source": [
        "tokenized_sentences_val = [val_text[init*max_context_size:init*(max_context_size+1)] for init in range(num_val)]"
      ]
    },
    {
      "cell_type": "code",
      "execution_count": 39,
      "metadata": {
        "id": "_gyFT9koLqDm"
      },
      "outputs": [],
      "source": [
        "tokenized_sentences_train = [train_text[init:init+max_context_size] for init in range(len(train_text)-max_context_size+1)]"
      ]
    },
    {
      "cell_type": "code",
      "execution_count": 40,
      "metadata": {
        "id": "oVNqmmLRodT0"
      },
      "outputs": [],
      "source": [
        "X = np.array(tokenized_sentences_train[:-1])\n",
        "y = np.array(tokenized_sentences_train[1:])"
      ]
    },
    {
      "cell_type": "markdown",
      "metadata": {
        "id": "Vken7O4ETsAJ"
      },
      "source": [
        "Nótese que estamos estructurando el problema de aprendizaje como *many-to-many*:\n",
        "\n",
        "Entrada: secuencia de tokens [$x_0$, $x_1$, ..., $x_N$]\n",
        "\n",
        "Target: secuencia de tokens [$x_1$, $x_2$, ..., $x_{N+1}$]\n",
        "\n",
        "De manera que la red tiene que aprender que su salida deben ser los tokens desplazados en una posición y un nuevo token predicho (el N+1).\n",
        "\n",
        "La ventaja de estructurar el aprendizaje de esta manera es que para cada token de target se propaga una señal de gradiente por el grafo de cómputo recurrente, que es mejor que estructurar el problema como *many-to-one* en donde sólo una señal de gradiente se propaga."
      ]
    },
    {
      "cell_type": "markdown",
      "metadata": {
        "id": "l3iPTx-UJl6r"
      },
      "source": [
        "En este punto tenemos en la variable `tokenized_sentences` los versos tokenizados. Vamos a quedarnos con un conjunto de validación que utilizaremos para medir la calidad de la generación de secuencias con la métrica de Perplejidad."
      ]
    },
    {
      "cell_type": "code",
      "execution_count": 41,
      "metadata": {
        "colab": {
          "base_uri": "https://localhost:8080/"
        },
        "id": "KFAyA4zCWE-5",
        "outputId": "545357bd-ce75-473d-df70-fabe7e4833a3"
      },
      "outputs": [
        {
          "output_type": "execute_result",
          "data": {
            "text/plain": [
              "(1003694, 100)"
            ]
          },
          "metadata": {},
          "execution_count": 41
        }
      ],
      "source": [
        "X.shape"
      ]
    },
    {
      "cell_type": "code",
      "execution_count": 42,
      "metadata": {
        "colab": {
          "base_uri": "https://localhost:8080/"
        },
        "id": "qcKRl70HFTzG",
        "outputId": "907ca82e-1f7e-4ed4-d447-beb0fc607de6"
      },
      "outputs": [
        {
          "output_type": "execute_result",
          "data": {
            "text/plain": [
              "array([23, 15, 24, 37,  0,  4, 32, 15,  0, 15])"
            ]
          },
          "metadata": {},
          "execution_count": 42
        }
      ],
      "source": [
        "X[0,:10]"
      ]
    },
    {
      "cell_type": "code",
      "execution_count": 43,
      "metadata": {
        "colab": {
          "base_uri": "https://localhost:8080/"
        },
        "id": "TVpLCKSZFXZO",
        "outputId": "184afe33-0176-4078-b56f-7407f4abee4a"
      },
      "outputs": [
        {
          "output_type": "execute_result",
          "data": {
            "text/plain": [
              "array([15, 24, 37,  0,  4, 32, 15,  0, 15, 20])"
            ]
          },
          "metadata": {},
          "execution_count": 43
        }
      ],
      "source": [
        "y[0,:10]"
      ]
    },
    {
      "cell_type": "code",
      "execution_count": 44,
      "metadata": {
        "id": "wOFCR-KqbW1N"
      },
      "outputs": [],
      "source": [
        "vocab_size = len(chars_vocab)"
      ]
    },
    {
      "cell_type": "markdown",
      "metadata": {
        "id": "tnnjdAQ5UAEJ"
      },
      "source": [
        "# Definiendo el modelo"
      ]
    },
    {
      "cell_type": "code",
      "execution_count": 45,
      "metadata": {
        "id": "rkMCZvmhrQz4"
      },
      "outputs": [],
      "source": [
        "from keras.layers import Input, TimeDistributed, CategoryEncoding, SimpleRNN, Dense\n",
        "from keras.models import Model, Sequential"
      ]
    },
    {
      "cell_type": "markdown",
      "metadata": {
        "id": "wgz7VKwTUbj6"
      },
      "source": [
        "El modelo que se propone como ejemplo consume los índices de los tokens y los transforma en vectores OHE (en este caso no entrenamos una capa de embedding para caracteres). Esa transformación se logra combinando las capas `CategoryEncoding` que transforma a índices a vectores OHE y `TimeDistributed` que aplica la capa a lo largo de la dimensión \"temporal\" de la secuencia."
      ]
    },
    {
      "cell_type": "code",
      "execution_count": 46,
      "metadata": {
        "id": "Zd2OkfQYs2Q7"
      },
      "outputs": [],
      "source": [
        "from tensorflow.keras.models import Sequential\n",
        "from tensorflow.keras.layers import TimeDistributed, LSTM, Dense, GRU\n",
        "from tensorflow.keras.layers import CategoryEncoding\n",
        "from tensorflow.keras.optimizers import Adam, RMSprop\n",
        "\n",
        "model = Sequential()\n",
        "model.add(TimeDistributed(CategoryEncoding(num_tokens=vocab_size, output_mode=\"one_hot\"), input_shape=(None,1)))\n",
        "model.add(GRU(64, return_sequences=True))\n",
        "model.add(Dense(64, activation='relu'))\n",
        "model.add(Dense(vocab_size, activation='softmax'))\n",
        "\n",
        "model.compile(\n",
        "    loss='sparse_categorical_crossentropy',\n",
        "    optimizer=RMSprop(learning_rate=0.001),\n",
        "    metrics=['accuracy']\n",
        ")\n"
      ]
    },
    {
      "cell_type": "markdown",
      "metadata": {
        "id": "GmJWNyxQwfCE"
      },
      "source": [
        "\n",
        "### Definir el modelo"
      ]
    },
    {
      "cell_type": "markdown",
      "metadata": {
        "id": "YWK3z85sQfUe"
      },
      "source": [
        "Dado que por el momento no hay implementaciones adecuadas de la perplejidad que puedan operar en tiempo de entrenamiento, armaremos un Callback *ad-hoc* que la calcule en cada epoch.\n",
        "\n",
        "**Nota**: un Callback es una rutina gatillada por algún evento, son muy útiles para relevar datos en diferentes momentos del desarrollo del modelo. En este caso queremos hacer un cálculo cada vez que termina una epoch de entrenamiento."
      ]
    },
    {
      "cell_type": "code",
      "execution_count": 47,
      "metadata": {
        "id": "zUHX3r5JD-MG"
      },
      "outputs": [],
      "source": [
        "import numpy as np\n",
        "import tensorflow as tf\n",
        "from tensorflow import keras\n",
        "from tensorflow.keras.preprocessing.sequence import pad_sequences\n",
        "\n",
        "class PplCallback(keras.callbacks.Callback):\n",
        "    def __init__(self, val_data_raw, history_ppl, patience=5, sample_size=256, batch_size_pred=128):\n",
        "        self.history_ppl = history_ppl\n",
        "        self.min_score = np.inf\n",
        "        self.patience_counter = 0\n",
        "        self.patience = patience\n",
        "        self.model_saved_path = \"my_model.keras\"\n",
        "        self.batch_size_pred = batch_size_pred\n",
        "\n",
        "        if len(val_data_raw) > sample_size:\n",
        "            val_data_raw = np.array(val_data_raw, dtype=object)\n",
        "            indices = np.random.choice(len(val_data_raw), sample_size, replace=False)\n",
        "            val_data = val_data_raw[indices]\n",
        "        else:\n",
        "            val_data = val_data_raw\n",
        "\n",
        "        self.target = []\n",
        "        self.padded_inputs = []\n",
        "        self.info = []\n",
        "        current_idx = 0\n",
        "\n",
        "        for seq in val_data:\n",
        "            len_seq = len(seq)\n",
        "            if len_seq > 1:\n",
        "                subseq_inputs = [seq[:i] for i in range(1, len_seq)]\n",
        "                self.target.extend([seq[i] for i in range(1, len_seq)])\n",
        "                padded_subseq = pad_sequences(subseq_inputs, maxlen=max_context_size, padding='pre')\n",
        "                self.padded_inputs.append(padded_subseq)\n",
        "                self.info.append((current_idx, current_idx + len(padded_subseq)))\n",
        "                current_idx += len(padded_subseq)\n",
        "\n",
        "        if self.padded_inputs:\n",
        "            self.padded_inputs = np.vstack(self.padded_inputs)\n",
        "        else:\n",
        "            self.padded_inputs = np.array([])\n",
        "            print(\"Advertencia: No se generaron datos para el cálculo de perplejidad.\")\n",
        "\n",
        "        self.target = np.array(self.target)\n",
        "\n",
        "    def on_epoch_end(self, epoch, logs=None):\n",
        "        if self.padded_inputs.size == 0:\n",
        "            print(\"\\n No hay datos de validación para calcular la perplejidad en esta época. \\n\")\n",
        "            return\n",
        "\n",
        "        print(\"\\n Iniciando predicción de la epoca... \\n\")\n",
        "        predictions_all = self.model.predict(self.padded_inputs[:4000], verbose=0)\n",
        "\n",
        "        target_indices = self.target[:len(predictions_all)].astype(int)\n",
        "        assert len(predictions_all) == len(target_indices), \"Dimensiones no coinciden\"\n",
        "\n",
        "        predicted_probabilities = predictions_all[np.arange(len(predictions_all)), -1, target_indices]\n",
        "        predicted_probabilities[predicted_probabilities == 0] = np.finfo(float).eps\n",
        "        log_probs = np.log(predicted_probabilities)\n",
        "\n",
        "        scores = []\n",
        "        for start, end in self.info:\n",
        "            sum_log_probs_seq = np.sum(log_probs[start:end])\n",
        "            len_targets_seq = end - start\n",
        "            if len_targets_seq > 0:\n",
        "                scores.append(np.exp(-sum_log_probs_seq / len_targets_seq))\n",
        "            else:\n",
        "                scores.append(0.0)\n",
        "\n",
        "        current_score = np.mean(scores)\n",
        "        self.history_ppl.append(current_score)\n",
        "        print(f'\\n Perplejidad promedio: {current_score:.4f} \\n')\n",
        "\n",
        "        if current_score < self.min_score:\n",
        "            self.min_score = current_score\n",
        "            self.model.save(self.model_saved_path)\n",
        "            print(f\"Modelo guardado: Nueva mejor perplejidad: {self.min_score:.4f}\")\n",
        "            self.patience_counter = 0\n",
        "        else:\n",
        "            self.patience_counter += 1\n",
        "            print(f\"Perplejidad no mejoró. Paciencia: {self.patience_counter}/{self.patience}\")\n",
        "            if self.patience_counter >= self.patience:\n",
        "                print(\"Deteniendo el entrenamiento (Early Stopping)...\")\n",
        "                self.model.stop_training = True\n"
      ]
    },
    {
      "cell_type": "markdown",
      "metadata": {
        "id": "8HBZIwR0gruA"
      },
      "source": [
        "### Entrenamiento"
      ]
    },
    {
      "cell_type": "code",
      "execution_count": 48,
      "metadata": {
        "colab": {
          "base_uri": "https://localhost:8080/"
        },
        "id": "oQq1PHDkxDvN",
        "outputId": "60aab7f6-f1b3-471d-c29a-d118456ea318"
      },
      "outputs": [
        {
          "output_type": "stream",
          "name": "stdout",
          "text": [
            "Epoch 1/30\n",
            "\u001b[1m956/958\u001b[0m \u001b[32m━━━━━━━━━━━━━━━━━━━\u001b[0m\u001b[37m━\u001b[0m \u001b[1m0s\u001b[0m 25ms/step - accuracy: 0.2584 - loss: 2.6446\n",
            " Iniciando predicción de la epoca... \n",
            "\n",
            "\n",
            " Perplejidad promedio: 1.1295 \n",
            "\n",
            "Modelo guardado: Nueva mejor perplejidad: 1.1295\n",
            "\u001b[1m958/958\u001b[0m \u001b[32m━━━━━━━━━━━━━━━━━━━━\u001b[0m\u001b[37m\u001b[0m \u001b[1m32s\u001b[0m 27ms/step - accuracy: 0.2587 - loss: 2.6436\n",
            "Epoch 2/30\n",
            "\u001b[1m956/958\u001b[0m \u001b[32m━━━━━━━━━━━━━━━━━━━\u001b[0m\u001b[37m━\u001b[0m \u001b[1m0s\u001b[0m 25ms/step - accuracy: 0.4141 - loss: 1.9534\n",
            " Iniciando predicción de la epoca... \n",
            "\n",
            "\n",
            " Perplejidad promedio: 1.1082 \n",
            "\n",
            "Modelo guardado: Nueva mejor perplejidad: 1.1082\n",
            "\u001b[1m958/958\u001b[0m \u001b[32m━━━━━━━━━━━━━━━━━━━━\u001b[0m\u001b[37m\u001b[0m \u001b[1m39s\u001b[0m 26ms/step - accuracy: 0.4141 - loss: 1.9532\n",
            "Epoch 3/30\n",
            "\u001b[1m956/958\u001b[0m \u001b[32m━━━━━━━━━━━━━━━━━━━\u001b[0m\u001b[37m━\u001b[0m \u001b[1m0s\u001b[0m 25ms/step - accuracy: 0.4696 - loss: 1.7749\n",
            " Iniciando predicción de la epoca... \n",
            "\n",
            "\n",
            " Perplejidad promedio: 1.0993 \n",
            "\n",
            "Modelo guardado: Nueva mejor perplejidad: 1.0993\n",
            "\u001b[1m958/958\u001b[0m \u001b[32m━━━━━━━━━━━━━━━━━━━━\u001b[0m\u001b[37m\u001b[0m \u001b[1m25s\u001b[0m 26ms/step - accuracy: 0.4696 - loss: 1.7748\n",
            "Epoch 4/30\n",
            "\u001b[1m957/958\u001b[0m \u001b[32m━━━━━━━━━━━━━━━━━━━\u001b[0m\u001b[37m━\u001b[0m \u001b[1m0s\u001b[0m 25ms/step - accuracy: 0.4945 - loss: 1.6807\n",
            " Iniciando predicción de la epoca... \n",
            "\n",
            "\n",
            " Perplejidad promedio: 1.0953 \n",
            "\n",
            "Modelo guardado: Nueva mejor perplejidad: 1.0953\n",
            "\u001b[1m958/958\u001b[0m \u001b[32m━━━━━━━━━━━━━━━━━━━━\u001b[0m\u001b[37m\u001b[0m \u001b[1m24s\u001b[0m 25ms/step - accuracy: 0.4945 - loss: 1.6807\n",
            "Epoch 5/30\n",
            "\u001b[1m957/958\u001b[0m \u001b[32m━━━━━━━━━━━━━━━━━━━\u001b[0m\u001b[37m━\u001b[0m \u001b[1m0s\u001b[0m 25ms/step - accuracy: 0.5085 - loss: 1.6248\n",
            " Iniciando predicción de la epoca... \n",
            "\n",
            "\n",
            " Perplejidad promedio: 1.0926 \n",
            "\n",
            "Modelo guardado: Nueva mejor perplejidad: 1.0926\n",
            "\u001b[1m958/958\u001b[0m \u001b[32m━━━━━━━━━━━━━━━━━━━━\u001b[0m\u001b[37m\u001b[0m \u001b[1m41s\u001b[0m 25ms/step - accuracy: 0.5085 - loss: 1.6247\n",
            "Epoch 6/30\n",
            "\u001b[1m956/958\u001b[0m \u001b[32m━━━━━━━━━━━━━━━━━━━\u001b[0m\u001b[37m━\u001b[0m \u001b[1m0s\u001b[0m 25ms/step - accuracy: 0.5177 - loss: 1.5888\n",
            " Iniciando predicción de la epoca... \n",
            "\n",
            "\n",
            " Perplejidad promedio: 1.0912 \n",
            "\n",
            "Modelo guardado: Nueva mejor perplejidad: 1.0912\n",
            "\u001b[1m958/958\u001b[0m \u001b[32m━━━━━━━━━━━━━━━━━━━━\u001b[0m\u001b[37m\u001b[0m \u001b[1m41s\u001b[0m 26ms/step - accuracy: 0.5178 - loss: 1.5888\n",
            "Epoch 7/30\n",
            "\u001b[1m957/958\u001b[0m \u001b[32m━━━━━━━━━━━━━━━━━━━\u001b[0m\u001b[37m━\u001b[0m \u001b[1m0s\u001b[0m 25ms/step - accuracy: 0.5239 - loss: 1.5648\n",
            " Iniciando predicción de la epoca... \n",
            "\n",
            "\n",
            " Perplejidad promedio: 1.0906 \n",
            "\n",
            "Modelo guardado: Nueva mejor perplejidad: 1.0906\n",
            "\u001b[1m958/958\u001b[0m \u001b[32m━━━━━━━━━━━━━━━━━━━━\u001b[0m\u001b[37m\u001b[0m \u001b[1m25s\u001b[0m 26ms/step - accuracy: 0.5239 - loss: 1.5648\n",
            "Epoch 8/30\n",
            "\u001b[1m956/958\u001b[0m \u001b[32m━━━━━━━━━━━━━━━━━━━\u001b[0m\u001b[37m━\u001b[0m \u001b[1m0s\u001b[0m 25ms/step - accuracy: 0.5282 - loss: 1.5466\n",
            " Iniciando predicción de la epoca... \n",
            "\n",
            "\n",
            " Perplejidad promedio: 1.0902 \n",
            "\n",
            "Modelo guardado: Nueva mejor perplejidad: 1.0902\n",
            "\u001b[1m958/958\u001b[0m \u001b[32m━━━━━━━━━━━━━━━━━━━━\u001b[0m\u001b[37m\u001b[0m \u001b[1m41s\u001b[0m 26ms/step - accuracy: 0.5282 - loss: 1.5466\n",
            "Epoch 9/30\n",
            "\u001b[1m958/958\u001b[0m \u001b[32m━━━━━━━━━━━━━━━━━━━━\u001b[0m\u001b[37m\u001b[0m \u001b[1m0s\u001b[0m 25ms/step - accuracy: 0.5319 - loss: 1.5328\n",
            " Iniciando predicción de la epoca... \n",
            "\n",
            "\n",
            " Perplejidad promedio: 1.0901 \n",
            "\n",
            "Modelo guardado: Nueva mejor perplejidad: 1.0901\n",
            "\u001b[1m958/958\u001b[0m \u001b[32m━━━━━━━━━━━━━━━━━━━━\u001b[0m\u001b[37m\u001b[0m \u001b[1m41s\u001b[0m 26ms/step - accuracy: 0.5319 - loss: 1.5328\n",
            "Epoch 10/30\n",
            "\u001b[1m956/958\u001b[0m \u001b[32m━━━━━━━━━━━━━━━━━━━\u001b[0m\u001b[37m━\u001b[0m \u001b[1m0s\u001b[0m 25ms/step - accuracy: 0.5351 - loss: 1.5206\n",
            " Iniciando predicción de la epoca... \n",
            "\n",
            "\n",
            " Perplejidad promedio: 1.0908 \n",
            "\n",
            "Perplejidad no mejoró. Paciencia: 1/5\n",
            "\u001b[1m958/958\u001b[0m \u001b[32m━━━━━━━━━━━━━━━━━━━━\u001b[0m\u001b[37m\u001b[0m \u001b[1m41s\u001b[0m 26ms/step - accuracy: 0.5351 - loss: 1.5206\n",
            "Epoch 11/30\n",
            "\u001b[1m957/958\u001b[0m \u001b[32m━━━━━━━━━━━━━━━━━━━\u001b[0m\u001b[37m━\u001b[0m \u001b[1m0s\u001b[0m 25ms/step - accuracy: 0.5374 - loss: 1.5112\n",
            " Iniciando predicción de la epoca... \n",
            "\n",
            "\n",
            " Perplejidad promedio: 1.0902 \n",
            "\n",
            "Perplejidad no mejoró. Paciencia: 2/5\n",
            "\u001b[1m958/958\u001b[0m \u001b[32m━━━━━━━━━━━━━━━━━━━━\u001b[0m\u001b[37m\u001b[0m \u001b[1m40s\u001b[0m 26ms/step - accuracy: 0.5374 - loss: 1.5112\n",
            "Epoch 12/30\n",
            "\u001b[1m956/958\u001b[0m \u001b[32m━━━━━━━━━━━━━━━━━━━\u001b[0m\u001b[37m━\u001b[0m \u001b[1m0s\u001b[0m 25ms/step - accuracy: 0.5393 - loss: 1.5033\n",
            " Iniciando predicción de la epoca... \n",
            "\n",
            "\n",
            " Perplejidad promedio: 1.0899 \n",
            "\n",
            "Modelo guardado: Nueva mejor perplejidad: 1.0899\n",
            "\u001b[1m958/958\u001b[0m \u001b[32m━━━━━━━━━━━━━━━━━━━━\u001b[0m\u001b[37m\u001b[0m \u001b[1m25s\u001b[0m 26ms/step - accuracy: 0.5393 - loss: 1.5033\n",
            "Epoch 13/30\n",
            "\u001b[1m956/958\u001b[0m \u001b[32m━━━━━━━━━━━━━━━━━━━\u001b[0m\u001b[37m━\u001b[0m \u001b[1m0s\u001b[0m 25ms/step - accuracy: 0.5409 - loss: 1.4967\n",
            " Iniciando predicción de la epoca... \n",
            "\n",
            "\n",
            " Perplejidad promedio: 1.0901 \n",
            "\n",
            "Perplejidad no mejoró. Paciencia: 1/5\n",
            "\u001b[1m958/958\u001b[0m \u001b[32m━━━━━━━━━━━━━━━━━━━━\u001b[0m\u001b[37m\u001b[0m \u001b[1m25s\u001b[0m 26ms/step - accuracy: 0.5409 - loss: 1.4967\n",
            "Epoch 14/30\n",
            "\u001b[1m956/958\u001b[0m \u001b[32m━━━━━━━━━━━━━━━━━━━\u001b[0m\u001b[37m━\u001b[0m \u001b[1m0s\u001b[0m 25ms/step - accuracy: 0.5423 - loss: 1.4908\n",
            " Iniciando predicción de la epoca... \n",
            "\n",
            "\n",
            " Perplejidad promedio: 1.0903 \n",
            "\n",
            "Perplejidad no mejoró. Paciencia: 2/5\n",
            "\u001b[1m958/958\u001b[0m \u001b[32m━━━━━━━━━━━━━━━━━━━━\u001b[0m\u001b[37m\u001b[0m \u001b[1m41s\u001b[0m 26ms/step - accuracy: 0.5423 - loss: 1.4908\n",
            "Epoch 15/30\n",
            "\u001b[1m957/958\u001b[0m \u001b[32m━━━━━━━━━━━━━━━━━━━\u001b[0m\u001b[37m━\u001b[0m \u001b[1m0s\u001b[0m 26ms/step - accuracy: 0.5436 - loss: 1.4856\n",
            " Iniciando predicción de la epoca... \n",
            "\n",
            "\n",
            " Perplejidad promedio: 1.0899 \n",
            "\n",
            "Perplejidad no mejoró. Paciencia: 3/5\n",
            "\u001b[1m958/958\u001b[0m \u001b[32m━━━━━━━━━━━━━━━━━━━━\u001b[0m\u001b[37m\u001b[0m \u001b[1m41s\u001b[0m 26ms/step - accuracy: 0.5436 - loss: 1.4856\n",
            "Epoch 16/30\n",
            "\u001b[1m957/958\u001b[0m \u001b[32m━━━━━━━━━━━━━━━━━━━\u001b[0m\u001b[37m━\u001b[0m \u001b[1m0s\u001b[0m 25ms/step - accuracy: 0.5446 - loss: 1.4811\n",
            " Iniciando predicción de la epoca... \n",
            "\n",
            "\n",
            " Perplejidad promedio: 1.0906 \n",
            "\n",
            "Perplejidad no mejoró. Paciencia: 4/5\n",
            "\u001b[1m958/958\u001b[0m \u001b[32m━━━━━━━━━━━━━━━━━━━━\u001b[0m\u001b[37m\u001b[0m \u001b[1m25s\u001b[0m 26ms/step - accuracy: 0.5446 - loss: 1.4811\n",
            "Epoch 17/30\n",
            "\u001b[1m957/958\u001b[0m \u001b[32m━━━━━━━━━━━━━━━━━━━\u001b[0m\u001b[37m━\u001b[0m \u001b[1m0s\u001b[0m 26ms/step - accuracy: 0.5455 - loss: 1.4772\n",
            " Iniciando predicción de la epoca... \n",
            "\n",
            "\n",
            " Perplejidad promedio: 1.0893 \n",
            "\n",
            "Modelo guardado: Nueva mejor perplejidad: 1.0893\n",
            "\u001b[1m958/958\u001b[0m \u001b[32m━━━━━━━━━━━━━━━━━━━━\u001b[0m\u001b[37m\u001b[0m \u001b[1m42s\u001b[0m 27ms/step - accuracy: 0.5455 - loss: 1.4772\n",
            "Epoch 18/30\n",
            "\u001b[1m957/958\u001b[0m \u001b[32m━━━━━━━━━━━━━━━━━━━\u001b[0m\u001b[37m━\u001b[0m \u001b[1m0s\u001b[0m 26ms/step - accuracy: 0.5464 - loss: 1.4735\n",
            " Iniciando predicción de la epoca... \n",
            "\n",
            "\n",
            " Perplejidad promedio: 1.0894 \n",
            "\n",
            "Perplejidad no mejoró. Paciencia: 1/5\n",
            "\u001b[1m958/958\u001b[0m \u001b[32m━━━━━━━━━━━━━━━━━━━━\u001b[0m\u001b[37m\u001b[0m \u001b[1m40s\u001b[0m 26ms/step - accuracy: 0.5464 - loss: 1.4735\n",
            "Epoch 19/30\n",
            "\u001b[1m957/958\u001b[0m \u001b[32m━━━━━━━━━━━━━━━━━━━\u001b[0m\u001b[37m━\u001b[0m \u001b[1m0s\u001b[0m 25ms/step - accuracy: 0.5471 - loss: 1.4703\n",
            " Iniciando predicción de la epoca... \n",
            "\n",
            "\n",
            " Perplejidad promedio: 1.0894 \n",
            "\n",
            "Perplejidad no mejoró. Paciencia: 2/5\n",
            "\u001b[1m958/958\u001b[0m \u001b[32m━━━━━━━━━━━━━━━━━━━━\u001b[0m\u001b[37m\u001b[0m \u001b[1m41s\u001b[0m 26ms/step - accuracy: 0.5471 - loss: 1.4703\n",
            "Epoch 20/30\n",
            "\u001b[1m956/958\u001b[0m \u001b[32m━━━━━━━━━━━━━━━━━━━\u001b[0m\u001b[37m━\u001b[0m \u001b[1m0s\u001b[0m 26ms/step - accuracy: 0.5479 - loss: 1.4669\n",
            " Iniciando predicción de la epoca... \n",
            "\n",
            "\n",
            " Perplejidad promedio: 1.0890 \n",
            "\n",
            "Modelo guardado: Nueva mejor perplejidad: 1.0890\n",
            "\u001b[1m958/958\u001b[0m \u001b[32m━━━━━━━━━━━━━━━━━━━━\u001b[0m\u001b[37m\u001b[0m \u001b[1m41s\u001b[0m 26ms/step - accuracy: 0.5479 - loss: 1.4669\n",
            "Epoch 21/30\n",
            "\u001b[1m956/958\u001b[0m \u001b[32m━━━━━━━━━━━━━━━━━━━\u001b[0m\u001b[37m━\u001b[0m \u001b[1m0s\u001b[0m 26ms/step - accuracy: 0.5485 - loss: 1.4644\n",
            " Iniciando predicción de la epoca... \n",
            "\n",
            "\n",
            " Perplejidad promedio: 1.0891 \n",
            "\n",
            "Perplejidad no mejoró. Paciencia: 1/5\n",
            "\u001b[1m958/958\u001b[0m \u001b[32m━━━━━━━━━━━━━━━━━━━━\u001b[0m\u001b[37m\u001b[0m \u001b[1m41s\u001b[0m 26ms/step - accuracy: 0.5485 - loss: 1.4644\n",
            "Epoch 22/30\n",
            "\u001b[1m956/958\u001b[0m \u001b[32m━━━━━━━━━━━━━━━━━━━\u001b[0m\u001b[37m━\u001b[0m \u001b[1m0s\u001b[0m 26ms/step - accuracy: 0.5492 - loss: 1.4615\n",
            " Iniciando predicción de la epoca... \n",
            "\n",
            "\n",
            " Perplejidad promedio: 1.0891 \n",
            "\n",
            "Perplejidad no mejoró. Paciencia: 2/5\n",
            "\u001b[1m958/958\u001b[0m \u001b[32m━━━━━━━━━━━━━━━━━━━━\u001b[0m\u001b[37m\u001b[0m \u001b[1m41s\u001b[0m 26ms/step - accuracy: 0.5492 - loss: 1.4615\n",
            "Epoch 23/30\n",
            "\u001b[1m957/958\u001b[0m \u001b[32m━━━━━━━━━━━━━━━━━━━\u001b[0m\u001b[37m━\u001b[0m \u001b[1m0s\u001b[0m 26ms/step - accuracy: 0.5497 - loss: 1.4592\n",
            " Iniciando predicción de la epoca... \n",
            "\n",
            "\n",
            " Perplejidad promedio: 1.0889 \n",
            "\n",
            "Modelo guardado: Nueva mejor perplejidad: 1.0889\n",
            "\u001b[1m958/958\u001b[0m \u001b[32m━━━━━━━━━━━━━━━━━━━━\u001b[0m\u001b[37m\u001b[0m \u001b[1m41s\u001b[0m 26ms/step - accuracy: 0.5497 - loss: 1.4592\n",
            "Epoch 24/30\n",
            "\u001b[1m956/958\u001b[0m \u001b[32m━━━━━━━━━━━━━━━━━━━\u001b[0m\u001b[37m━\u001b[0m \u001b[1m0s\u001b[0m 26ms/step - accuracy: 0.5502 - loss: 1.4569\n",
            " Iniciando predicción de la epoca... \n",
            "\n",
            "\n",
            " Perplejidad promedio: 1.0887 \n",
            "\n",
            "Modelo guardado: Nueva mejor perplejidad: 1.0887\n",
            "\u001b[1m958/958\u001b[0m \u001b[32m━━━━━━━━━━━━━━━━━━━━\u001b[0m\u001b[37m\u001b[0m \u001b[1m25s\u001b[0m 26ms/step - accuracy: 0.5502 - loss: 1.4569\n",
            "Epoch 25/30\n",
            "\u001b[1m957/958\u001b[0m \u001b[32m━━━━━━━━━━━━━━━━━━━\u001b[0m\u001b[37m━\u001b[0m \u001b[1m0s\u001b[0m 25ms/step - accuracy: 0.5507 - loss: 1.4550\n",
            " Iniciando predicción de la epoca... \n",
            "\n",
            "\n",
            " Perplejidad promedio: 1.0886 \n",
            "\n",
            "Modelo guardado: Nueva mejor perplejidad: 1.0886\n",
            "\u001b[1m958/958\u001b[0m \u001b[32m━━━━━━━━━━━━━━━━━━━━\u001b[0m\u001b[37m\u001b[0m \u001b[1m41s\u001b[0m 26ms/step - accuracy: 0.5507 - loss: 1.4550\n",
            "Epoch 26/30\n",
            "\u001b[1m957/958\u001b[0m \u001b[32m━━━━━━━━━━━━━━━━━━━\u001b[0m\u001b[37m━\u001b[0m \u001b[1m0s\u001b[0m 26ms/step - accuracy: 0.5513 - loss: 1.4526\n",
            " Iniciando predicción de la epoca... \n",
            "\n",
            "\n",
            " Perplejidad promedio: 1.0889 \n",
            "\n",
            "Perplejidad no mejoró. Paciencia: 1/5\n",
            "\u001b[1m958/958\u001b[0m \u001b[32m━━━━━━━━━━━━━━━━━━━━\u001b[0m\u001b[37m\u001b[0m \u001b[1m41s\u001b[0m 27ms/step - accuracy: 0.5513 - loss: 1.4526\n",
            "Epoch 27/30\n",
            "\u001b[1m957/958\u001b[0m \u001b[32m━━━━━━━━━━━━━━━━━━━\u001b[0m\u001b[37m━\u001b[0m \u001b[1m0s\u001b[0m 25ms/step - accuracy: 0.5519 - loss: 1.4506\n",
            " Iniciando predicción de la epoca... \n",
            "\n",
            "\n",
            " Perplejidad promedio: 1.0888 \n",
            "\n",
            "Perplejidad no mejoró. Paciencia: 2/5\n",
            "\u001b[1m958/958\u001b[0m \u001b[32m━━━━━━━━━━━━━━━━━━━━\u001b[0m\u001b[37m\u001b[0m \u001b[1m41s\u001b[0m 27ms/step - accuracy: 0.5519 - loss: 1.4506\n",
            "Epoch 28/30\n",
            "\u001b[1m956/958\u001b[0m \u001b[32m━━━━━━━━━━━━━━━━━━━\u001b[0m\u001b[37m━\u001b[0m \u001b[1m0s\u001b[0m 26ms/step - accuracy: 0.5521 - loss: 1.4493\n",
            " Iniciando predicción de la epoca... \n",
            "\n",
            "\n",
            " Perplejidad promedio: 1.0892 \n",
            "\n",
            "Perplejidad no mejoró. Paciencia: 3/5\n",
            "\u001b[1m958/958\u001b[0m \u001b[32m━━━━━━━━━━━━━━━━━━━━\u001b[0m\u001b[37m\u001b[0m \u001b[1m41s\u001b[0m 27ms/step - accuracy: 0.5521 - loss: 1.4493\n",
            "Epoch 29/30\n",
            "\u001b[1m957/958\u001b[0m \u001b[32m━━━━━━━━━━━━━━━━━━━\u001b[0m\u001b[37m━\u001b[0m \u001b[1m0s\u001b[0m 26ms/step - accuracy: 0.5526 - loss: 1.4474\n",
            " Iniciando predicción de la epoca... \n",
            "\n",
            "\n",
            " Perplejidad promedio: 1.0889 \n",
            "\n",
            "Perplejidad no mejoró. Paciencia: 4/5\n",
            "\u001b[1m958/958\u001b[0m \u001b[32m━━━━━━━━━━━━━━━━━━━━\u001b[0m\u001b[37m\u001b[0m \u001b[1m42s\u001b[0m 27ms/step - accuracy: 0.5526 - loss: 1.4474\n",
            "Epoch 30/30\n",
            "\u001b[1m956/958\u001b[0m \u001b[32m━━━━━━━━━━━━━━━━━━━\u001b[0m\u001b[37m━\u001b[0m \u001b[1m0s\u001b[0m 25ms/step - accuracy: 0.5527 - loss: 1.4463\n",
            " Iniciando predicción de la epoca... \n",
            "\n",
            "\n",
            " Perplejidad promedio: 1.0891 \n",
            "\n",
            "Perplejidad no mejoró. Paciencia: 5/5\n",
            "Deteniendo el entrenamiento (Early Stopping)...\n",
            "\u001b[1m958/958\u001b[0m \u001b[32m━━━━━━━━━━━━━━━━━━━━\u001b[0m\u001b[37m\u001b[0m \u001b[1m40s\u001b[0m 26ms/step - accuracy: 0.5527 - loss: 1.4463\n"
          ]
        }
      ],
      "source": [
        "history_ppl = []\n",
        "callback = PplCallback(tokenized_sentences_val, history_ppl, sample_size=256, batch_size_pred=1048)\n",
        "hist = model.fit(X, y, epochs=30, callbacks=[callback], batch_size=1048)"
      ]
    },
    {
      "cell_type": "code",
      "execution_count": 49,
      "metadata": {
        "id": "K30JHB3Dv-mx",
        "colab": {
          "base_uri": "https://localhost:8080/",
          "height": 430
        },
        "outputId": "bca714de-c2c8-4a73-8bfe-250314a8c178"
      },
      "outputs": [
        {
          "output_type": "display_data",
          "data": {
            "text/plain": [
              "<Figure size 640x480 with 1 Axes>"
            ],
            "image/png": "[encoded data removed]"
          },
          "metadata": {}
        }
      ],
      "source": [
        "import matplotlib.pyplot as plt\n",
        "import seaborn as sns\n",
        "\n",
        "# Entrenamiento\n",
        "epoch_count = range(1, len(history_ppl) + 1)\n",
        "sns.lineplot(x=epoch_count,  y=history_ppl)\n",
        "plt.show()"
      ]
    },
    {
      "cell_type": "code",
      "execution_count": 50,
      "metadata": {
        "id": "Rhy5hZN38qfO"
      },
      "outputs": [],
      "source": [
        "# Cargamos el mejor modelo guardado del entrenamiento para hacer inferencia\n",
        "model = keras.models.load_model('my_model.keras')"
      ]
    },
    {
      "cell_type": "markdown",
      "metadata": {
        "id": "KN6Fg_BsxJe6"
      },
      "source": [
        "\n",
        "### Predicción del próximo caracter"
      ]
    },
    {
      "cell_type": "code",
      "execution_count": 51,
      "metadata": {
        "id": "IBvKHFPmzpy2"
      },
      "outputs": [],
      "source": [
        "# Se puede usar gradio para probar el modelo\n",
        "# Gradio es una herramienta muy útil para crear interfaces para ensayar modelos\n",
        "# https://gradio.app/\n",
        "\n",
        "!pip install -q gradio"
      ]
    },
    {
      "cell_type": "code",
      "execution_count": 52,
      "metadata": {
        "id": "HNyBykvhzs7-",
        "colab": {
          "base_uri": "https://localhost:8080/",
          "height": 923
        },
        "outputId": "d8f5a44f-9749-4672-d6f2-148728060018"
      },
      "outputs": [
        {
          "output_type": "stream",
          "name": "stdout",
          "text": [
            "It looks like you are running Gradio on a hosted a Jupyter notebook. For the Gradio app to work, sharing must be enabled. Automatically setting `share=True` (you can turn this off by setting `share=False` in `launch()` explicitly).\n",
            "\n",
            "Colab notebook detected. This cell will run indefinitely so that you can see errors and logs. To turn off, set debug=False in launch().\n",
            "* Running on public URL: https://c73860e4eddf2af18e.gradio.live\n",
            "\n",
            "This share link expires in 1 week. For free permanent hosting and GPU upgrades, run `gradio deploy` from the terminal in the working directory to deploy to Hugging Face Spaces (https://huggingface.co/spaces)\n"
          ]
        },
        {
          "output_type": "display_data",
          "data": {
            "text/plain": [
              "<IPython.core.display.HTML object>"
            ],
            "text/html": [
              "<div><iframe src=\"https://c73860e4eddf2af18e.gradio.live\" width=\"100%\" height=\"500\" allow=\"autoplay; camera; microphone; clipboard-read; clipboard-write;\" frameborder=\"0\" allowfullscreen></iframe></div>"
            ]
          },
          "metadata": {}
        },
        {
          "output_type": "stream",
          "name": "stdout",
          "text": [
            "\u001b[1m1/1\u001b[0m \u001b[32m━━━━━━━━━━━━━━━━━━━━\u001b[0m\u001b[37m\u001b[0m \u001b[1m1s\u001b[0m 959ms/step\n",
            "\u001b[1m1/1\u001b[0m \u001b[32m━━━━━━━━━━━━━━━━━━━━\u001b[0m\u001b[37m\u001b[0m \u001b[1m0s\u001b[0m 44ms/step\n",
            "\u001b[1m1/1\u001b[0m \u001b[32m━━━━━━━━━━━━━━━━━━━━\u001b[0m\u001b[37m\u001b[0m \u001b[1m0s\u001b[0m 32ms/step\n",
            "\u001b[1m1/1\u001b[0m \u001b[32m━━━━━━━━━━━━━━━━━━━━\u001b[0m\u001b[37m\u001b[0m \u001b[1m0s\u001b[0m 34ms/step\n",
            "\u001b[1m1/1\u001b[0m \u001b[32m━━━━━━━━━━━━━━━━━━━━\u001b[0m\u001b[37m\u001b[0m \u001b[1m0s\u001b[0m 31ms/step\n",
            "\u001b[1m1/1\u001b[0m \u001b[32m━━━━━━━━━━━━━━━━━━━━\u001b[0m\u001b[37m\u001b[0m \u001b[1m0s\u001b[0m 32ms/step\n",
            "\u001b[1m1/1\u001b[0m \u001b[32m━━━━━━━━━━━━━━━━━━━━\u001b[0m\u001b[37m\u001b[0m \u001b[1m0s\u001b[0m 32ms/step\n",
            "\u001b[1m1/1\u001b[0m \u001b[32m━━━━━━━━━━━━━━━━━━━━\u001b[0m\u001b[37m\u001b[0m \u001b[1m0s\u001b[0m 32ms/step\n",
            "\u001b[1m1/1\u001b[0m \u001b[32m━━━━━━━━━━━━━━━━━━━━\u001b[0m\u001b[37m\u001b[0m \u001b[1m0s\u001b[0m 32ms/step\n",
            "\u001b[1m1/1\u001b[0m \u001b[32m━━━━━━━━━━━━━━━━━━━━\u001b[0m\u001b[37m\u001b[0m \u001b[1m0s\u001b[0m 32ms/step\n",
            "\u001b[1m1/1\u001b[0m \u001b[32m━━━━━━━━━━━━━━━━━━━━\u001b[0m\u001b[37m\u001b[0m \u001b[1m0s\u001b[0m 32ms/step\n",
            "\u001b[1m1/1\u001b[0m \u001b[32m━━━━━━━━━━━━━━━━━━━━\u001b[0m\u001b[37m\u001b[0m \u001b[1m0s\u001b[0m 33ms/step\n",
            "\u001b[1m1/1\u001b[0m \u001b[32m━━━━━━━━━━━━━━━━━━━━\u001b[0m\u001b[37m\u001b[0m \u001b[1m0s\u001b[0m 32ms/step\n",
            "\u001b[1m1/1\u001b[0m \u001b[32m━━━━━━━━━━━━━━━━━━━━\u001b[0m\u001b[37m\u001b[0m \u001b[1m0s\u001b[0m 32ms/step\n",
            "Keyboard interruption in main thread... closing server.\n",
            "Killing tunnel 127.0.0.1:7860 <> https://c73860e4eddf2af18e.gradio.live\n"
          ]
        },
        {
          "output_type": "execute_result",
          "data": {
            "text/plain": []
          },
          "metadata": {},
          "execution_count": 52
        }
      ],
      "source": [
        "import gradio as gr\n",
        "\n",
        "def model_response(human_text):\n",
        "\n",
        "    # Encodeamos\n",
        "    encoded = [char2idx[ch] for ch in human_text.lower() ]\n",
        "    # Si tienen distinto largo\n",
        "    encoded = pad_sequences([encoded], maxlen=max_context_size, padding='pre')\n",
        "\n",
        "    # Predicción softmax\n",
        "    y_hat = np.argmax(model.predict(encoded)[0,-1,:])\n",
        "\n",
        "\n",
        "    # Debemos buscar en el vocabulario el caracter\n",
        "    # que corresopnde al indice (y_hat) predicho por le modelo\n",
        "    out_word = ''\n",
        "    out_word = idx2char[y_hat]\n",
        "\n",
        "    # Agrego la palabra a la frase predicha\n",
        "    return human_text + out_word\n",
        "\n",
        "iface = gr.Interface(\n",
        "    fn=model_response,\n",
        "    inputs=[\"textbox\"],\n",
        "    outputs=\"text\")\n",
        "\n",
        "iface.launch(debug=True)"
      ]
    },
    {
      "cell_type": "markdown",
      "metadata": {
        "id": "mCeMWWupxN1-"
      },
      "source": [
        "### Generación de secuencias"
      ]
    },
    {
      "cell_type": "code",
      "execution_count": 53,
      "metadata": {
        "id": "bwbS_pfhxvB3"
      },
      "outputs": [],
      "source": [
        "def generate_seq(model, seed_text, max_length, n_words):\n",
        "    \"\"\"\n",
        "        Exec model sequence prediction\n",
        "\n",
        "        Args:\n",
        "            model (keras): modelo entrenado\n",
        "            seed_text (string): texto de entrada (input_seq)\n",
        "            max_length (int): máxima longitud de la sequencia de entrada\n",
        "            n_words (int): números de caracteres a agregar a la sequencia de entrada\n",
        "        returns:\n",
        "            output_text (string): sentencia con las \"n_words\" agregadas\n",
        "    \"\"\"\n",
        "    output_text = seed_text\n",
        "\t# generate a fixed number of words\n",
        "    for _ in range(n_words):\n",
        "\t\t# Encodeamos\n",
        "        encoded = [char2idx[ch] for ch in output_text.lower() ]\n",
        "\t\t# Si tienen distinto largo\n",
        "        encoded = pad_sequences([encoded], maxlen=max_length, padding='pre')\n",
        "\n",
        "\t\t# Predicción softmax\n",
        "        y_hat = np.argmax(model.predict(encoded,verbose=0)[0,-1,:])\n",
        "\t\t# Vamos concatenando las predicciones\n",
        "        out_word = ''\n",
        "\n",
        "        out_word = idx2char[y_hat]\n",
        "\n",
        "\t\t# Agrego las palabras a la frase predicha\n",
        "        output_text += out_word\n",
        "    return output_text"
      ]
    },
    {
      "cell_type": "code",
      "execution_count": 54,
      "metadata": {
        "id": "JoFqRC5pxzqS",
        "colab": {
          "base_uri": "https://localhost:8080/",
          "height": 35
        },
        "outputId": "8d9ca493-d556-4551-99a3-5a5f9a5597cf"
      },
      "outputs": [
        {
          "output_type": "execute_result",
          "data": {
            "text/plain": [
              "'once upponious country that the father t'"
            ],
            "application/vnd.google.colaboratory.intrinsic+json": {
              "type": "string"
            }
          },
          "metadata": {},
          "execution_count": 54
        }
      ],
      "source": [
        "input_text='once uppon'\n",
        "\n",
        "generate_seq(model, input_text, max_length=max_context_size, n_words=30)"
      ]
    },
    {
      "cell_type": "markdown",
      "metadata": {
        "id": "drJ6xn5qW1Hl"
      },
      "source": [
        "###  Beam search y muestreo aleatorio"
      ]
    },
    {
      "cell_type": "code",
      "execution_count": 55,
      "metadata": {
        "id": "_vovn9XZW1Hl"
      },
      "outputs": [],
      "source": [
        "# funcionalidades para hacer encoding y decoding\n",
        "\n",
        "def encode(text,max_length=max_context_size):\n",
        "\n",
        "    encoded = [char2idx[ch] for ch in text]\n",
        "    encoded = pad_sequences([encoded], maxlen=max_length, padding='pre')\n",
        "\n",
        "    return encoded\n",
        "\n",
        "def decode(seq):\n",
        "    return ''.join([idx2char[ch] for ch in seq])"
      ]
    },
    {
      "cell_type": "code",
      "execution_count": 56,
      "metadata": {
        "id": "I_lZiQwkW1Hl"
      },
      "outputs": [],
      "source": [
        "from scipy.special import softmax\n",
        "\n",
        "# función que selecciona candidatos para el beam search\n",
        "def select_candidates(pred,num_beams,vocab_size,history_probs,history_tokens,temp,mode):\n",
        "\n",
        "  # colectar todas las probabilidades para la siguiente búsqueda\n",
        "  pred_large = []\n",
        "\n",
        "  for idx,pp in enumerate(pred):\n",
        "    pred_large.extend(np.log(pp+1E-10)+history_probs[idx])\n",
        "\n",
        "  pred_large = np.array(pred_large)\n",
        "\n",
        "  # criterio de selección\n",
        "  if mode == 'det':\n",
        "    idx_select = np.argsort(pred_large)[::-1][:num_beams] # beam search determinista\n",
        "  elif mode == 'sto':\n",
        "    idx_select = np.random.choice(np.arange(pred_large.shape[0]), num_beams, p=softmax(pred_large/temp)) # beam search con muestreo aleatorio\n",
        "  else:\n",
        "    raise ValueError(f'Wrong selection mode. {mode} was given. det and sto are supported.')\n",
        "\n",
        "  # traducir a índices de token en el vocabulario\n",
        "  new_history_tokens = np.concatenate((np.array(history_tokens)[idx_select//vocab_size],\n",
        "                        np.array([idx_select%vocab_size]).T),\n",
        "                      axis=1)\n",
        "\n",
        "  # devolver el producto de las probabilidades (log) y la secuencia de tokens seleccionados\n",
        "  return pred_large[idx_select.astype(int)], new_history_tokens.astype(int)\n",
        "\n",
        "\n",
        "def beam_search(model,num_beams,num_words,input,temp=0.8,mode='sto'):\n",
        "\n",
        "    # first iteration\n",
        "\n",
        "    # encode\n",
        "    encoded = encode(input)\n",
        "\n",
        "    # first prediction\n",
        "    y_hat = model.predict(encoded,verbose=0)[0,-1,:]\n",
        "\n",
        "    # get vocabulary size\n",
        "    vocab_size = y_hat.shape[0]\n",
        "\n",
        "    # initialize history\n",
        "    history_probs = [0]*num_beams\n",
        "    history_tokens = [encoded[0]]*num_beams\n",
        "\n",
        "    # select num_beams candidates\n",
        "    history_probs, history_tokens = select_candidates([y_hat],\n",
        "                                        num_beams,\n",
        "                                        vocab_size,\n",
        "                                        history_probs,\n",
        "                                        history_tokens,\n",
        "                                        temp,\n",
        "                                        mode)\n",
        "\n",
        "    # beam search loop\n",
        "    for i in range(num_words-1):\n",
        "\n",
        "      preds = []\n",
        "\n",
        "      for hist in history_tokens:\n",
        "\n",
        "        # actualizar secuencia de tokens\n",
        "        input_update = np.array([hist[i+1:]]).copy()\n",
        "\n",
        "        # predicción\n",
        "        y_hat = model.predict(input_update,verbose=0)[0,-1,:]\n",
        "\n",
        "        preds.append(y_hat)\n",
        "\n",
        "      history_probs, history_tokens = select_candidates(preds,\n",
        "                                                        num_beams,\n",
        "                                                        vocab_size,\n",
        "                                                        history_probs,\n",
        "                                                        history_tokens,\n",
        "                                                        temp,\n",
        "                                                        mode)\n",
        "\n",
        "    return history_tokens[:,-(len(input)+num_words):]"
      ]
    },
    {
      "cell_type": "code",
      "execution_count": 57,
      "metadata": {
        "id": "GeLqAoOYW1Hm"
      },
      "outputs": [],
      "source": [
        "# predicción con beam search\n",
        "salidas = beam_search(model,num_beams=10,num_words=20,input=\"once uppon\")"
      ]
    },
    {
      "cell_type": "code",
      "execution_count": 58,
      "metadata": {
        "id": "P8HQoLhw-NYg",
        "colab": {
          "base_uri": "https://localhost:8080/"
        },
        "outputId": "7848cd49-0f96-46ee-b115-d045c588b056"
      },
      "outputs": [
        {
          "output_type": "execute_result",
          "data": {
            "text/plain": [
              "array([10, 36, 32, 34,  4, 38, 25, 25, 10, 36, 15, 10, 38, 37,  4, 23, 24,\n",
              "       15, 34, 36, 30, 37,  4,  7, 15,  0, 33,  4, 35, 26])"
            ]
          },
          "metadata": {},
          "execution_count": 58
        }
      ],
      "source": [
        "salidas[0]"
      ]
    },
    {
      "cell_type": "code",
      "execution_count": 59,
      "metadata": {
        "id": "2S3_I3S1W1Hm",
        "colab": {
          "base_uri": "https://localhost:8080/",
          "height": 35
        },
        "outputId": "f30bb115-e82a-4dcd-d591-8033e40b73af"
      },
      "outputs": [
        {
          "output_type": "execute_result",
          "data": {
            "text/plain": [
              "'once upponious friends with my'"
            ],
            "application/vnd.google.colaboratory.intrinsic+json": {
              "type": "string"
            }
          },
          "metadata": {},
          "execution_count": 59
        }
      ],
      "source": [
        "# veamos las salidas\n",
        "decode(salidas[0])"
      ]
    },
    {
      "cell_type": "markdown",
      "metadata": {
        "id": "Q_LlqmtEW1Hn"
      },
      "source": [
        "# Perplejidad"
      ]
    },
    {
      "cell_type": "code",
      "execution_count": 60,
      "metadata": {
        "id": "D2xAxNCzAu0h"
      },
      "outputs": [],
      "source": [
        "import matplotlib.pyplot as plt\n",
        "import seaborn as sns"
      ]
    },
    {
      "cell_type": "code",
      "execution_count": 61,
      "metadata": {
        "id": "z1nG5ll8Au0h",
        "colab": {
          "base_uri": "https://localhost:8080/",
          "height": 413
        },
        "outputId": "870c7de9-4d9e-41a7-f828-b771b024d489"
      },
      "outputs": [
        {
          "output_type": "display_data",
          "data": {
            "text/plain": [
              "<Figure size 800x400 with 1 Axes>"
            ],
            "image/png": "[encoded data removed]"
          },
          "metadata": {}
        }
      ],
      "source": [
        "plt.figure(figsize=(8,4))\n",
        "sns.lineplot(x=range(1, len(history_ppl)+1), y=history_ppl)\n",
        "plt.title(\"Perplejidad por época\")\n",
        "plt.xlabel(\"Época\")\n",
        "plt.ylabel(\"Perplejidad\")\n",
        "plt.grid(True)\n",
        "plt.show()"
      ]
    },
    {
      "cell_type": "markdown",
      "metadata": {
        "id": "3pz1n_ziAu0h"
      },
      "source": [
        "# Accuracy"
      ]
    },
    {
      "cell_type": "code",
      "execution_count": 62,
      "metadata": {
        "id": "2RYrdpxVAu0h",
        "colab": {
          "base_uri": "https://localhost:8080/",
          "height": 413
        },
        "outputId": "3c485889-dba1-4570-fbe6-eefffc44ab5d"
      },
      "outputs": [
        {
          "output_type": "display_data",
          "data": {
            "text/plain": [
              "<Figure size 800x400 with 1 Axes>"
            ],
            "image/png": "[encoded data removed]"
          },
          "metadata": {}
        }
      ],
      "source": [
        "plt.figure(figsize=(8,4))\n",
        "sns.lineplot(x=range(1, len(hist.history['accuracy'])+1), y=hist.history['accuracy'], label='Train accuracy')\n",
        "plt.title(\"Precisión por época\")\n",
        "plt.xlabel(\"Época\")\n",
        "plt.ylabel(\"Accuracy\")\n",
        "plt.grid(True)\n",
        "plt.legend()\n",
        "plt.show()"
      ]
    },
    {
      "cell_type": "markdown",
      "source": [
        "## Conclusiones"
      ],
      "metadata": {
        "id": "_e5wJm_MXCa2"
      }
    },
    {
      "cell_type": "markdown",
      "source": [
        "En los primeros ensayos no se lograba alcanzar con ningún corpus un uso adecuado de la notebook ya que se saturaba la memoria de Colab.\n",
        "\n",
        "Ante esto, se tomaron distintas medidas para resolverlo.\n",
        "Primero se redujo el valor del contexto a 40 y se busco un corpus más pequeño, eligiéndose “Tiny Shakespeare”.\n",
        "\n",
        "Después se redujeron las neuronas a 16 en el modelo LSTM, pero agregándose otra capa densa. Asimismo se bajaron los samples del modelo a 1000, ya que completaban más de 300000 y saturaba el sistema. Si bien en este punto, el sistema completaba el entrenamiento, solo predecía siempre la misma palabra (“the”, “that”).\n",
        "\n",
        "Posteriormente se subieron el número de neuronas a 32 y se logró una mejora en la perplejidad, accuracy y perdida.\n",
        "\n",
        "También se cambio el optimizador, pasando de Adam a RMSprop, se subieron los samples a 4000 y el contexto a 100, obteniendo valores de métricas superiores, pero resultados en la predicción bastante insatisfactorios, ya que predecian siempre las mismas dos palabras.\n",
        "\n",
        "Finalmente se cambia el modelo a GRU, y se lográ un aumento significativo en la velocidad de entrenamiento, así como un incremento en las métricas, por lo que se vuelve a incrementar las épocas, llevandolas a 30, y las neuronas a 64.\n",
        "De esta manera se logra un resultado final con Perplejidad de 1.0891, accuracy de 0.5527 y perdida de 1.4463.\n",
        "Se observó también que la perplejidad ya no seguía mejorando y se volvía más inestable, por lo que se interpreta que con el corpus utilizado se llegó al máximo de la capacidad de entrenamiento que nos permitía el entorno de Colab con estos parámetros.\n",
        "Como resultado, se lograron resultados mucho mejores, con predicciones que conformaban oraciones más completas (aunque a veces con poco sentido en algún punto).\n",
        "También se menciona que se probó cambiando el criterio de selección de candidatos a Estocástico (“sto”), con una temperatura de 0.8, para lograr algo más de flexibilidad en la selección.\n",
        "\n",
        "Claramente, GRU nos arroja mejores resultados, verificándose una mejora significativa de tiempos de entrenamiento, y un incremento en las métricas, que finalmente se traduce en un mejor resultado real, por lo menos con nuestro corpus y nuestras limitaciones de entorno."
      ],
      "metadata": {
        "id": "kse0BL2YXK7l"
      }
    }
  ],
  "metadata": {
    "accelerator": "GPU",
    "colab": {
      "gpuType": "T4",
      "provenance": []
    },
    "kernelspec": {
      "display_name": "Python [conda env:base] *",
      "language": "python",
      "name": "conda-base-py"
    },
    "language_info": {
      "codemirror_mode": {
        "name": "ipython",
        "version": 3
      },
      "file_extension": ".py",
      "mimetype": "text/x-python",
      "name": "python",
      "nbconvert_exporter": "python",
      "pygments_lexer": "ipython3",
      "version": "3.12.7"
    }
  },
  "nbformat": 4,
  "nbformat_minor": 0
}