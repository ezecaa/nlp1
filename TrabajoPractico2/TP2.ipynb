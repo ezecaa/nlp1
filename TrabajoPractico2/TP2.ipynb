{
 "cells": [
  {
   "cell_type": "markdown",
   "metadata": {
    "id": "sZd5yLnnHOK0"
   },
   "source": [
    "<img src=\"https://github.com/hernancontigiani/ceia_memorias_especializacion/raw/master/Figures/logoFIUBA.jpg\" width=\"500\" align=\"center\">\n",
    "\n",
    "\n",
    "# Procesamiento de lenguaje natural\n",
    "## Trábajo Práctico Nro. 2 - Custom embedddings con Gensim\n",
    "## Alumno: Ezequiel Alejandro Caamaño\n",
    "## a1802\n",
    "\n"
   ]
  },
  {
   "cell_type": "markdown",
   "metadata": {
    "id": "WivQZ3ZCZ9N_"
   },
   "source": [
    "## Consignas\n",
    "- Crear sus propios vectores con Gensim basado en lo visto en clase con otro dataset.\n",
    "- Probar términos de interés y explicar similitudes en el espacio de embeddings (sacar conclusiones entre palabras similitudes y diferencias).\n",
    "- Graficarlos.\n",
    "- Obtener conclusiones."
   ]
  },
  {
   "cell_type": "code",
   "execution_count": 3,
   "metadata": {},
   "outputs": [
    {
     "name": "stdout",
     "output_type": "stream",
     "text": [
      "Requirement already satisfied: gensim in /opt/anaconda3/lib/python3.12/site-packages (4.3.3)\n",
      "Requirement already satisfied: numpy<2.0,>=1.18.5 in /opt/anaconda3/lib/python3.12/site-packages (from gensim) (1.26.4)\n",
      "Requirement already satisfied: scipy<1.14.0,>=1.7.0 in /opt/anaconda3/lib/python3.12/site-packages (from gensim) (1.13.1)\n",
      "Requirement already satisfied: smart-open>=1.8.1 in /opt/anaconda3/lib/python3.12/site-packages (from gensim) (5.2.1)\n",
      "Requirement already satisfied: tensorflow in /opt/anaconda3/lib/python3.12/site-packages (2.19.0)\n",
      "Requirement already satisfied: absl-py>=1.0.0 in /opt/anaconda3/lib/python3.12/site-packages (from tensorflow) (2.3.0)\n",
      "Requirement already satisfied: astunparse>=1.6.0 in /opt/anaconda3/lib/python3.12/site-packages (from tensorflow) (1.6.3)\n",
      "Requirement already satisfied: flatbuffers>=24.3.25 in /opt/anaconda3/lib/python3.12/site-packages (from tensorflow) (25.2.10)\n",
      "Requirement already satisfied: gast!=0.5.0,!=0.5.1,!=0.5.2,>=0.2.1 in /opt/anaconda3/lib/python3.12/site-packages (from tensorflow) (0.6.0)\n",
      "Requirement already satisfied: google-pasta>=0.1.1 in /opt/anaconda3/lib/python3.12/site-packages (from tensorflow) (0.2.0)\n",
      "Requirement already satisfied: libclang>=13.0.0 in /opt/anaconda3/lib/python3.12/site-packages (from tensorflow) (18.1.1)\n",
      "Requirement already satisfied: opt-einsum>=2.3.2 in /opt/anaconda3/lib/python3.12/site-packages (from tensorflow) (3.4.0)\n",
      "Requirement already satisfied: packaging in /opt/anaconda3/lib/python3.12/site-packages (from tensorflow) (24.1)\n",
      "Requirement already satisfied: protobuf!=4.21.0,!=4.21.1,!=4.21.2,!=4.21.3,!=4.21.4,!=4.21.5,<6.0.0dev,>=3.20.3 in /opt/anaconda3/lib/python3.12/site-packages (from tensorflow) (4.25.3)\n",
      "Requirement already satisfied: requests<3,>=2.21.0 in /opt/anaconda3/lib/python3.12/site-packages (from tensorflow) (2.32.3)\n",
      "Requirement already satisfied: setuptools in /opt/anaconda3/lib/python3.12/site-packages (from tensorflow) (75.1.0)\n",
      "Requirement already satisfied: six>=1.12.0 in /opt/anaconda3/lib/python3.12/site-packages (from tensorflow) (1.16.0)\n",
      "Requirement already satisfied: termcolor>=1.1.0 in /opt/anaconda3/lib/python3.12/site-packages (from tensorflow) (3.1.0)\n",
      "Requirement already satisfied: typing-extensions>=3.6.6 in /opt/anaconda3/lib/python3.12/site-packages (from tensorflow) (4.11.0)\n",
      "Requirement already satisfied: wrapt>=1.11.0 in /opt/anaconda3/lib/python3.12/site-packages (from tensorflow) (1.14.1)\n",
      "Requirement already satisfied: grpcio<2.0,>=1.24.3 in /opt/anaconda3/lib/python3.12/site-packages (from tensorflow) (1.73.0)\n",
      "Requirement already satisfied: tensorboard~=2.19.0 in /opt/anaconda3/lib/python3.12/site-packages (from tensorflow) (2.19.0)\n",
      "Requirement already satisfied: keras>=3.5.0 in /opt/anaconda3/lib/python3.12/site-packages (from tensorflow) (3.10.0)\n",
      "Requirement already satisfied: numpy<2.2.0,>=1.26.0 in /opt/anaconda3/lib/python3.12/site-packages (from tensorflow) (1.26.4)\n",
      "Requirement already satisfied: h5py>=3.11.0 in /opt/anaconda3/lib/python3.12/site-packages (from tensorflow) (3.11.0)\n",
      "Requirement already satisfied: ml-dtypes<1.0.0,>=0.5.1 in /opt/anaconda3/lib/python3.12/site-packages (from tensorflow) (0.5.1)\n",
      "Requirement already satisfied: wheel<1.0,>=0.23.0 in /opt/anaconda3/lib/python3.12/site-packages (from astunparse>=1.6.0->tensorflow) (0.44.0)\n",
      "Requirement already satisfied: rich in /opt/anaconda3/lib/python3.12/site-packages (from keras>=3.5.0->tensorflow) (13.7.1)\n",
      "Requirement already satisfied: namex in /opt/anaconda3/lib/python3.12/site-packages (from keras>=3.5.0->tensorflow) (0.1.0)\n",
      "Requirement already satisfied: optree in /opt/anaconda3/lib/python3.12/site-packages (from keras>=3.5.0->tensorflow) (0.16.0)\n",
      "Requirement already satisfied: charset-normalizer<4,>=2 in /opt/anaconda3/lib/python3.12/site-packages (from requests<3,>=2.21.0->tensorflow) (3.3.2)\n",
      "Requirement already satisfied: idna<4,>=2.5 in /opt/anaconda3/lib/python3.12/site-packages (from requests<3,>=2.21.0->tensorflow) (3.7)\n",
      "Requirement already satisfied: urllib3<3,>=1.21.1 in /opt/anaconda3/lib/python3.12/site-packages (from requests<3,>=2.21.0->tensorflow) (2.2.3)\n",
      "Requirement already satisfied: certifi>=2017.4.17 in /opt/anaconda3/lib/python3.12/site-packages (from requests<3,>=2.21.0->tensorflow) (2025.4.26)\n",
      "Requirement already satisfied: markdown>=2.6.8 in /opt/anaconda3/lib/python3.12/site-packages (from tensorboard~=2.19.0->tensorflow) (3.4.1)\n",
      "Requirement already satisfied: tensorboard-data-server<0.8.0,>=0.7.0 in /opt/anaconda3/lib/python3.12/site-packages (from tensorboard~=2.19.0->tensorflow) (0.7.2)\n",
      "Requirement already satisfied: werkzeug>=1.0.1 in /opt/anaconda3/lib/python3.12/site-packages (from tensorboard~=2.19.0->tensorflow) (3.0.3)\n",
      "Requirement already satisfied: MarkupSafe>=2.1.1 in /opt/anaconda3/lib/python3.12/site-packages (from werkzeug>=1.0.1->tensorboard~=2.19.0->tensorflow) (2.1.3)\n",
      "Requirement already satisfied: markdown-it-py>=2.2.0 in /opt/anaconda3/lib/python3.12/site-packages (from rich->keras>=3.5.0->tensorflow) (2.2.0)\n",
      "Requirement already satisfied: pygments<3.0.0,>=2.13.0 in /opt/anaconda3/lib/python3.12/site-packages (from rich->keras>=3.5.0->tensorflow) (2.15.1)\n",
      "Requirement already satisfied: mdurl~=0.1 in /opt/anaconda3/lib/python3.12/site-packages (from markdown-it-py>=2.2.0->rich->keras>=3.5.0->tensorflow) (0.1.0)\n",
      "Requirement already satisfied: keras in /opt/anaconda3/lib/python3.12/site-packages (3.10.0)\n",
      "Requirement already satisfied: absl-py in /opt/anaconda3/lib/python3.12/site-packages (from keras) (2.3.0)\n",
      "Requirement already satisfied: numpy in /opt/anaconda3/lib/python3.12/site-packages (from keras) (1.26.4)\n",
      "Requirement already satisfied: rich in /opt/anaconda3/lib/python3.12/site-packages (from keras) (13.7.1)\n",
      "Requirement already satisfied: namex in /opt/anaconda3/lib/python3.12/site-packages (from keras) (0.1.0)\n",
      "Requirement already satisfied: h5py in /opt/anaconda3/lib/python3.12/site-packages (from keras) (3.11.0)\n",
      "Requirement already satisfied: optree in /opt/anaconda3/lib/python3.12/site-packages (from keras) (0.16.0)\n",
      "Requirement already satisfied: ml-dtypes in /opt/anaconda3/lib/python3.12/site-packages (from keras) (0.5.1)\n",
      "Requirement already satisfied: packaging in /opt/anaconda3/lib/python3.12/site-packages (from keras) (24.1)\n",
      "Requirement already satisfied: typing-extensions>=4.6.0 in /opt/anaconda3/lib/python3.12/site-packages (from optree->keras) (4.11.0)\n",
      "Requirement already satisfied: markdown-it-py>=2.2.0 in /opt/anaconda3/lib/python3.12/site-packages (from rich->keras) (2.2.0)\n",
      "Requirement already satisfied: pygments<3.0.0,>=2.13.0 in /opt/anaconda3/lib/python3.12/site-packages (from rich->keras) (2.15.1)\n",
      "Requirement already satisfied: mdurl~=0.1 in /opt/anaconda3/lib/python3.12/site-packages (from markdown-it-py>=2.2.0->rich->keras) (0.1.0)\n"
     ]
    }
   ],
   "source": [
    "!pip install gensim\n",
    "!pip install tensorflow\n",
    "!pip install keras"
   ]
  },
  {
   "cell_type": "code",
   "execution_count": 4,
   "metadata": {
    "id": "lFToQs5FK5uZ"
   },
   "outputs": [],
   "source": [
    "import pandas as pd\n",
    "import matplotlib.pyplot as plt\n",
    "import seaborn as sns\n",
    "from tensorflow.keras.preprocessing.text import text_to_word_sequence\n",
    "\n",
    "import multiprocessing\n",
    "from gensim.models import Word2Vec"
   ]
  },
  {
   "cell_type": "markdown",
   "metadata": {
    "id": "g07zJxG7H9vG"
   },
   "source": [
    "### Datos\n",
    "Utilizaremos como dataset textos del projecto Gutember."
   ]
  },
  {
   "cell_type": "code",
   "execution_count": 5,
   "metadata": {
    "id": "l7z4CSBfpR3X"
   },
   "outputs": [
    {
     "name": "stderr",
     "output_type": "stream",
     "text": [
      "[nltk_data] Downloading package gutenberg to\n",
      "[nltk_data]     /Users/ezequiel/nltk_data...\n",
      "[nltk_data]   Package gutenberg is already up-to-date!\n",
      "[nltk_data] Downloading package punkt to /Users/ezequiel/nltk_data...\n",
      "[nltk_data]   Package punkt is already up-to-date!\n",
      "[nltk_data] Downloading package punkt_tab to\n",
      "[nltk_data]     /Users/ezequiel/nltk_data...\n",
      "[nltk_data]   Package punkt_tab is already up-to-date!\n"
     ]
    },
    {
     "data": {
      "text/plain": [
       "True"
      ]
     },
     "execution_count": 5,
     "metadata": {},
     "output_type": "execute_result"
    }
   ],
   "source": [
    "# Descargar la carpeta de dataset\n",
    "import nltk\n",
    "from nltk.corpus import gutenberg\n",
    "from nltk.tokenize import sent_tokenize\n",
    "nltk.download('gutenberg')\n",
    "nltk.download('punkt')\n",
    "nltk.download('punkt_tab')\n"
   ]
  },
  {
   "cell_type": "code",
   "execution_count": 6,
   "metadata": {
    "id": "mysGrIw9ljC2"
   },
   "outputs": [
    {
     "name": "stdout",
     "output_type": "stream",
     "text": [
      "['austen-emma.txt', 'austen-persuasion.txt', 'austen-sense.txt', 'bible-kjv.txt', 'blake-poems.txt', 'bryant-stories.txt', 'burgess-busterbrown.txt', 'carroll-alice.txt', 'chesterton-ball.txt', 'chesterton-brown.txt', 'chesterton-thursday.txt', 'edgeworth-parents.txt', 'melville-moby_dick.txt', 'milton-paradise.txt', 'shakespeare-caesar.txt', 'shakespeare-hamlet.txt', 'shakespeare-macbeth.txt', 'whitman-leaves.txt']\n"
     ]
    }
   ],
   "source": [
    "from nltk.corpus import gutenberg\n",
    "\n",
    "# Ver qué archivos de texto están disponibles\n",
    "print(gutenberg.fileids())"
   ]
  },
  {
   "cell_type": "code",
   "execution_count": 7,
   "metadata": {
    "id": "ticoqYD1Z3I7"
   },
   "outputs": [
    {
     "data": {
      "text/html": [
       "<div>\n",
       "<style scoped>\n",
       "    .dataframe tbody tr th:only-of-type {\n",
       "        vertical-align: middle;\n",
       "    }\n",
       "\n",
       "    .dataframe tbody tr th {\n",
       "        vertical-align: top;\n",
       "    }\n",
       "\n",
       "    .dataframe thead th {\n",
       "        text-align: right;\n",
       "    }\n",
       "</style>\n",
       "<table border=\"1\" class=\"dataframe\">\n",
       "  <thead>\n",
       "    <tr style=\"text-align: right;\">\n",
       "      <th></th>\n",
       "      <th>line</th>\n",
       "    </tr>\n",
       "  </thead>\n",
       "  <tbody>\n",
       "    <tr>\n",
       "      <th>0</th>\n",
       "      <td>[The Tragedie of Hamlet by William Shakespeare...</td>\n",
       "    </tr>\n",
       "    <tr>\n",
       "      <th>1</th>\n",
       "      <td></td>\n",
       "    </tr>\n",
       "    <tr>\n",
       "      <th>2</th>\n",
       "      <td></td>\n",
       "    </tr>\n",
       "    <tr>\n",
       "      <th>3</th>\n",
       "      <td>Actus Primus. Scoena Prima.</td>\n",
       "    </tr>\n",
       "    <tr>\n",
       "      <th>4</th>\n",
       "      <td></td>\n",
       "    </tr>\n",
       "  </tbody>\n",
       "</table>\n",
       "</div>"
      ],
      "text/plain": [
       "                                                line\n",
       "0  [The Tragedie of Hamlet by William Shakespeare...\n",
       "1                                                   \n",
       "2                                                   \n",
       "3                        Actus Primus. Scoena Prima.\n",
       "4                                                   "
      ]
     },
     "execution_count": 7,
     "metadata": {},
     "output_type": "execute_result"
    }
   ],
   "source": [
    "# Elegir una obra específica de Shakespeare\n",
    "file_id = 'shakespeare-hamlet.txt'\n",
    "author = 'William Shakespeare'\n",
    "\n",
    "# Obtener texto y dividir en oraciones\n",
    "raw_text = gutenberg.raw(file_id)\n",
    "# Separar por saltos de línea\n",
    "lines = raw_text.split('\\n')\n",
    "\n",
    "# Crear DataFrame\n",
    "df = pd.DataFrame(lines, columns=['line'])\n",
    "\n",
    "# Mostrar las primeras filas\n",
    "df.head()\n"
   ]
  },
  {
   "cell_type": "code",
   "execution_count": 8,
   "metadata": {
    "id": "LEpKubK9XzXN"
   },
   "outputs": [
    {
     "name": "stdout",
     "output_type": "stream",
     "text": [
      "Cantidad de documentos: 4923\n"
     ]
    }
   ],
   "source": [
    "print(\"Cantidad de documentos:\", df.shape[0])"
   ]
  },
  {
   "cell_type": "markdown",
   "metadata": {
    "id": "ab94qaFlrA1G"
   },
   "source": [
    "### 1 - Preprocesamiento"
   ]
  },
  {
   "cell_type": "code",
   "execution_count": 9,
   "metadata": {
    "id": "rIsmMWmjrDHd"
   },
   "outputs": [],
   "source": [
    "from tensorflow.keras.preprocessing.text import text_to_word_sequence\n",
    "\n",
    "# Lista donde guardamos las secuencias de palabras\n",
    "line_tokens = []\n",
    "\n",
    "# Recorrer todas las líneas del DataFrame\n",
    "for _, row in df.iterrows():\n",
    "    line_tokens.append(text_to_word_sequence(row['line']))"
   ]
  },
  {
   "cell_type": "code",
   "execution_count": 10,
   "metadata": {
    "id": "CHepi_DGrbhq"
   },
   "outputs": [
    {
     "data": {
      "text/plain": [
       "[['the', 'tragedie', 'of', 'hamlet', 'by', 'william', 'shakespeare', '1599'],\n",
       " []]"
      ]
     },
     "execution_count": 10,
     "metadata": {},
     "output_type": "execute_result"
    }
   ],
   "source": [
    "# Demos un vistazo\n",
    "line_tokens[:2]"
   ]
  },
  {
   "cell_type": "markdown",
   "metadata": {
    "id": "BaXV6nlHr5Aa"
   },
   "source": [
    "### 2 - Crear los vectores (word2vec)"
   ]
  },
  {
   "cell_type": "code",
   "execution_count": 11,
   "metadata": {
    "id": "OSb0v7h8r7hK"
   },
   "outputs": [],
   "source": [
    "from gensim.models.callbacks import CallbackAny2Vec\n",
    "# Durante el entrenamiento gensim por defecto no informa el \"loss\" en cada época\n",
    "# Sobrecargamos el callback para poder tener esta información\n",
    "class callback(CallbackAny2Vec):\n",
    "    \"\"\"\n",
    "    Callback to print loss after each epoch\n",
    "    \"\"\"\n",
    "    def __init__(self):\n",
    "        self.epoch = 0\n",
    "\n",
    "    def on_epoch_end(self, model):\n",
    "        loss = model.get_latest_training_loss()\n",
    "        if self.epoch == 0:\n",
    "            print('Loss after epoch {}: {}'.format(self.epoch, loss))\n",
    "        else:\n",
    "            print('Loss after epoch {}: {}'.format(self.epoch, loss- self.loss_previous_step))\n",
    "        self.epoch += 1\n",
    "        self.loss_previous_step = loss"
   ]
  },
  {
   "cell_type": "code",
   "execution_count": 12,
   "metadata": {
    "id": "i0wnDdv9sJ47"
   },
   "outputs": [],
   "source": [
    "# Crearmos el modelo generador de vectores\n",
    "# En este caso utilizaremos la estructura modelo Skipgram\n",
    "w2v_model = Word2Vec(min_count=5,    # frecuencia mínima de palabra para incluirla en el vocabulario\n",
    "                     window=2,       # cant de palabras antes y desp de la predicha\n",
    "                     vector_size=300,       # dimensionalidad de los vectores \n",
    "                     negative=20,    # cantidad de negative samples... 0 es no se usa\n",
    "                     workers=1,      # si tienen más cores pueden cambiar este valor\n",
    "                     sg=1)           # modelo 0:CBOW  1:skipgram"
   ]
  },
  {
   "cell_type": "code",
   "execution_count": 13,
   "metadata": {
    "id": "5lTt8wErsf17"
   },
   "outputs": [],
   "source": [
    "# Obtener el vocabulario con los tokens\n",
    "w2v_model.build_vocab(line_tokens)"
   ]
  },
  {
   "cell_type": "code",
   "execution_count": 14,
   "metadata": {
    "id": "TNc9qt4os5AT"
   },
   "outputs": [
    {
     "name": "stdout",
     "output_type": "stream",
     "text": [
      "Cantidad de docs en el corpus: 4923\n"
     ]
    }
   ],
   "source": [
    "# Cantidad de filas/docs encontradas en el corpus\n",
    "print(\"Cantidad de docs en el corpus:\", w2v_model.corpus_count)"
   ]
  },
  {
   "cell_type": "code",
   "execution_count": 15,
   "metadata": {
    "id": "idw9cHF3tSMl"
   },
   "outputs": [
    {
     "name": "stdout",
     "output_type": "stream",
     "text": [
      "Cantidad de words distintas en el corpus: 686\n"
     ]
    }
   ],
   "source": [
    "# Cantidad de words encontradas en el corpus\n",
    "print(\"Cantidad de words distintas en el corpus:\", len(w2v_model.wv.index_to_key))"
   ]
  },
  {
   "cell_type": "markdown",
   "metadata": {
    "id": "fC9mZ8DPk-UC"
   },
   "source": [
    "### 3 - Entrenar embeddings"
   ]
  },
  {
   "cell_type": "code",
   "execution_count": 16,
   "metadata": {
    "id": "QSp-x0PAsq56"
   },
   "outputs": [
    {
     "name": "stdout",
     "output_type": "stream",
     "text": [
      "Loss after epoch 0: 214488.5625\n",
      "Loss after epoch 1: 125322.65625\n",
      "Loss after epoch 2: 124484.25\n",
      "Loss after epoch 3: 125573.21875\n",
      "Loss after epoch 4: 126025.875\n",
      "Loss after epoch 5: 126054.25\n",
      "Loss after epoch 6: 125988.4375\n",
      "Loss after epoch 7: 119494.375\n",
      "Loss after epoch 8: 108546.25\n",
      "Loss after epoch 9: 109482.75\n",
      "Loss after epoch 10: 109111.125\n",
      "Loss after epoch 11: 107289.0\n",
      "Loss after epoch 12: 107214.75\n",
      "Loss after epoch 13: 106225.375\n",
      "Loss after epoch 14: 104971.25\n",
      "Loss after epoch 15: 105226.875\n",
      "Loss after epoch 16: 104648.25\n",
      "Loss after epoch 17: 95934.75\n",
      "Loss after epoch 18: 89775.0\n",
      "Loss after epoch 19: 88752.25\n",
      "Loss after epoch 20: 89097.0\n",
      "Loss after epoch 21: 89044.0\n",
      "Loss after epoch 22: 87866.75\n",
      "Loss after epoch 23: 87344.5\n",
      "Loss after epoch 24: 87375.75\n",
      "Loss after epoch 25: 87695.25\n",
      "Loss after epoch 26: 87623.0\n",
      "Loss after epoch 27: 86140.5\n",
      "Loss after epoch 28: 85188.0\n",
      "Loss after epoch 29: 86250.0\n",
      "Loss after epoch 30: 86138.75\n",
      "Loss after epoch 31: 85521.0\n",
      "Loss after epoch 32: 84959.0\n",
      "Loss after epoch 33: 85921.25\n",
      "Loss after epoch 34: 85177.25\n",
      "Loss after epoch 35: 85112.25\n",
      "Loss after epoch 36: 83780.0\n",
      "Loss after epoch 37: 83610.5\n",
      "Loss after epoch 38: 82744.25\n",
      "Loss after epoch 39: 83482.75\n",
      "Loss after epoch 40: 83236.25\n",
      "Loss after epoch 41: 81692.75\n",
      "Loss after epoch 42: 77734.5\n",
      "Loss after epoch 43: 77377.5\n",
      "Loss after epoch 44: 76873.5\n",
      "Loss after epoch 45: 76364.5\n",
      "Loss after epoch 46: 77398.0\n",
      "Loss after epoch 47: 76316.5\n",
      "Loss after epoch 48: 75713.0\n",
      "Loss after epoch 49: 76039.5\n"
     ]
    },
    {
     "data": {
      "text/plain": [
       "(763228, 1484900)"
      ]
     },
     "execution_count": 16,
     "metadata": {},
     "output_type": "execute_result"
    }
   ],
   "source": [
    "# Entrenamos el modelo generador de vectores\n",
    "# Utilizamos nuestro callback\n",
    "w2v_model.train(line_tokens,\n",
    "                 total_examples=w2v_model.corpus_count,\n",
    "                 epochs=50,\n",
    "                 compute_loss = True,\n",
    "                 callbacks=[callback()]\n",
    "                 )"
   ]
  },
  {
   "cell_type": "markdown",
   "metadata": {
    "id": "ddT9NVuNlCAe"
   },
   "source": [
    "### 4 - Ensayar"
   ]
  },
  {
   "cell_type": "code",
   "execution_count": 17,
   "metadata": {
    "id": "6cHN9xGLuPEm"
   },
   "outputs": [
    {
     "data": {
      "text/plain": [
       "[('gertrude', 0.6269384026527405),\n",
       " (\"do's\", 0.6220626831054688),\n",
       " ('polonius', 0.6008369326591492),\n",
       " ('sister', 0.5973669290542603),\n",
       " ('guildensterne', 0.5962295532226562),\n",
       " ('rosincrance', 0.5945658683776855),\n",
       " ('osricke', 0.5821160078048706),\n",
       " ('lords', 0.5769570469856262),\n",
       " ('vnto', 0.5703410506248474),\n",
       " ('sometimes', 0.5670945644378662)]"
      ]
     },
     "execution_count": 17,
     "metadata": {},
     "output_type": "execute_result"
    }
   ],
   "source": [
    "# Palabras que MÁS se relacionan con...:\n",
    "w2v_model.wv.most_similar(positive=[\"king\"], topn=10)"
   ]
  },
  {
   "cell_type": "code",
   "execution_count": 18,
   "metadata": {
    "id": "47HiU5gdkdMq"
   },
   "outputs": [
    {
     "data": {
      "text/plain": [
       "[('had', -0.0628107339143753),\n",
       " ('whose', -0.06991232931613922),\n",
       " ('armes', -0.07748594880104065),\n",
       " ('indeed', -0.08991096913814545),\n",
       " ('was', -0.09926942735910416),\n",
       " ('could', -0.10122586041688919),\n",
       " ('beene', -0.11083291471004486),\n",
       " ('sir', -0.11967476457357407),\n",
       " ('take', -0.12293863296508789),\n",
       " ('old', -0.12380380928516388)]"
      ]
     },
     "execution_count": 18,
     "metadata": {},
     "output_type": "execute_result"
    }
   ],
   "source": [
    "# Palabras que MENOS se relacionan con...:\n",
    "w2v_model.wv.most_similar(negative=[\"king\"], topn=10)"
   ]
  },
  {
   "cell_type": "code",
   "execution_count": 19,
   "metadata": {
    "id": "DT4Rvno2mD65"
   },
   "outputs": [
    {
     "data": {
      "text/plain": [
       "[('barnardo', 0.655182957649231),\n",
       " ('fortinbras', 0.6541325449943542),\n",
       " ('adue', 0.6508650183677673),\n",
       " ('polonius', 0.6418254375457764),\n",
       " ('osricke', 0.6356576681137085),\n",
       " ('marcellus', 0.6117737293243408),\n",
       " ('exit', 0.6076095700263977),\n",
       " ('exeunt', 0.595268189907074),\n",
       " ('slaine', 0.5761756300926208),\n",
       " ('young', 0.5588536858558655)]"
      ]
     },
     "execution_count": 19,
     "metadata": {},
     "output_type": "execute_result"
    }
   ],
   "source": [
    "# Palabras que MÁS se relacionan con...:\n",
    "w2v_model.wv.most_similar(positive=[\"hamlet\"], topn=10)"
   ]
  },
  {
   "cell_type": "code",
   "execution_count": 20,
   "metadata": {
    "id": "XPLDPgzBmQXt"
   },
   "outputs": [
    {
     "data": {
      "text/plain": [
       "[('braines', 0.7698466777801514),\n",
       " ('face', 0.6928442716598511),\n",
       " ('lookes', 0.686236560344696),\n",
       " ('wholsome', 0.6793888807296753),\n",
       " ('mouth', 0.6696476936340332)]"
      ]
     },
     "execution_count": 20,
     "metadata": {},
     "output_type": "execute_result"
    }
   ],
   "source": [
    "# Palabras que MÁS se relacionan con...:\n",
    "w2v_model.wv.most_similar(positive=[\"sword\"], topn=5)"
   ]
  },
  {
   "cell_type": "code",
   "execution_count": 21,
   "metadata": {
    "id": "L_UvHPMMklOr"
   },
   "outputs": [
    {
     "ename": "KeyError",
     "evalue": "\"Key 'diedaa' not present in vocabulary\"",
     "output_type": "error",
     "traceback": [
      "\u001b[0;31m---------------------------------------------------------------------------\u001b[0m",
      "\u001b[0;31mKeyError\u001b[0m                                  Traceback (most recent call last)",
      "Cell \u001b[0;32mIn[21], line 2\u001b[0m\n\u001b[1;32m      1\u001b[0m \u001b[38;5;66;03m# Ensayar con una palabra que no está en el vocabulario:\u001b[39;00m\n\u001b[0;32m----> 2\u001b[0m w2v_model\u001b[38;5;241m.\u001b[39mwv\u001b[38;5;241m.\u001b[39mmost_similar(negative\u001b[38;5;241m=\u001b[39m[\u001b[38;5;124m\"\u001b[39m\u001b[38;5;124mdiedaa\u001b[39m\u001b[38;5;124m\"\u001b[39m])\n",
      "File \u001b[0;32m/opt/anaconda3/lib/python3.12/site-packages/gensim/models/keyedvectors.py:841\u001b[0m, in \u001b[0;36mKeyedVectors.most_similar\u001b[0;34m(self, positive, negative, topn, clip_start, clip_end, restrict_vocab, indexer)\u001b[0m\n\u001b[1;32m    838\u001b[0m         weight[idx] \u001b[38;5;241m=\u001b[39m item[\u001b[38;5;241m1\u001b[39m]\n\u001b[1;32m    840\u001b[0m \u001b[38;5;66;03m# compute the weighted average of all keys\u001b[39;00m\n\u001b[0;32m--> 841\u001b[0m mean \u001b[38;5;241m=\u001b[39m \u001b[38;5;28mself\u001b[39m\u001b[38;5;241m.\u001b[39mget_mean_vector(keys, weight, pre_normalize\u001b[38;5;241m=\u001b[39m\u001b[38;5;28;01mTrue\u001b[39;00m, post_normalize\u001b[38;5;241m=\u001b[39m\u001b[38;5;28;01mTrue\u001b[39;00m, ignore_missing\u001b[38;5;241m=\u001b[39m\u001b[38;5;28;01mFalse\u001b[39;00m)\n\u001b[1;32m    842\u001b[0m all_keys \u001b[38;5;241m=\u001b[39m [\n\u001b[1;32m    843\u001b[0m     \u001b[38;5;28mself\u001b[39m\u001b[38;5;241m.\u001b[39mget_index(key) \u001b[38;5;28;01mfor\u001b[39;00m key \u001b[38;5;129;01min\u001b[39;00m keys \u001b[38;5;28;01mif\u001b[39;00m \u001b[38;5;28misinstance\u001b[39m(key, _KEY_TYPES) \u001b[38;5;129;01mand\u001b[39;00m \u001b[38;5;28mself\u001b[39m\u001b[38;5;241m.\u001b[39mhas_index_for(key)\n\u001b[1;32m    844\u001b[0m ]\n\u001b[1;32m    846\u001b[0m \u001b[38;5;28;01mif\u001b[39;00m indexer \u001b[38;5;129;01mis\u001b[39;00m \u001b[38;5;129;01mnot\u001b[39;00m \u001b[38;5;28;01mNone\u001b[39;00m \u001b[38;5;129;01mand\u001b[39;00m \u001b[38;5;28misinstance\u001b[39m(topn, \u001b[38;5;28mint\u001b[39m):\n",
      "File \u001b[0;32m/opt/anaconda3/lib/python3.12/site-packages/gensim/models/keyedvectors.py:518\u001b[0m, in \u001b[0;36mKeyedVectors.get_mean_vector\u001b[0;34m(self, keys, weights, pre_normalize, post_normalize, ignore_missing)\u001b[0m\n\u001b[1;32m    516\u001b[0m         total_weight \u001b[38;5;241m+\u001b[39m\u001b[38;5;241m=\u001b[39m \u001b[38;5;28mabs\u001b[39m(weights[idx])\n\u001b[1;32m    517\u001b[0m     \u001b[38;5;28;01melif\u001b[39;00m \u001b[38;5;129;01mnot\u001b[39;00m ignore_missing:\n\u001b[0;32m--> 518\u001b[0m         \u001b[38;5;28;01mraise\u001b[39;00m \u001b[38;5;167;01mKeyError\u001b[39;00m(\u001b[38;5;124mf\u001b[39m\u001b[38;5;124m\"\u001b[39m\u001b[38;5;124mKey \u001b[39m\u001b[38;5;124m'\u001b[39m\u001b[38;5;132;01m{\u001b[39;00mkey\u001b[38;5;132;01m}\u001b[39;00m\u001b[38;5;124m'\u001b[39m\u001b[38;5;124m not present in vocabulary\u001b[39m\u001b[38;5;124m\"\u001b[39m)\n\u001b[1;32m    520\u001b[0m \u001b[38;5;28;01mif\u001b[39;00m total_weight \u001b[38;5;241m>\u001b[39m \u001b[38;5;241m0\u001b[39m:\n\u001b[1;32m    521\u001b[0m     mean \u001b[38;5;241m=\u001b[39m mean \u001b[38;5;241m/\u001b[39m total_weight\n",
      "\u001b[0;31mKeyError\u001b[0m: \"Key 'diedaa' not present in vocabulary\""
     ]
    }
   ],
   "source": [
    "# Ensayar con una palabra que no está en el vocabulario:\n",
    "w2v_model.wv.most_similar(negative=[\"diedaa\"])"
   ]
  },
  {
   "cell_type": "code",
   "execution_count": 22,
   "metadata": {},
   "outputs": [
    {
     "name": "stdout",
     "output_type": "stream",
     "text": [
      "[-1.17729649e-01  8.73767734e-02  2.40540996e-01 -2.96575308e-01\n",
      " -6.30337074e-02 -2.20735639e-01  1.63187101e-01  2.94804901e-01\n",
      " -4.23564196e-01  7.70663284e-03  3.12163144e-01 -8.07771310e-02\n",
      "  3.02716382e-02  6.07665442e-02  8.92783031e-02  4.10832502e-02\n",
      "  2.83607692e-01 -3.70007336e-01 -1.73829451e-01 -1.09379672e-01\n",
      " -2.27814689e-01 -1.07470732e-02 -3.77905294e-02 -8.59440677e-03\n",
      "  2.87100747e-02  4.41186607e-01 -1.65451810e-01 -1.79138258e-01\n",
      " -3.95663008e-02  1.81369975e-01 -3.07795014e-02 -1.23164177e-01\n",
      "  2.17003655e-02  8.92642438e-02 -2.04962030e-01  2.25201204e-01\n",
      " -3.62459645e-02 -1.11998692e-01  2.47934997e-01 -2.78438419e-01\n",
      "  1.21790245e-01 -2.45886624e-01  2.13732332e-01  2.19021603e-01\n",
      "  4.24427390e-01  3.00516278e-01 -8.98588300e-02  3.99233252e-02\n",
      "  2.07050547e-01 -6.92798570e-02 -9.17193815e-02  9.35325548e-02\n",
      " -4.23813574e-02  1.51469618e-01 -3.03153098e-01  7.90440515e-02\n",
      " -1.67809844e-01  1.04287736e-01  9.14071277e-02 -2.98460513e-01\n",
      "  3.61997895e-02  1.81821227e-01 -8.83532763e-02  4.67199594e-01\n",
      "  1.04110017e-01 -1.89931899e-01 -4.13047999e-01  2.11799100e-01\n",
      " -2.56734073e-01 -9.52259824e-02  3.01550925e-01  4.38396223e-02\n",
      " -2.08525024e-02 -9.53670070e-02  1.77504905e-02  2.42418602e-01\n",
      " -3.04328293e-01 -1.45644814e-01  3.04217756e-01  4.19822752e-01\n",
      " -3.45623381e-02 -2.21557513e-01  2.13449448e-01  3.02994251e-01\n",
      "  5.51419817e-02  3.08686167e-01 -8.68613087e-03  3.40032205e-02\n",
      "  5.74407056e-02  1.65010944e-01  1.56814113e-01 -2.09722444e-01\n",
      "  6.51789829e-02 -1.60124317e-01  4.21581790e-02  2.23968197e-02\n",
      "  6.75912052e-02 -4.32410449e-01 -5.01654111e-02  7.18623400e-02\n",
      " -3.06736361e-02 -1.35001659e-01  2.00253785e-01 -1.46801710e-01\n",
      "  1.87459588e-01  2.90091354e-02 -3.25806350e-01  1.84016809e-01\n",
      " -2.91650623e-01 -3.99819911e-02 -3.13606441e-01 -7.05627874e-02\n",
      " -2.16446389e-02 -1.11583874e-01 -6.81699887e-02 -1.23812087e-01\n",
      "  1.06934793e-01 -1.04421452e-01  9.90941674e-02 -3.32768649e-01\n",
      "  3.59001666e-01 -7.27910623e-02 -7.31652752e-02 -1.71576425e-01\n",
      " -3.00337315e-01 -1.67695433e-02 -1.84552535e-01 -1.93192303e-01\n",
      "  1.87902361e-01  1.66101113e-01  1.19238682e-01 -2.32267901e-01\n",
      "  8.67227241e-02 -2.05589041e-01  7.93402418e-02  2.14534327e-01\n",
      " -6.40334487e-02 -1.25812605e-01 -2.92526990e-01 -4.73605059e-02\n",
      "  1.03307506e-02 -1.30119079e-04  2.33011141e-01  1.77305311e-01\n",
      " -2.80370587e-03  2.56017417e-01  2.67407652e-02  2.02917323e-01\n",
      " -4.48542051e-02  7.48161972e-02 -2.57142574e-01 -3.77816200e-01\n",
      "  4.50414345e-02  1.71806037e-01  1.68643206e-01 -7.84815028e-02\n",
      " -9.22622606e-02 -2.53962159e-01 -2.59594917e-02  7.62160420e-02\n",
      "  3.77788283e-02  3.84148657e-02 -2.59300619e-01  1.47234350e-01\n",
      " -5.92788821e-03 -1.36785097e-02 -9.25301854e-03 -7.85556510e-02\n",
      " -1.24870628e-01  4.80200052e-01 -1.44250259e-01  5.68259656e-02\n",
      "  1.12757713e-01  2.31576473e-01  1.25782773e-01 -2.28633359e-01\n",
      "  5.85100800e-02 -1.16303518e-01  5.12672635e-03  9.73195136e-02\n",
      " -9.97042209e-02  3.70656729e-01 -1.73875138e-01 -1.45889282e-01\n",
      "  1.22946769e-01  1.19614556e-01  1.91580996e-01  4.21506107e-01\n",
      " -2.35641450e-01 -9.78588462e-02  1.99231878e-01 -2.20525730e-02\n",
      " -1.42101422e-01  3.11192214e-01  1.78684145e-01 -1.33686379e-01\n",
      " -1.41032264e-01 -1.28438190e-01  1.05719760e-01  7.59465992e-02\n",
      " -6.90981448e-02  3.12864691e-01  4.58049923e-02 -1.93059579e-01\n",
      " -1.04608841e-01 -3.25124890e-01  2.02632677e-02 -6.03004321e-02\n",
      "  4.94725369e-02  3.04776132e-01 -3.50731403e-01 -8.64955708e-02\n",
      "  3.89229096e-02 -3.32867354e-01  3.09376176e-02  8.82627256e-03\n",
      "  8.27027559e-02 -1.24891937e-01  2.21704673e-02 -4.41637576e-01\n",
      " -1.84154689e-01  2.19779968e-01 -1.59539983e-01  1.22336775e-01\n",
      " -1.10404938e-01  8.93325284e-02  1.31575823e-01  1.93926021e-01\n",
      " -8.66627321e-02  1.42678125e-02  1.00988753e-01 -1.62754491e-01\n",
      "  1.28681779e-01 -1.69639196e-02 -8.99086744e-02 -1.16371825e-01\n",
      " -1.83769122e-01  2.14812085e-02  1.48516431e-01 -9.01343748e-02\n",
      " -7.21024349e-02  1.89421594e-01 -3.50377113e-02 -3.01782072e-01\n",
      " -1.94041416e-01 -2.20685825e-01  1.01656944e-01  2.06266716e-01\n",
      " -1.50365725e-01  5.51779978e-02 -1.03640884e-01 -1.63047090e-01\n",
      "  1.10637955e-01 -5.35832997e-03 -4.17142451e-01  1.74673237e-02\n",
      "  1.80640191e-01  2.71788001e-01 -3.26815546e-01 -2.38089114e-01\n",
      "  1.56229809e-01  2.24369273e-01 -5.71659440e-03 -5.23126610e-02\n",
      " -2.94450134e-01  3.32429767e-01 -3.76817025e-02  9.08159539e-02\n",
      " -2.88310766e-01  1.79368332e-02 -1.39129475e-01  1.35616213e-01\n",
      " -1.45511441e-02 -4.38728742e-02  2.96466261e-01  1.91737711e-01\n",
      "  5.50210588e-02  3.40706855e-01 -3.64601046e-01 -6.84960037e-02\n",
      "  2.44679973e-01  1.58671588e-01  1.41383275e-01  5.44111840e-02\n",
      "  1.64217073e-02  6.73986450e-02 -1.32265523e-01 -1.37190893e-01\n",
      " -8.15545768e-03  1.33037716e-01 -1.38810128e-01 -1.14489526e-01\n",
      " -6.16762638e-02 -3.75538580e-02  4.56051752e-02 -5.50854690e-02\n",
      " -1.02421999e-01 -4.07926627e-02  9.44338590e-02  1.24313034e-01]\n"
     ]
    }
   ],
   "source": [
    "# el método `get_vector` permite obtener los vectores:\n",
    "vector_king = w2v_model.wv.get_vector(\"king\")\n",
    "print(vector_king)"
   ]
  },
  {
   "cell_type": "code",
   "execution_count": 23,
   "metadata": {},
   "outputs": [
    {
     "data": {
      "text/plain": [
       "[('king', 1.0),\n",
       " ('gertrude', 0.6269382238388062),\n",
       " (\"do's\", 0.6220626831054688),\n",
       " ('polonius', 0.6008369326591492),\n",
       " ('sister', 0.5973668694496155),\n",
       " ('guildensterne', 0.5962294936180115),\n",
       " ('rosincrance', 0.5945658087730408),\n",
       " ('osricke', 0.5821160078048706),\n",
       " ('lords', 0.5769570469856262),\n",
       " ('vnto', 0.5703409910202026)]"
      ]
     },
     "execution_count": 23,
     "metadata": {},
     "output_type": "execute_result"
    }
   ],
   "source": [
    "# el método `most_similar` también permite comparar a partir de vectores\n",
    "w2v_model.wv.most_similar(vector_king)"
   ]
  },
  {
   "cell_type": "code",
   "execution_count": 24,
   "metadata": {},
   "outputs": [
    {
     "data": {
      "text/plain": [
       "[('gertrude', 0.6269384026527405),\n",
       " (\"do's\", 0.6220626831054688),\n",
       " ('polonius', 0.6008369326591492),\n",
       " ('sister', 0.5973669290542603),\n",
       " ('guildensterne', 0.5962295532226562),\n",
       " ('rosincrance', 0.5945658683776855),\n",
       " ('osricke', 0.5821160078048706),\n",
       " ('lords', 0.5769570469856262),\n",
       " ('vnto', 0.5703410506248474),\n",
       " ('sometimes', 0.5670945644378662)]"
      ]
     },
     "execution_count": 24,
     "metadata": {},
     "output_type": "execute_result"
    }
   ],
   "source": [
    "# Palabras que MÁS se relacionan con...:\n",
    "w2v_model.wv.most_similar(positive=[\"king\"], topn=10)"
   ]
  },
  {
   "cell_type": "markdown",
   "metadata": {
    "id": "_g8UVWe6lFmh"
   },
   "source": [
    "### 5 - Visualizar agrupación de vectores"
   ]
  },
  {
   "cell_type": "code",
   "execution_count": 25,
   "metadata": {
    "id": "pDxEVXAivjr9"
   },
   "outputs": [],
   "source": [
    "from sklearn.decomposition import IncrementalPCA    \n",
    "from sklearn.manifold import TSNE                   \n",
    "import numpy as np                                  \n",
    "\n",
    "def reduce_dimensions(model, num_dimensions = 2 ):\n",
    "     \n",
    "    vectors = np.asarray(model.wv.vectors)\n",
    "    labels = np.asarray(model.wv.index_to_key)  \n",
    "\n",
    "    tsne = TSNE(n_components=num_dimensions, random_state=0)\n",
    "    vectors = tsne.fit_transform(vectors)\n",
    "\n",
    "    return vectors, labels"
   ]
  },
  {
   "cell_type": "code",
   "execution_count": 26,
   "metadata": {
    "id": "NCCXtDpcugmd"
   },
   "outputs": [
    {
     "data": {
      "text/html": [
       "<html>\n",
       "<head><meta charset=\"utf-8\" /></head>\n",
       "<body>\n",
       "    <div>            <script src=\"https://cdnjs.cloudflare.com/ajax/libs/mathjax/2.7.5/MathJax.js?config=TeX-AMS-MML_SVG\"></script><script type=\"text/javascript\">if (window.MathJax && window.MathJax.Hub && window.MathJax.Hub.Config) {window.MathJax.Hub.Config({SVG: {font: \"STIX-Web\"}});}</script>                <script type=\"text/javascript\">window.PlotlyConfig = {MathJaxConfig: 'local'};</script>\n",
       "        <script charset=\"utf-8\" src=\"https://cdn.plot.ly/plotly-2.35.2.min.js\"></script>                <div id=\"590343d0-3c6c-436a-9c21-deec90acc437\" class=\"plotly-graph-div\" style=\"height:525px; width:100%;\"></div>            <script type=\"text/javascript\">                                    window.PLOTLYENV=window.PLOTLYENV || {};                                    if (document.getElementById(\"590343d0-3c6c-436a-9c21-deec90acc437\")) {                    Plotly.newPlot(                        \"590343d0-3c6c-436a-9c21-deec90acc437\",                        [{\"hovertemplate\":\"x=%{x}\\u003cbr\\u003ey=%{y}\\u003cbr\\u003etext=%{text}\\u003cextra\\u003e\\u003c\\u002fextra\\u003e\",\"legendgroup\":\"\",\"marker\":{\"color\":\"#636efa\",\"symbol\":\"circle\"},\"mode\":\"markers+text\",\"name\":\"\",\"orientation\":\"v\",\"showlegend\":false,\"text\":[\"the\",\"and\",\"to\",\"of\",\"i\",\"you\",\"a\",\"my\",\"it\",\"in\",\"that\",\"ham\",\"is\",\"not\",\"his\",\"this\",\"with\",\"your\",\"but\",\"for\",\"me\",\"lord\",\"as\",\"what\",\"he\",\"be\",\"so\",\"him\",\"haue\",\"king\",\"will\",\"no\",\"our\",\"we\",\"on\",\"are\",\"if\",\"all\",\"then\",\"shall\",\"thou\",\"by\",\"come\",\"or\",\"hamlet\",\"good\",\"do\",\"hor\",\"her\",\"let\",\"now\",\"thy\",\"more\",\"how\",\"they\",\"from\",\"enter\",\"oh\",\"at\",\"was\",\"like\",\"most\",\"there\",\"well\",\"know\",\"would\",\"selfe\",\"them\",\"loue\",\"may\",\"'tis\",\"sir\",\"vs\",\"qu\",\"did\",\"laer\",\"why\",\"which\",\"giue\",\"must\",\"ile\",\"thee\",\"hath\",\"ophe\",\"out\",\"speake\",\"should\",\"make\",\"an\",\"where\",\"too\",\"such\",\"am\",\"say\",\"when\",\"father\",\"vpon\",\"doe\",\"very\",\"pol\",\"go\",\"their\",\"man\",\"one\",\"some\",\"heere\",\"see\",\"time\",\"these\",\"mine\",\"heauen\",\"had\",\"she\",\"much\",\"rosin\",\"tell\",\"thinke\",\"play\",\"thus\",\"who\",\"horatio\",\"mother\",\"queene\",\"polon\",\"night\",\"o\",\"yet\",\"vp\",\"death\",\"laertes\",\"both\",\"againe\",\"can\",\"th'\",\"soule\",\"nor\",\"take\",\"life\",\"could\",\"heare\",\"mar\",\"owne\",\"looke\",\"heart\",\"dead\",\"might\",\"made\",\"clo\",\"ophelia\",\"downe\",\"hast\",\"pray\",\"nothing\",\"cannot\",\"leaue\",\"into\",\"doth\",\"away\",\"other\",\"whose\",\"indeed\",\"were\",\"nay\",\"head\",\"god\",\"matter\",\"thing\",\"hold\",\"day\",\"nature\",\"neuer\",\"world\",\"call\",\"done\",\"exeunt\",\"comes\",\"true\",\"sweet\",\"two\",\"though\",\"set\",\"put\",\"earth\",\"ghost\",\"feare\",\"euen\",\"mad\",\"madnesse\",\"guild\",\"follow\",\"poore\",\"seene\",\"eyes\",\"faire\",\"against\",\"himselfe\",\"deere\",\"denmarke\",\"those\",\"sonne\"],\"x\":[3.463155,1.0176448,-0.7537081,5.4687433,-6.3561583,-5.515738,8.212309,-7.689032,-2.6233215,5.28377,-1.5727525,-6.563476,0.6494315,-3.5745473,3.7470865,-0.822478,5.163575,0.22279935,-2.0717392,2.056564,-5.1457415,-9.277098,0.20074785,-3.893284,-0.23224896,-3.0384321,0.3729485,-0.86719686,-1.2301813,-6.5865126,-2.3570056,-7.5401397,1.5057405,0.9455733,1.6451681,1.985493,1.0622094,5.1209974,0.84324366,-3.474885,-5.8231263,-4.24476,-10.962839,4.4298625,-10.783095,-11.330939,-5.7564077,-9.098274,5.378451,-4.1284447,-4.3606033,10.334819,11.001524,-7.1375203,0.457623,9.342649,-8.929642,10.1276865,-0.77891165,-2.468536,4.742516,1.045354,-7.261172,-5.2697845,-4.582641,-4.822866,1.5816596,6.696271,6.022625,-0.8160346,-0.42932928,-4.7003846,1.8822889,-7.0605016,-2.475729,-3.6356666,11.64679,9.289022,-7.4228787,-3.282202,-10.435732,-12.597413,-2.575155,-9.941818,6.8860683,-9.00452,-1.5847479,1.2639765,10.448118,-6.268979,4.888693,7.0562534,-2.8706293,-5.395538,-1.2827268,4.1877646,6.638797,-4.1124935,-0.6127089,-10.218441,-7.763619,4.0032053,13.351141,10.823357,5.434243,-3.7461607,-3.5530381,9.581594,-12.716333,3.2921855,7.90116,-4.0595975,-10.414996,3.3219478,-8.772362,-3.1143613,-4.5264406,-1.5237974,7.250979,-8.013253,-10.633273,3.2502322,-9.270277,-6.3845196,-1.0540133,-9.886037,-0.16015252,4.9482694,8.637425,-8.721349,-7.318897,4.6619935,-2.045532,2.624187,3.7550368,5.6412325,5.56428,4.8340597,1.6723719,-6.9331937,-8.443003,5.3191733,-5.060889,6.2416,-2.137524,-3.1511486,1.4558629,-2.755852,-8.21494,-0.28440344,-6.1003475,-7.2119627,-1.4350436,-5.0681634,-6.1569247,7.258428,11.878196,-5.2491074,7.3063264,4.282919,-7.0283027,0.8251093,-9.5911455,3.6721945,-4.22015,-8.158995,11.545972,-2.393573,7.658615,7.4190936,4.163219,12.604115,-7.7249727,12.132427,-7.8668694,3.6878226,5.3329616,-11.856738,-9.575496,-4.9878826,3.9304955,3.1548135,9.051841,-10.427798,0.10352501,7.8491488,-3.4536896,0.6379407,-9.064422,-8.004152,-6.998132,-5.2058783,4.7202044,7.422966,7.965292,-1.4485608,9.388845,8.222003,2.6696532,2.8013923],\"xaxis\":\"x\",\"y\":[-5.217489,-0.8235053,8.994053,-0.6062342,2.2504272,4.775157,-3.4354837,-1.2914793,2.995832,-1.4182254,6.283356,1.1601186,-4.3948565,3.26157,-3.341595,-1.4906161,-1.9006033,-10.367489,0.82362616,-3.463002,5.992254,-0.07152708,2.9759994,4.389425,2.4520674,3.5656233,-0.4946896,0.51635027,7.682102,-6.2558002,8.5766535,0.028340073,6.106046,4.6397176,-0.2023876,-9.534472,10.864025,1.3434852,1.1397147,0.019010752,9.33706,-9.1620035,2.3062007,3.3884306,-6.2183805,-0.7988309,3.103036,-1.1136248,5.0394425,8.059545,-4.876446,-5.390839,4.5732574,-3.5694203,8.201028,8.439965,-7.2225146,-3.962597,-0.8932015,-5.979292,-2.995419,-7.726478,-0.45310837,0.6122532,3.550822,1.7423865,-5.4882717,6.082862,8.018783,0.2656721,-6.358985,-6.8279424,5.332059,1.1650863,2.2518492,-1.8073415,-0.6684851,5.737473,6.115648,7.4644513,4.808679,-4.6616144,-0.62544066,-0.9994092,0.090212844,5.6018376,-4.9542217,9.559675,-1.6460875,-4.8530245,-9.916152,-1.7783445,-5.1017194,-0.5805956,2.7616575,-6.8741207,-8.216987,1.8396993,-7.6942587,-1.0977416,7.610379,9.541231,1.00686,1.4006732,7.07942,-5.566388,10.774152,4.3952446,0.4260442,-3.1435363,-6.7024283,6.3196416,-3.2887843,-9.1284685,-1.690252,5.490322,4.2627783,10.1384325,7.231044,-5.4685764,-7.05064,-7.2821264,-6.517514,1.4969329,10.645253,-2.9391859,-3.7561493,4.3348107,-1.271096,-5.7257457,-10.414204,5.747562,7.505082,-6.368726,-4.3256254,-9.864907,5.9854755,-4.4618645,7.5428963,4.8544884,0.7230909,-5.0725865,-5.141026,-5.1956654,-3.4315338,7.4021225,-4.5598683,-2.9206045,-8.314939,-10.109947,10.323738,3.0395749,7.1367726,-10.760235,5.5928946,3.1016243,-4.392437,7.0117397,0.029373733,-2.5622666,-1.9800571,9.404147,1.1056608,1.3508512,-0.41835493,-3.2615023,-0.6279163,3.859669,9.014518,5.175561,6.697969,-2.4106686,3.9657786,-0.50805366,-6.2626367,11.360506,-6.970942,-1.9306848,-6.037793,-10.616385,3.7516437,2.5726864,2.5750425,-6.933795,-2.7262921,1.0913476,-3.8399,-1.4773393,-2.4699214,2.750735,-7.3665066,-3.326506,-5.1846185,-3.8010187,4.8618855,4.1165614,-7.4640684,-4.176806,9.201231,-7.663348],\"yaxis\":\"y\",\"type\":\"scatter\"}],                        {\"template\":{\"data\":{\"histogram2dcontour\":[{\"type\":\"histogram2dcontour\",\"colorbar\":{\"outlinewidth\":0,\"ticks\":\"\"},\"colorscale\":[[0.0,\"#0d0887\"],[0.1111111111111111,\"#46039f\"],[0.2222222222222222,\"#7201a8\"],[0.3333333333333333,\"#9c179e\"],[0.4444444444444444,\"#bd3786\"],[0.5555555555555556,\"#d8576b\"],[0.6666666666666666,\"#ed7953\"],[0.7777777777777778,\"#fb9f3a\"],[0.8888888888888888,\"#fdca26\"],[1.0,\"#f0f921\"]]}],\"choropleth\":[{\"type\":\"choropleth\",\"colorbar\":{\"outlinewidth\":0,\"ticks\":\"\"}}],\"histogram2d\":[{\"type\":\"histogram2d\",\"colorbar\":{\"outlinewidth\":0,\"ticks\":\"\"},\"colorscale\":[[0.0,\"#0d0887\"],[0.1111111111111111,\"#46039f\"],[0.2222222222222222,\"#7201a8\"],[0.3333333333333333,\"#9c179e\"],[0.4444444444444444,\"#bd3786\"],[0.5555555555555556,\"#d8576b\"],[0.6666666666666666,\"#ed7953\"],[0.7777777777777778,\"#fb9f3a\"],[0.8888888888888888,\"#fdca26\"],[1.0,\"#f0f921\"]]}],\"heatmap\":[{\"type\":\"heatmap\",\"colorbar\":{\"outlinewidth\":0,\"ticks\":\"\"},\"colorscale\":[[0.0,\"#0d0887\"],[0.1111111111111111,\"#46039f\"],[0.2222222222222222,\"#7201a8\"],[0.3333333333333333,\"#9c179e\"],[0.4444444444444444,\"#bd3786\"],[0.5555555555555556,\"#d8576b\"],[0.6666666666666666,\"#ed7953\"],[0.7777777777777778,\"#fb9f3a\"],[0.8888888888888888,\"#fdca26\"],[1.0,\"#f0f921\"]]}],\"heatmapgl\":[{\"type\":\"heatmapgl\",\"colorbar\":{\"outlinewidth\":0,\"ticks\":\"\"},\"colorscale\":[[0.0,\"#0d0887\"],[0.1111111111111111,\"#46039f\"],[0.2222222222222222,\"#7201a8\"],[0.3333333333333333,\"#9c179e\"],[0.4444444444444444,\"#bd3786\"],[0.5555555555555556,\"#d8576b\"],[0.6666666666666666,\"#ed7953\"],[0.7777777777777778,\"#fb9f3a\"],[0.8888888888888888,\"#fdca26\"],[1.0,\"#f0f921\"]]}],\"contourcarpet\":[{\"type\":\"contourcarpet\",\"colorbar\":{\"outlinewidth\":0,\"ticks\":\"\"}}],\"contour\":[{\"type\":\"contour\",\"colorbar\":{\"outlinewidth\":0,\"ticks\":\"\"},\"colorscale\":[[0.0,\"#0d0887\"],[0.1111111111111111,\"#46039f\"],[0.2222222222222222,\"#7201a8\"],[0.3333333333333333,\"#9c179e\"],[0.4444444444444444,\"#bd3786\"],[0.5555555555555556,\"#d8576b\"],[0.6666666666666666,\"#ed7953\"],[0.7777777777777778,\"#fb9f3a\"],[0.8888888888888888,\"#fdca26\"],[1.0,\"#f0f921\"]]}],\"surface\":[{\"type\":\"surface\",\"colorbar\":{\"outlinewidth\":0,\"ticks\":\"\"},\"colorscale\":[[0.0,\"#0d0887\"],[0.1111111111111111,\"#46039f\"],[0.2222222222222222,\"#7201a8\"],[0.3333333333333333,\"#9c179e\"],[0.4444444444444444,\"#bd3786\"],[0.5555555555555556,\"#d8576b\"],[0.6666666666666666,\"#ed7953\"],[0.7777777777777778,\"#fb9f3a\"],[0.8888888888888888,\"#fdca26\"],[1.0,\"#f0f921\"]]}],\"mesh3d\":[{\"type\":\"mesh3d\",\"colorbar\":{\"outlinewidth\":0,\"ticks\":\"\"}}],\"scatter\":[{\"fillpattern\":{\"fillmode\":\"overlay\",\"size\":10,\"solidity\":0.2},\"type\":\"scatter\"}],\"parcoords\":[{\"type\":\"parcoords\",\"line\":{\"colorbar\":{\"outlinewidth\":0,\"ticks\":\"\"}}}],\"scatterpolargl\":[{\"type\":\"scatterpolargl\",\"marker\":{\"colorbar\":{\"outlinewidth\":0,\"ticks\":\"\"}}}],\"bar\":[{\"error_x\":{\"color\":\"#2a3f5f\"},\"error_y\":{\"color\":\"#2a3f5f\"},\"marker\":{\"line\":{\"color\":\"#E5ECF6\",\"width\":0.5},\"pattern\":{\"fillmode\":\"overlay\",\"size\":10,\"solidity\":0.2}},\"type\":\"bar\"}],\"scattergeo\":[{\"type\":\"scattergeo\",\"marker\":{\"colorbar\":{\"outlinewidth\":0,\"ticks\":\"\"}}}],\"scatterpolar\":[{\"type\":\"scatterpolar\",\"marker\":{\"colorbar\":{\"outlinewidth\":0,\"ticks\":\"\"}}}],\"histogram\":[{\"marker\":{\"pattern\":{\"fillmode\":\"overlay\",\"size\":10,\"solidity\":0.2}},\"type\":\"histogram\"}],\"scattergl\":[{\"type\":\"scattergl\",\"marker\":{\"colorbar\":{\"outlinewidth\":0,\"ticks\":\"\"}}}],\"scatter3d\":[{\"type\":\"scatter3d\",\"line\":{\"colorbar\":{\"outlinewidth\":0,\"ticks\":\"\"}},\"marker\":{\"colorbar\":{\"outlinewidth\":0,\"ticks\":\"\"}}}],\"scattermapbox\":[{\"type\":\"scattermapbox\",\"marker\":{\"colorbar\":{\"outlinewidth\":0,\"ticks\":\"\"}}}],\"scatterternary\":[{\"type\":\"scatterternary\",\"marker\":{\"colorbar\":{\"outlinewidth\":0,\"ticks\":\"\"}}}],\"scattercarpet\":[{\"type\":\"scattercarpet\",\"marker\":{\"colorbar\":{\"outlinewidth\":0,\"ticks\":\"\"}}}],\"carpet\":[{\"aaxis\":{\"endlinecolor\":\"#2a3f5f\",\"gridcolor\":\"white\",\"linecolor\":\"white\",\"minorgridcolor\":\"white\",\"startlinecolor\":\"#2a3f5f\"},\"baxis\":{\"endlinecolor\":\"#2a3f5f\",\"gridcolor\":\"white\",\"linecolor\":\"white\",\"minorgridcolor\":\"white\",\"startlinecolor\":\"#2a3f5f\"},\"type\":\"carpet\"}],\"table\":[{\"cells\":{\"fill\":{\"color\":\"#EBF0F8\"},\"line\":{\"color\":\"white\"}},\"header\":{\"fill\":{\"color\":\"#C8D4E3\"},\"line\":{\"color\":\"white\"}},\"type\":\"table\"}],\"barpolar\":[{\"marker\":{\"line\":{\"color\":\"#E5ECF6\",\"width\":0.5},\"pattern\":{\"fillmode\":\"overlay\",\"size\":10,\"solidity\":0.2}},\"type\":\"barpolar\"}],\"pie\":[{\"automargin\":true,\"type\":\"pie\"}]},\"layout\":{\"autotypenumbers\":\"strict\",\"colorway\":[\"#636efa\",\"#EF553B\",\"#00cc96\",\"#ab63fa\",\"#FFA15A\",\"#19d3f3\",\"#FF6692\",\"#B6E880\",\"#FF97FF\",\"#FECB52\"],\"font\":{\"color\":\"#2a3f5f\"},\"hovermode\":\"closest\",\"hoverlabel\":{\"align\":\"left\"},\"paper_bgcolor\":\"white\",\"plot_bgcolor\":\"#E5ECF6\",\"polar\":{\"bgcolor\":\"#E5ECF6\",\"angularaxis\":{\"gridcolor\":\"white\",\"linecolor\":\"white\",\"ticks\":\"\"},\"radialaxis\":{\"gridcolor\":\"white\",\"linecolor\":\"white\",\"ticks\":\"\"}},\"ternary\":{\"bgcolor\":\"#E5ECF6\",\"aaxis\":{\"gridcolor\":\"white\",\"linecolor\":\"white\",\"ticks\":\"\"},\"baxis\":{\"gridcolor\":\"white\",\"linecolor\":\"white\",\"ticks\":\"\"},\"caxis\":{\"gridcolor\":\"white\",\"linecolor\":\"white\",\"ticks\":\"\"}},\"coloraxis\":{\"colorbar\":{\"outlinewidth\":0,\"ticks\":\"\"}},\"colorscale\":{\"sequential\":[[0.0,\"#0d0887\"],[0.1111111111111111,\"#46039f\"],[0.2222222222222222,\"#7201a8\"],[0.3333333333333333,\"#9c179e\"],[0.4444444444444444,\"#bd3786\"],[0.5555555555555556,\"#d8576b\"],[0.6666666666666666,\"#ed7953\"],[0.7777777777777778,\"#fb9f3a\"],[0.8888888888888888,\"#fdca26\"],[1.0,\"#f0f921\"]],\"sequentialminus\":[[0.0,\"#0d0887\"],[0.1111111111111111,\"#46039f\"],[0.2222222222222222,\"#7201a8\"],[0.3333333333333333,\"#9c179e\"],[0.4444444444444444,\"#bd3786\"],[0.5555555555555556,\"#d8576b\"],[0.6666666666666666,\"#ed7953\"],[0.7777777777777778,\"#fb9f3a\"],[0.8888888888888888,\"#fdca26\"],[1.0,\"#f0f921\"]],\"diverging\":[[0,\"#8e0152\"],[0.1,\"#c51b7d\"],[0.2,\"#de77ae\"],[0.3,\"#f1b6da\"],[0.4,\"#fde0ef\"],[0.5,\"#f7f7f7\"],[0.6,\"#e6f5d0\"],[0.7,\"#b8e186\"],[0.8,\"#7fbc41\"],[0.9,\"#4d9221\"],[1,\"#276419\"]]},\"xaxis\":{\"gridcolor\":\"white\",\"linecolor\":\"white\",\"ticks\":\"\",\"title\":{\"standoff\":15},\"zerolinecolor\":\"white\",\"automargin\":true,\"zerolinewidth\":2},\"yaxis\":{\"gridcolor\":\"white\",\"linecolor\":\"white\",\"ticks\":\"\",\"title\":{\"standoff\":15},\"zerolinecolor\":\"white\",\"automargin\":true,\"zerolinewidth\":2},\"scene\":{\"xaxis\":{\"backgroundcolor\":\"#E5ECF6\",\"gridcolor\":\"white\",\"linecolor\":\"white\",\"showbackground\":true,\"ticks\":\"\",\"zerolinecolor\":\"white\",\"gridwidth\":2},\"yaxis\":{\"backgroundcolor\":\"#E5ECF6\",\"gridcolor\":\"white\",\"linecolor\":\"white\",\"showbackground\":true,\"ticks\":\"\",\"zerolinecolor\":\"white\",\"gridwidth\":2},\"zaxis\":{\"backgroundcolor\":\"#E5ECF6\",\"gridcolor\":\"white\",\"linecolor\":\"white\",\"showbackground\":true,\"ticks\":\"\",\"zerolinecolor\":\"white\",\"gridwidth\":2}},\"shapedefaults\":{\"line\":{\"color\":\"#2a3f5f\"}},\"annotationdefaults\":{\"arrowcolor\":\"#2a3f5f\",\"arrowhead\":0,\"arrowwidth\":1},\"geo\":{\"bgcolor\":\"white\",\"landcolor\":\"#E5ECF6\",\"subunitcolor\":\"white\",\"showland\":true,\"showlakes\":true,\"lakecolor\":\"white\"},\"title\":{\"x\":0.05},\"mapbox\":{\"style\":\"light\"}}},\"xaxis\":{\"anchor\":\"y\",\"domain\":[0.0,1.0],\"title\":{\"text\":\"x\"}},\"yaxis\":{\"anchor\":\"x\",\"domain\":[0.0,1.0],\"title\":{\"text\":\"y\"}},\"legend\":{\"tracegroupgap\":0},\"margin\":{\"t\":60}},                        {\"responsive\": true}                    ).then(function(){\n",
       "                            \n",
       "var gd = document.getElementById('590343d0-3c6c-436a-9c21-deec90acc437');\n",
       "var x = new MutationObserver(function (mutations, observer) {{\n",
       "        var display = window.getComputedStyle(gd).display;\n",
       "        if (!display || display === 'none') {{\n",
       "            console.log([gd, 'removed!']);\n",
       "            Plotly.purge(gd);\n",
       "            observer.disconnect();\n",
       "        }}\n",
       "}});\n",
       "\n",
       "// Listen for the removal of the full notebook cells\n",
       "var notebookContainer = gd.closest('#notebook-container');\n",
       "if (notebookContainer) {{\n",
       "    x.observe(notebookContainer, {childList: true});\n",
       "}}\n",
       "\n",
       "// Listen for the clearing of the current output cell\n",
       "var outputEl = gd.closest('.output');\n",
       "if (outputEl) {{\n",
       "    x.observe(outputEl, {childList: true});\n",
       "}}\n",
       "\n",
       "                        })                };                            </script>        </div>\n",
       "</body>\n",
       "</html>"
      ]
     },
     "metadata": {},
     "output_type": "display_data"
    }
   ],
   "source": [
    "# Graficar los embedddings en 2D\n",
    "import plotly.graph_objects as go\n",
    "import plotly.express as px\n",
    "\n",
    "vecs, labels = reduce_dimensions(w2v_model)\n",
    "\n",
    "MAX_WORDS=200\n",
    "fig = px.scatter(x=vecs[:MAX_WORDS,0], y=vecs[:MAX_WORDS,1], text=labels[:MAX_WORDS])\n",
    "fig.show(renderer=\"colab\") # esto para plotly en colab"
   ]
  },
  {
   "cell_type": "code",
   "execution_count": 27,
   "metadata": {},
   "outputs": [
    {
     "data": {
      "text/html": [
       "<html>\n",
       "<head><meta charset=\"utf-8\" /></head>\n",
       "<body>\n",
       "    <div>            <script src=\"https://cdnjs.cloudflare.com/ajax/libs/mathjax/2.7.5/MathJax.js?config=TeX-AMS-MML_SVG\"></script><script type=\"text/javascript\">if (window.MathJax && window.MathJax.Hub && window.MathJax.Hub.Config) {window.MathJax.Hub.Config({SVG: {font: \"STIX-Web\"}});}</script>                <script type=\"text/javascript\">window.PlotlyConfig = {MathJaxConfig: 'local'};</script>\n",
       "        <script charset=\"utf-8\" src=\"https://cdn.plot.ly/plotly-2.35.2.min.js\"></script>                <div id=\"1fa71537-4fa7-4f63-8334-088b49f3e589\" class=\"plotly-graph-div\" style=\"height:525px; width:100%;\"></div>            <script type=\"text/javascript\">                                    window.PLOTLYENV=window.PLOTLYENV || {};                                    if (document.getElementById(\"1fa71537-4fa7-4f63-8334-088b49f3e589\")) {                    Plotly.newPlot(                        \"1fa71537-4fa7-4f63-8334-088b49f3e589\",                        [{\"hovertemplate\":\"x=%{x}\\u003cbr\\u003ey=%{y}\\u003cbr\\u003ez=%{z}\\u003cbr\\u003etext=%{text}\\u003cextra\\u003e\\u003c\\u002fextra\\u003e\",\"legendgroup\":\"\",\"marker\":{\"color\":\"#636efa\",\"symbol\":\"circle\",\"size\":2},\"mode\":\"markers+text\",\"name\":\"\",\"scene\":\"scene\",\"showlegend\":false,\"text\":[\"the\",\"and\",\"to\",\"of\",\"i\",\"you\",\"a\",\"my\",\"it\",\"in\",\"that\",\"ham\",\"is\",\"not\",\"his\",\"this\",\"with\",\"your\",\"but\",\"for\",\"me\",\"lord\",\"as\",\"what\",\"he\",\"be\",\"so\",\"him\",\"haue\",\"king\",\"will\",\"no\",\"our\",\"we\",\"on\",\"are\",\"if\",\"all\",\"then\",\"shall\",\"thou\",\"by\",\"come\",\"or\",\"hamlet\",\"good\",\"do\",\"hor\",\"her\",\"let\",\"now\",\"thy\",\"more\",\"how\",\"they\",\"from\",\"enter\",\"oh\",\"at\",\"was\",\"like\",\"most\",\"there\",\"well\",\"know\",\"would\",\"selfe\",\"them\",\"loue\",\"may\",\"'tis\",\"sir\",\"vs\",\"qu\",\"did\",\"laer\",\"why\",\"which\",\"giue\",\"must\",\"ile\",\"thee\",\"hath\",\"ophe\",\"out\",\"speake\",\"should\",\"make\",\"an\",\"where\",\"too\",\"such\",\"am\",\"say\",\"when\",\"father\",\"vpon\",\"doe\",\"very\",\"pol\",\"go\",\"their\",\"man\",\"one\",\"some\",\"heere\",\"see\",\"time\",\"these\",\"mine\",\"heauen\",\"had\",\"she\",\"much\",\"rosin\",\"tell\",\"thinke\",\"play\",\"thus\",\"who\",\"horatio\",\"mother\",\"queene\",\"polon\",\"night\",\"o\",\"yet\",\"vp\",\"death\",\"laertes\",\"both\",\"againe\",\"can\",\"th'\",\"soule\",\"nor\",\"take\",\"life\",\"could\",\"heare\",\"mar\",\"owne\",\"looke\",\"heart\",\"dead\",\"might\",\"made\",\"clo\",\"ophelia\",\"downe\",\"hast\",\"pray\",\"nothing\",\"cannot\",\"leaue\",\"into\",\"doth\",\"away\",\"other\",\"whose\",\"indeed\",\"were\",\"nay\",\"head\",\"god\",\"matter\",\"thing\",\"hold\",\"day\",\"nature\",\"neuer\",\"world\",\"call\",\"done\",\"exeunt\",\"comes\",\"true\",\"sweet\",\"two\",\"though\",\"set\",\"put\",\"earth\",\"ghost\",\"feare\",\"euen\",\"mad\",\"madnesse\",\"guild\",\"follow\",\"poore\",\"seene\",\"eyes\",\"faire\",\"against\",\"himselfe\",\"deere\",\"denmarke\",\"those\",\"sonne\"],\"x\":[-15.904293,-7.674393,36.261158,-32.649994,66.55091,49.133392,-59.012486,3.0485826,24.867386,-32.22052,37.50662,25.982151,-44.70866,25.01091,-39.377464,12.109728,-18.069387,47.525482,20.74875,-33.539047,-7.8587418,16.109226,-12.343542,-21.981697,-3.1005259,22.661413,67.59672,32.275112,47.92823,-27.928686,54.668697,-43.17847,9.811282,5.5483174,-17.685583,22.417511,2.3048263,-9.387836,13.017878,62.550896,20.6994,-7.1673975,39.0981,-8.904189,-42.91193,20.863045,56.244434,9.113651,32.190487,49.98338,-6.607961,-41.37863,-37.129486,-6.5899186,17.097136,-17.981579,-60.567196,-64.16978,1.6089543,-11.729454,-32.25486,-61.059265,16.745161,36.15193,30.601274,57.909313,29.795347,14.259633,-17.215607,43.262463,-23.884382,-10.809709,26.555191,34.879086,28.04152,49.709568,-38.803623,-13.084112,53.36914,39.729282,42.211536,60.365257,-40.53122,3.147477,-22.18377,64.47448,-16.91408,33.99096,-69.32598,-18.449745,23.848782,-43.32738,16.338367,27.55987,0.42865673,-25.262985,4.1957603,40.794853,-40.282024,-3.7200074,27.710411,-51.77648,4.224981,-2.9796884,-24.252804,48.441467,65.08116,-7.3841925,12.617691,-42.34835,-54.05045,-3.8377473,15.2037325,12.653095,13.683626,56.1328,29.160969,53.58338,-19.23492,-38.000523,-55.246143,-17.935205,-40.96751,16.188778,49.428295,-0.5255797,-13.90112,22.931757,-48.2228,-33.669388,3.3488264,39.153667,38.557953,-55.58538,-15.367453,-61.924694,42.501602,-35.781147,13.2396345,57.913525,44.711487,-39.79719,3.9264288,-51.60773,0.013254286,35.823666,-34.009098,7.649783,-53.91679,46.2865,25.283735,49.44831,56.93781,49.77739,41.7914,-13.522061,-33.564465,69.253555,51.997112,-29.889273,-5.858434,37.494144,29.474434,-10.121821,25.07599,-21.672588,-47.427505,20.417961,-36.48616,5.2242217,15.632636,-4.5056543,34.97697,-50.495502,-47.280243,45.069042,-38.18092,23.90518,-34.385178,47.755344,55.895233,17.771664,-16.146723,-46.75361,31.282663,-37.20365,-11.719626,-27.90427,-3.350073,38.90608,-55.748775,-14.675459,-28.25983,-47.69189,-8.454308,8.296107,-54.646564,-43.39816,17.358881,-5.385959],\"y\":[49.954617,50.774483,58.033546,50.45323,-21.254837,0.38985783,14.074667,-13.699725,-12.479365,-0.657987,-48.99261,-48.8584,-22.28226,-18.01121,56.37875,-19.855404,10.789095,13.380293,-37.992577,-21.381657,-22.297081,-13.781326,-29.899757,-25.407385,-40.73449,-5.399182,-21.625687,11.068208,-46.516712,22.469336,-13.672206,-40.434795,57.677654,52.39962,39.244656,23.997347,-35.15955,39.091217,-54.622265,1.8512344,-25.727703,25.991835,19.743017,14.112213,19.44861,7.028202,-10.449911,8.392441,29.519278,-15.849995,-63.336628,-9.436505,-33.89128,-24.38032,45.828815,33.171806,10.522818,-5.296778,32.232647,-55.59613,-9.226149,-29.432768,-69.44509,-30.584743,-17.078241,-40.390312,40.066612,49.857365,-1.255641,12.094868,-19.111118,-58.14745,46.324455,-50.20509,-38.758644,2.0694058,-54.820328,-50.436306,13.132451,-26.531075,33.9115,7.316742,-16.757978,-35.62845,42.380604,0.89763373,-65.67191,5.1373987,-7.400694,-37.862103,22.79601,7.85608,-53.63056,-40.183308,-46.576206,4.346752,67.98899,-35.9403,-35.48287,-39.707073,43.539417,32.842636,-29.311743,-20.03657,65.9662,-2.1183133,12.77556,63.037434,29.350359,-21.09645,-6.362841,-70.99869,-63.350147,27.697105,-4.679394,-21.880974,-29.926836,38.43192,-41.47393,17.150797,-0.14425583,16.369965,1.4530022,-47.315315,29.929043,2.2739418,-17.90495,21.558895,43.63824,14.135587,41.72778,23.002533,-32.73683,13.23239,17.794485,-29.783203,36.217743,29.969374,-6.617688,1.0646399,-17.864834,17.553835,-58.50089,-23.632145,-42.27046,-18.277683,-28.233759,-48.845673,-3.1313581,0.3865182,-14.977144,-22.282406,-35.85513,-30.93642,7.798083,-33.093075,3.5003107,11.895043,1.4596362,-12.954871,-19.47152,-5.277789,-12.82362,25.453123,-34.878395,-2.6533022,-43.480785,-2.4992657,24.37588,57.48362,25.594206,-6.5617085,10.096847,-50.35321,15.345221,30.924822,-20.163103,9.331664,7.321455,-40.27445,18.022331,28.692463,33.12586,2.237092,-62.33098,-4.94939,-39.061012,-62.08258,11.380054,-13.695336,16.628336,-72.50009,28.491585,21.465488,57.69467,-14.416598,37.768967,7.29137,20.067049,21.71646],\"z\":[-18.205503,-3.2160094,5.8989472,15.1280985,-8.674173,-2.7378535,-2.5022945,-54.61489,6.832602,43.404137,18.981512,-24.516357,-47.666492,-4.225205,1.7545189,37.372635,39.96384,13.092399,-4.085011,18.844555,38.628487,-49.85803,13.643419,-58.969143,15.423239,-9.877896,30.79226,16.449753,7.556715,-54.280743,22.43248,-3.452245,0.9714938,-15.107698,56.383392,-26.179224,35.95622,3.634467,37.49233,27.72673,58.102406,-62.191475,-54.069675,68.0807,-49.23795,-44.1951,-36.488758,-47.549953,32.387245,38.382072,-20.464605,21.369175,12.685009,-50.621918,-50.630024,-34.32678,-29.7317,2.4513345,-29.138645,-0.044341557,34.479458,-13.65976,-18.574898,-35.64937,-19.254675,-7.7812185,-16.635199,47.342342,55.627544,33.27879,-30.663807,-37.63421,8.100364,-27.283955,33.638794,-52.600517,17.035301,29.676144,-12.684864,32.065006,-30.251333,-39.67525,-33.62775,-53.714985,16.507751,1.0822967,16.879732,52.754063,20.443201,-43.945957,-10.143031,34.51029,-14.460918,-39.17967,28.422234,-26.906773,-9.537375,-13.729552,-30.624565,-44.349457,36.512074,39.130466,50.13592,60.579315,21.086502,58.22134,12.467944,17.979523,-43.52764,30.903616,40.138584,9.792394,19.001345,-18.806019,-61.982952,4.180787,-13.082821,-0.26199695,42.11696,-19.140768,-45.968754,-35.996555,-35.398647,-30.019335,11.27506,-67.84072,-18.821657,16.237625,15.57698,-34.015778,-43.750072,22.019684,16.978455,42.46118,-15.664569,15.260026,25.665596,-7.074439,41.2232,-19.75772,-48.096046,51.568962,-33.679386,-0.90878737,-13.822788,29.38765,-8.55197,-4.352999,-29.56777,11.691808,46.812595,-29.041296,12.306294,26.118628,-8.990172,31.123217,59.493954,-8.573354,41.426716,52.135864,-65.62474,43.07194,-56.335136,-9.430337,-24.566763,-58.465588,20.853586,1.3432161,36.871124,21.584015,40.03476,68.38972,-21.439781,7.744207,-21.417185,41.01958,5.7991815,-63.395752,-45.74479,30.136774,26.91222,-0.39233893,38.791874,-47.708355,10.501558,-20.717915,-19.346737,34.157818,-53.539658,-34.798874,-18.30374,-3.1184006,-23.858093,-9.312638,33.008396,6.3486547,-10.525308,-12.890248,61.47797,-35.476883],\"type\":\"scatter3d\"}],                        {\"template\":{\"data\":{\"histogram2dcontour\":[{\"type\":\"histogram2dcontour\",\"colorbar\":{\"outlinewidth\":0,\"ticks\":\"\"},\"colorscale\":[[0.0,\"#0d0887\"],[0.1111111111111111,\"#46039f\"],[0.2222222222222222,\"#7201a8\"],[0.3333333333333333,\"#9c179e\"],[0.4444444444444444,\"#bd3786\"],[0.5555555555555556,\"#d8576b\"],[0.6666666666666666,\"#ed7953\"],[0.7777777777777778,\"#fb9f3a\"],[0.8888888888888888,\"#fdca26\"],[1.0,\"#f0f921\"]]}],\"choropleth\":[{\"type\":\"choropleth\",\"colorbar\":{\"outlinewidth\":0,\"ticks\":\"\"}}],\"histogram2d\":[{\"type\":\"histogram2d\",\"colorbar\":{\"outlinewidth\":0,\"ticks\":\"\"},\"colorscale\":[[0.0,\"#0d0887\"],[0.1111111111111111,\"#46039f\"],[0.2222222222222222,\"#7201a8\"],[0.3333333333333333,\"#9c179e\"],[0.4444444444444444,\"#bd3786\"],[0.5555555555555556,\"#d8576b\"],[0.6666666666666666,\"#ed7953\"],[0.7777777777777778,\"#fb9f3a\"],[0.8888888888888888,\"#fdca26\"],[1.0,\"#f0f921\"]]}],\"heatmap\":[{\"type\":\"heatmap\",\"colorbar\":{\"outlinewidth\":0,\"ticks\":\"\"},\"colorscale\":[[0.0,\"#0d0887\"],[0.1111111111111111,\"#46039f\"],[0.2222222222222222,\"#7201a8\"],[0.3333333333333333,\"#9c179e\"],[0.4444444444444444,\"#bd3786\"],[0.5555555555555556,\"#d8576b\"],[0.6666666666666666,\"#ed7953\"],[0.7777777777777778,\"#fb9f3a\"],[0.8888888888888888,\"#fdca26\"],[1.0,\"#f0f921\"]]}],\"heatmapgl\":[{\"type\":\"heatmapgl\",\"colorbar\":{\"outlinewidth\":0,\"ticks\":\"\"},\"colorscale\":[[0.0,\"#0d0887\"],[0.1111111111111111,\"#46039f\"],[0.2222222222222222,\"#7201a8\"],[0.3333333333333333,\"#9c179e\"],[0.4444444444444444,\"#bd3786\"],[0.5555555555555556,\"#d8576b\"],[0.6666666666666666,\"#ed7953\"],[0.7777777777777778,\"#fb9f3a\"],[0.8888888888888888,\"#fdca26\"],[1.0,\"#f0f921\"]]}],\"contourcarpet\":[{\"type\":\"contourcarpet\",\"colorbar\":{\"outlinewidth\":0,\"ticks\":\"\"}}],\"contour\":[{\"type\":\"contour\",\"colorbar\":{\"outlinewidth\":0,\"ticks\":\"\"},\"colorscale\":[[0.0,\"#0d0887\"],[0.1111111111111111,\"#46039f\"],[0.2222222222222222,\"#7201a8\"],[0.3333333333333333,\"#9c179e\"],[0.4444444444444444,\"#bd3786\"],[0.5555555555555556,\"#d8576b\"],[0.6666666666666666,\"#ed7953\"],[0.7777777777777778,\"#fb9f3a\"],[0.8888888888888888,\"#fdca26\"],[1.0,\"#f0f921\"]]}],\"surface\":[{\"type\":\"surface\",\"colorbar\":{\"outlinewidth\":0,\"ticks\":\"\"},\"colorscale\":[[0.0,\"#0d0887\"],[0.1111111111111111,\"#46039f\"],[0.2222222222222222,\"#7201a8\"],[0.3333333333333333,\"#9c179e\"],[0.4444444444444444,\"#bd3786\"],[0.5555555555555556,\"#d8576b\"],[0.6666666666666666,\"#ed7953\"],[0.7777777777777778,\"#fb9f3a\"],[0.8888888888888888,\"#fdca26\"],[1.0,\"#f0f921\"]]}],\"mesh3d\":[{\"type\":\"mesh3d\",\"colorbar\":{\"outlinewidth\":0,\"ticks\":\"\"}}],\"scatter\":[{\"fillpattern\":{\"fillmode\":\"overlay\",\"size\":10,\"solidity\":0.2},\"type\":\"scatter\"}],\"parcoords\":[{\"type\":\"parcoords\",\"line\":{\"colorbar\":{\"outlinewidth\":0,\"ticks\":\"\"}}}],\"scatterpolargl\":[{\"type\":\"scatterpolargl\",\"marker\":{\"colorbar\":{\"outlinewidth\":0,\"ticks\":\"\"}}}],\"bar\":[{\"error_x\":{\"color\":\"#2a3f5f\"},\"error_y\":{\"color\":\"#2a3f5f\"},\"marker\":{\"line\":{\"color\":\"#E5ECF6\",\"width\":0.5},\"pattern\":{\"fillmode\":\"overlay\",\"size\":10,\"solidity\":0.2}},\"type\":\"bar\"}],\"scattergeo\":[{\"type\":\"scattergeo\",\"marker\":{\"colorbar\":{\"outlinewidth\":0,\"ticks\":\"\"}}}],\"scatterpolar\":[{\"type\":\"scatterpolar\",\"marker\":{\"colorbar\":{\"outlinewidth\":0,\"ticks\":\"\"}}}],\"histogram\":[{\"marker\":{\"pattern\":{\"fillmode\":\"overlay\",\"size\":10,\"solidity\":0.2}},\"type\":\"histogram\"}],\"scattergl\":[{\"type\":\"scattergl\",\"marker\":{\"colorbar\":{\"outlinewidth\":0,\"ticks\":\"\"}}}],\"scatter3d\":[{\"type\":\"scatter3d\",\"line\":{\"colorbar\":{\"outlinewidth\":0,\"ticks\":\"\"}},\"marker\":{\"colorbar\":{\"outlinewidth\":0,\"ticks\":\"\"}}}],\"scattermapbox\":[{\"type\":\"scattermapbox\",\"marker\":{\"colorbar\":{\"outlinewidth\":0,\"ticks\":\"\"}}}],\"scatterternary\":[{\"type\":\"scatterternary\",\"marker\":{\"colorbar\":{\"outlinewidth\":0,\"ticks\":\"\"}}}],\"scattercarpet\":[{\"type\":\"scattercarpet\",\"marker\":{\"colorbar\":{\"outlinewidth\":0,\"ticks\":\"\"}}}],\"carpet\":[{\"aaxis\":{\"endlinecolor\":\"#2a3f5f\",\"gridcolor\":\"white\",\"linecolor\":\"white\",\"minorgridcolor\":\"white\",\"startlinecolor\":\"#2a3f5f\"},\"baxis\":{\"endlinecolor\":\"#2a3f5f\",\"gridcolor\":\"white\",\"linecolor\":\"white\",\"minorgridcolor\":\"white\",\"startlinecolor\":\"#2a3f5f\"},\"type\":\"carpet\"}],\"table\":[{\"cells\":{\"fill\":{\"color\":\"#EBF0F8\"},\"line\":{\"color\":\"white\"}},\"header\":{\"fill\":{\"color\":\"#C8D4E3\"},\"line\":{\"color\":\"white\"}},\"type\":\"table\"}],\"barpolar\":[{\"marker\":{\"line\":{\"color\":\"#E5ECF6\",\"width\":0.5},\"pattern\":{\"fillmode\":\"overlay\",\"size\":10,\"solidity\":0.2}},\"type\":\"barpolar\"}],\"pie\":[{\"automargin\":true,\"type\":\"pie\"}]},\"layout\":{\"autotypenumbers\":\"strict\",\"colorway\":[\"#636efa\",\"#EF553B\",\"#00cc96\",\"#ab63fa\",\"#FFA15A\",\"#19d3f3\",\"#FF6692\",\"#B6E880\",\"#FF97FF\",\"#FECB52\"],\"font\":{\"color\":\"#2a3f5f\"},\"hovermode\":\"closest\",\"hoverlabel\":{\"align\":\"left\"},\"paper_bgcolor\":\"white\",\"plot_bgcolor\":\"#E5ECF6\",\"polar\":{\"bgcolor\":\"#E5ECF6\",\"angularaxis\":{\"gridcolor\":\"white\",\"linecolor\":\"white\",\"ticks\":\"\"},\"radialaxis\":{\"gridcolor\":\"white\",\"linecolor\":\"white\",\"ticks\":\"\"}},\"ternary\":{\"bgcolor\":\"#E5ECF6\",\"aaxis\":{\"gridcolor\":\"white\",\"linecolor\":\"white\",\"ticks\":\"\"},\"baxis\":{\"gridcolor\":\"white\",\"linecolor\":\"white\",\"ticks\":\"\"},\"caxis\":{\"gridcolor\":\"white\",\"linecolor\":\"white\",\"ticks\":\"\"}},\"coloraxis\":{\"colorbar\":{\"outlinewidth\":0,\"ticks\":\"\"}},\"colorscale\":{\"sequential\":[[0.0,\"#0d0887\"],[0.1111111111111111,\"#46039f\"],[0.2222222222222222,\"#7201a8\"],[0.3333333333333333,\"#9c179e\"],[0.4444444444444444,\"#bd3786\"],[0.5555555555555556,\"#d8576b\"],[0.6666666666666666,\"#ed7953\"],[0.7777777777777778,\"#fb9f3a\"],[0.8888888888888888,\"#fdca26\"],[1.0,\"#f0f921\"]],\"sequentialminus\":[[0.0,\"#0d0887\"],[0.1111111111111111,\"#46039f\"],[0.2222222222222222,\"#7201a8\"],[0.3333333333333333,\"#9c179e\"],[0.4444444444444444,\"#bd3786\"],[0.5555555555555556,\"#d8576b\"],[0.6666666666666666,\"#ed7953\"],[0.7777777777777778,\"#fb9f3a\"],[0.8888888888888888,\"#fdca26\"],[1.0,\"#f0f921\"]],\"diverging\":[[0,\"#8e0152\"],[0.1,\"#c51b7d\"],[0.2,\"#de77ae\"],[0.3,\"#f1b6da\"],[0.4,\"#fde0ef\"],[0.5,\"#f7f7f7\"],[0.6,\"#e6f5d0\"],[0.7,\"#b8e186\"],[0.8,\"#7fbc41\"],[0.9,\"#4d9221\"],[1,\"#276419\"]]},\"xaxis\":{\"gridcolor\":\"white\",\"linecolor\":\"white\",\"ticks\":\"\",\"title\":{\"standoff\":15},\"zerolinecolor\":\"white\",\"automargin\":true,\"zerolinewidth\":2},\"yaxis\":{\"gridcolor\":\"white\",\"linecolor\":\"white\",\"ticks\":\"\",\"title\":{\"standoff\":15},\"zerolinecolor\":\"white\",\"automargin\":true,\"zerolinewidth\":2},\"scene\":{\"xaxis\":{\"backgroundcolor\":\"#E5ECF6\",\"gridcolor\":\"white\",\"linecolor\":\"white\",\"showbackground\":true,\"ticks\":\"\",\"zerolinecolor\":\"white\",\"gridwidth\":2},\"yaxis\":{\"backgroundcolor\":\"#E5ECF6\",\"gridcolor\":\"white\",\"linecolor\":\"white\",\"showbackground\":true,\"ticks\":\"\",\"zerolinecolor\":\"white\",\"gridwidth\":2},\"zaxis\":{\"backgroundcolor\":\"#E5ECF6\",\"gridcolor\":\"white\",\"linecolor\":\"white\",\"showbackground\":true,\"ticks\":\"\",\"zerolinecolor\":\"white\",\"gridwidth\":2}},\"shapedefaults\":{\"line\":{\"color\":\"#2a3f5f\"}},\"annotationdefaults\":{\"arrowcolor\":\"#2a3f5f\",\"arrowhead\":0,\"arrowwidth\":1},\"geo\":{\"bgcolor\":\"white\",\"landcolor\":\"#E5ECF6\",\"subunitcolor\":\"white\",\"showland\":true,\"showlakes\":true,\"lakecolor\":\"white\"},\"title\":{\"x\":0.05},\"mapbox\":{\"style\":\"light\"}}},\"scene\":{\"domain\":{\"x\":[0.0,1.0],\"y\":[0.0,1.0]},\"xaxis\":{\"title\":{\"text\":\"x\"}},\"yaxis\":{\"title\":{\"text\":\"y\"}},\"zaxis\":{\"title\":{\"text\":\"z\"}}},\"legend\":{\"tracegroupgap\":0},\"margin\":{\"t\":60}},                        {\"responsive\": true}                    ).then(function(){\n",
       "                            \n",
       "var gd = document.getElementById('1fa71537-4fa7-4f63-8334-088b49f3e589');\n",
       "var x = new MutationObserver(function (mutations, observer) {{\n",
       "        var display = window.getComputedStyle(gd).display;\n",
       "        if (!display || display === 'none') {{\n",
       "            console.log([gd, 'removed!']);\n",
       "            Plotly.purge(gd);\n",
       "            observer.disconnect();\n",
       "        }}\n",
       "}});\n",
       "\n",
       "// Listen for the removal of the full notebook cells\n",
       "var notebookContainer = gd.closest('#notebook-container');\n",
       "if (notebookContainer) {{\n",
       "    x.observe(notebookContainer, {childList: true});\n",
       "}}\n",
       "\n",
       "// Listen for the clearing of the current output cell\n",
       "var outputEl = gd.closest('.output');\n",
       "if (outputEl) {{\n",
       "    x.observe(outputEl, {childList: true});\n",
       "}}\n",
       "\n",
       "                        })                };                            </script>        </div>\n",
       "</body>\n",
       "</html>"
      ]
     },
     "metadata": {},
     "output_type": "display_data"
    }
   ],
   "source": [
    "# Graficar los embedddings en 3D\n",
    "\n",
    "vecs, labels = reduce_dimensions(w2v_model,3)\n",
    "\n",
    "fig = px.scatter_3d(x=vecs[:MAX_WORDS,0], y=vecs[:MAX_WORDS,1], z=vecs[:MAX_WORDS,2],text=labels[:MAX_WORDS])\n",
    "fig.update_traces(marker_size = 2)\n",
    "fig.show(renderer=\"colab\") # esto para plotly en colab"
   ]
  },
  {
   "cell_type": "markdown",
   "metadata": {
    "id": "yMM_SHSaZ9N-"
   },
   "source": [
    "### Conclusiones"
   ]
  },
  {
   "cell_type": "markdown",
   "metadata": {
    "id": "WivQZ3ZCZ9N_"
   },
   "source": [
    "En este trabajo en particular se eligio el corpus de la obra \"Hamlet\" de William Shakespeare. Resultó interesante el analisis pues al observar los resultados de la busqueda de similitudes con vectores y embeddings obtenidos se puede apreciar que en muchos casos se asocian con nombres de personajes de la obra. Al tratar de entender más allá de lo computacional se entiende que al tratarse de una obra de teatro, gran parte, si no todo el corpus está compusto por diálogos y las referencias permanente a los personajes. Por eso se pueden encontrar vectores como los de \"Laertes\", \"Horatio\", a \"Hamlet\", o el mismo vector \"ghost\"y \"father\", que en la obra acompañan en gran parte de los actos al personaje principal que la titula. Se aprecia como rompe el flujo la busqueda de una palabra que no forma parte del conjunto analizado, lo cual era de esperar. \n"
   ]
  }
 ],
 "metadata": {
  "colab": {
   "collapsed_sections": [],
   "provenance": []
  },
  "kernelspec": {
   "display_name": "Python [conda env:base] *",
   "language": "python",
   "name": "conda-base-py"
  },
  "language_info": {
   "codemirror_mode": {
    "name": "ipython",
    "version": 3
   },
   "file_extension": ".py",
   "mimetype": "text/x-python",
   "name": "python",
   "nbconvert_exporter": "python",
   "pygments_lexer": "ipython3",
   "version": "3.12.7"
  }
 },
 "nbformat": 4,
 "nbformat_minor": 4
}
