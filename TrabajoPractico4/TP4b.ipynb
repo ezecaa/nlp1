{
 "cells": [
  {
   "cell_type": "markdown",
   "metadata": {
    "id": "pfa39F4lsLf3"
   },
   "source": [
    "<img src=\"https://github.com/hernancontigiani/ceia_memorias_especializacion/raw/master/Figures/logoFIUBA.jpg\" width=\"500\" align=\"center\">\n",
    "\n",
    "\n",
    "# Procesamiento de lenguaje natural\n",
    "## LSTM Bot QA\n",
    "## Trábajo Práctico Nro. 4 \n",
    "## Alumno: Ezequiel Alejandro Caamaño\n",
    "## a1802"
   ]
  },
  {
   "cell_type": "markdown",
   "metadata": {
    "id": "ZqO0PRcFsPTe"
   },
   "source": [
    "### Datos\n",
    "El objecto es utilizar datos disponibles del challenge ConvAI2 (Conversational Intelligence Challenge 2) de conversaciones en inglés. Se construirá un BOT para responder a preguntas del usuario (QA).\\\n",
    "[LINK](http://convai.io/data/)"
   ]
  },
  {
   "cell_type": "code",
   "execution_count": 1,
   "metadata": {
    "colab": {
     "base_uri": "https://localhost:8080/",
     "height": 565
    },
    "id": "bDFC0I3j9oFD",
    "outputId": "37de8456-5820-407d-ba46-f0c5dcae17ad"
   },
   "outputs": [
    {
     "name": "stdout",
     "output_type": "stream",
     "text": [
      "The history saving thread hit an unexpected error (OperationalError('attempt to write a readonly database')).History will not be written to the database.\n",
      "Requirement already satisfied: numpy in /opt/anaconda3/lib/python3.12/site-packages (1.26.4)\n",
      "Collecting numpy\n",
      "  Downloading numpy-2.3.0-cp312-cp312-macosx_14_0_arm64.whl.metadata (62 kB)\n",
      "Requirement already satisfied: scipy in /opt/anaconda3/lib/python3.12/site-packages (1.13.1)\n",
      "Collecting scipy\n",
      "  Downloading scipy-1.15.3-cp312-cp312-macosx_14_0_arm64.whl.metadata (61 kB)\n",
      "Downloading numpy-2.3.0-cp312-cp312-macosx_14_0_arm64.whl (5.1 MB)\n",
      "\u001b[2K   \u001b[90m━━━━━━━━━━━━━━━━━━━━━━━━━━━━━━━━━━━━━━━━\u001b[0m \u001b[32m5.1/5.1 MB\u001b[0m \u001b[31m12.4 MB/s\u001b[0m eta \u001b[36m0:00:00\u001b[0ma \u001b[36m0:00:01\u001b[0m\n",
      "\u001b[?25hDownloading scipy-1.15.3-cp312-cp312-macosx_14_0_arm64.whl (22.4 MB)\n",
      "\u001b[2K   \u001b[90m━━━━━━━━━━━━━━━━━━━━━━━━━━━━━━━━━━━━━━━━\u001b[0m \u001b[32m22.4/22.4 MB\u001b[0m \u001b[31m11.5 MB/s\u001b[0m eta \u001b[36m0:00:00\u001b[0ma \u001b[36m0:00:01\u001b[0m\n",
      "\u001b[?25hInstalling collected packages: numpy, scipy\n",
      "  Attempting uninstall: numpy\n",
      "    Found existing installation: numpy 1.26.4\n",
      "    Uninstalling numpy-1.26.4:\n",
      "      Successfully uninstalled numpy-1.26.4\n",
      "  Attempting uninstall: scipy\n",
      "    Found existing installation: scipy 1.13.1\n",
      "    Uninstalling scipy-1.13.1:\n",
      "      Successfully uninstalled scipy-1.13.1\n",
      "\u001b[31mERROR: pip's dependency resolver does not currently take into account all the packages that are installed. This behaviour is the source of the following dependency conflicts.\n",
      "gensim 4.3.3 requires numpy<2.0,>=1.18.5, but you have numpy 2.3.0 which is incompatible.\n",
      "gensim 4.3.3 requires scipy<1.14.0,>=1.7.0, but you have scipy 1.15.3 which is incompatible.\n",
      "contourpy 1.2.0 requires numpy<2.0,>=1.20, but you have numpy 2.3.0 which is incompatible.\n",
      "numba 0.60.0 requires numpy<2.1,>=1.22, but you have numpy 2.3.0 which is incompatible.\n",
      "tensorflow 2.19.0 requires numpy<2.2.0,>=1.26.0, but you have numpy 2.3.0 which is incompatible.\u001b[0m\u001b[31m\n",
      "\u001b[0mSuccessfully installed numpy-2.3.0 scipy-1.15.3\n"
     ]
    }
   ],
   "source": [
    "!pip install --upgrade --no-cache-dir gdown --quiet\n",
    "!pip install --upgrade numpy scipy\n",
    "!pip install gensim --quiet"
   ]
  },
  {
   "cell_type": "code",
   "execution_count": 1,
   "metadata": {
    "id": "cq3YXak9sGHd"
   },
   "outputs": [],
   "source": [
    "import re\n",
    "\n",
    "import numpy as np\n",
    "import pandas as pd\n",
    "\n",
    "import tensorflow as tf\n",
    "from tensorflow.keras.preprocessing.text import one_hot\n",
    "from tensorflow.keras.utils import pad_sequences\n",
    "from keras.models import Sequential\n",
    "from keras.layers import Activation, Dropout, Dense\n",
    "from keras.layers import Flatten, LSTM, SimpleRNN\n",
    "from keras.models import Model\n",
    "from tensorflow.keras.layers import Embedding\n",
    "from sklearn.model_selection import train_test_split\n",
    "from tensorflow.keras.preprocessing.text import Tokenizer\n",
    "from keras.layers import Input"
   ]
  },
  {
   "cell_type": "code",
   "execution_count": 2,
   "metadata": {
    "colab": {
     "base_uri": "https://localhost:8080/"
    },
    "id": "RHNkUaPp6aYq",
    "outputId": "eaac5776-3a32-47e5-abc7-d84bb01e3d16"
   },
   "outputs": [
    {
     "name": "stdout",
     "output_type": "stream",
     "text": [
      "El dataset ya se encuentra descargado\n"
     ]
    }
   ],
   "source": [
    "import os\n",
    "import gdown\n",
    "if os.access('data_volunteers.json', os.F_OK) is False:\n",
    "    url = 'https://drive.google.com/uc?id=1awUxYwImF84MIT5-jCaYAPe2QwSgS1hN&export=download'\n",
    "    output = 'data_volunteers.json'\n",
    "    gdown.download(url, output, quiet=False)\n",
    "else:\n",
    "    print(\"El dataset ya se encuentra descargado\")"
   ]
  },
  {
   "cell_type": "code",
   "execution_count": 3,
   "metadata": {
    "id": "WZy1-wgG-Rp7"
   },
   "outputs": [],
   "source": [
    "import json\n",
    "\n",
    "text_file = \"data_volunteers.json\"\n",
    "with open(text_file) as f:\n",
    "    data = json.load(f)\n"
   ]
  },
  {
   "cell_type": "code",
   "execution_count": 4,
   "metadata": {
    "colab": {
     "base_uri": "https://localhost:8080/"
    },
    "id": "ue5qd54S-eew",
    "outputId": "8e23c32f-7cb8-4b15-de15-ab2e5e454a27"
   },
   "outputs": [
    {
     "data": {
      "text/plain": [
       "dict_keys(['dialog', 'start_time', 'end_time', 'bot_profile', 'user_profile', 'eval_score', 'profile_match', 'participant1_id', 'participant2_id'])"
      ]
     },
     "execution_count": 4,
     "metadata": {},
     "output_type": "execute_result"
    }
   ],
   "source": [
    "data[0].keys()"
   ]
  },
  {
   "cell_type": "code",
   "execution_count": 5,
   "metadata": {
    "colab": {
     "base_uri": "https://localhost:8080/"
    },
    "id": "jHBRAXPl-3dz",
    "outputId": "8030a3da-05e6-47a1-9e8e-028d6480779c"
   },
   "outputs": [
    {
     "name": "stdout",
     "output_type": "stream",
     "text": [
      "Cantidad de rows utilizadas: 6033\n"
     ]
    }
   ],
   "source": [
    "chat_in = []\n",
    "chat_out = []\n",
    "\n",
    "input_sentences = []\n",
    "output_sentences = []\n",
    "output_sentences_inputs = []\n",
    "max_len = 30\n",
    "\n",
    "def clean_text(txt):\n",
    "    txt = txt.lower()\n",
    "    txt.replace(\"\\'d\", \" had\")\n",
    "    txt.replace(\"\\'s\", \" is\")\n",
    "    txt.replace(\"\\'m\", \" am\")\n",
    "    txt.replace(\"don't\", \"do not\")\n",
    "    txt = re.sub(r'\\W+', ' ', txt)\n",
    "\n",
    "    return txt\n",
    "\n",
    "for line in data:\n",
    "    for i in range(len(line['dialog'])-1):\n",
    "        chat_in = clean_text(line['dialog'][i]['text'])\n",
    "        chat_out = clean_text(line['dialog'][i+1]['text'])\n",
    "\n",
    "        if len(chat_in) >= max_len or len(chat_out) >= max_len:\n",
    "            continue\n",
    "\n",
    "        input_sentence, output = chat_in, chat_out\n",
    "\n",
    "        output_sentence = output + ' <eos>'\n",
    "        output_sentence_input = '<sos> ' + output\n",
    "\n",
    "        input_sentences.append(input_sentence)\n",
    "        output_sentences.append(output_sentence)\n",
    "        output_sentences_inputs.append(output_sentence_input)\n",
    "\n",
    "print(\"Cantidad de rows utilizadas:\", len(input_sentences))"
   ]
  },
  {
   "cell_type": "code",
   "execution_count": 6,
   "metadata": {
    "colab": {
     "base_uri": "https://localhost:8080/"
    },
    "id": "07L1qj8pC_l6",
    "outputId": "a5ccbb5e-3c7a-4ef3-8fba-0e6d6ce26285"
   },
   "outputs": [
    {
     "data": {
      "text/plain": [
       "('hi how are you ', 'not bad and you  <eos>', '<sos> not bad and you ')"
      ]
     },
     "execution_count": 6,
     "metadata": {},
     "output_type": "execute_result"
    }
   ],
   "source": [
    "input_sentences[1], output_sentences[1], output_sentences_inputs[1]"
   ]
  },
  {
   "cell_type": "markdown",
   "metadata": {
    "id": "8P-ynUNP5xp6"
   },
   "source": [
    "### 2 - Preprocesamiento\n",
    "Realizar el preprocesamiento necesario para obtener:\n",
    "- word2idx_inputs, max_input_len\n",
    "- word2idx_outputs, max_out_len, num_words_output\n",
    "- encoder_input_sequences, decoder_output_sequences, decoder_targets"
   ]
  },
  {
   "cell_type": "code",
   "execution_count": 7,
   "metadata": {
    "colab": {
     "base_uri": "https://localhost:8080/"
    },
    "id": "smGfGzUgsGki",
    "outputId": "13d186f3-09ae-492f-c5f8-9c16002f3ddb"
   },
   "outputs": [
    {
     "name": "stdout",
     "output_type": "stream",
     "text": [
      "Input vocab size: 1800\n",
      "Output vocab size: 1807\n",
      "Max input length: 9\n",
      "Max output length: 10\n",
      "Encoder input shape: (6033, 9)\n",
      "Decoder input shape: (6033, 10)\n",
      "Decoder targets shape: (6033, 10)\n"
     ]
    }
   ],
   "source": [
    "def create_tokenizer(texts):\n",
    "    tokenizer = Tokenizer()\n",
    "    tokenizer.fit_on_texts(texts)\n",
    "    return tokenizer\n",
    "\n",
    "input_tokenizer = create_tokenizer(input_sentences)\n",
    "input_vocab_size = len(input_tokenizer.word_index) + 1\n",
    "max_input_len = max([len(txt.split()) for txt in input_sentences])\n",
    "\n",
    "output_tokenizer = create_tokenizer(output_sentences + output_sentences_inputs)\n",
    "output_vocab_size = len(output_tokenizer.word_index) + 1\n",
    "max_output_len = max([len(txt.split()) for txt in output_sentences])\n",
    "\n",
    "word2idx_inputs = input_tokenizer.word_index\n",
    "word2idx_outputs = output_tokenizer.word_index\n",
    "num_words_output = output_vocab_size\n",
    "\n",
    "print(f\"Input vocab size: {input_vocab_size}\")\n",
    "print(f\"Output vocab size: {output_vocab_size}\")\n",
    "print(f\"Max input length: {max_input_len}\")\n",
    "print(f\"Max output length: {max_output_len}\")\n",
    "\n",
    "encoder_input_sequences = input_tokenizer.texts_to_sequences(input_sentences)\n",
    "decoder_input_sequences = output_tokenizer.texts_to_sequences(output_sentences_inputs)\n",
    "decoder_target_sequences = output_tokenizer.texts_to_sequences(output_sentences)\n",
    "\n",
    "encoder_input_sequences = pad_sequences(encoder_input_sequences, maxlen=max_input_len, padding='post')\n",
    "decoder_input_sequences = pad_sequences(decoder_input_sequences, maxlen=max_output_len, padding='post')\n",
    "decoder_targets = pad_sequences(decoder_target_sequences, maxlen=max_output_len, padding='post')\n",
    "\n",
    "print(f\"Encoder input shape: {encoder_input_sequences.shape}\")\n",
    "print(f\"Decoder input shape: {decoder_input_sequences.shape}\")\n",
    "print(f\"Decoder targets shape: {decoder_targets.shape}\")"
   ]
  },
  {
   "cell_type": "markdown",
   "metadata": {
    "id": "_CJIsLBbj6rg"
   },
   "source": [
    "### 3 - Preparar los embeddings\n",
    "Utilizar los embeddings de Glove o FastText para transformar los tokens de entrada en vectores"
   ]
  },
  {
   "cell_type": "code",
   "execution_count": 9,
   "metadata": {
    "colab": {
     "base_uri": "https://localhost:8080/"
    },
    "id": "zyT1L41Wt-SI",
    "outputId": "97f91e4e-3650-4a0b-a899-9f13a270107e"
   },
   "outputs": [
    {
     "name": "stdout",
     "output_type": "stream",
     "text": [
      "Gensim ya está instalado\n",
      "Opciones de FastText:\n",
      "1. Usar FastText pre-entrenado (300D) - Mejor calidad pero descarga grande\n",
      "2. Entrenar FastText desde cero (100D) - Más rápido, específico para tus datos\n",
      "3. Usar embeddings entrenables simples - Más rápido para pruebas\n",
      "Seleccionado: FastText desde cero\n",
      "Entrenando FastText desde cero con los datos del dataset...\n",
      "FastText entrenado con 12016 oraciones\n",
      "Vocabulario: 2160 palabras\n",
      "Creando matrices de embedding con FastText...\n",
      "Palabras encontradas en FastText: 1799/1799\n",
      "Palabras encontradas en FastText: 1806/1806\n",
      "Encoder embedding matrix shape: (1800, 100)\n",
      "Decoder embedding matrix shape: (1807, 100)\n",
      "Embedding dimension: 100\n",
      "Using pretrained embeddings: True\n"
     ]
    }
   ],
   "source": [
    "\n",
    "try:\n",
    "    import gensim.downloader as api\n",
    "    from gensim.models import FastText\n",
    "    print(\"Gensim ya está instalado\")\n",
    "except ImportError:\n",
    "    print(\"Instalando gensim...\")\n",
    "    !pip install gensim --quiet\n",
    "    import gensim.downloader as api\n",
    "    from gensim.models import FastText\n",
    "    print(\"Gensim instalado exitosamente\")\n",
    "\n",
    "import numpy as np\n",
    "\n",
    "def load_fasttext_embeddings():\n",
    "    try:\n",
    "        print(\"Descargando FastText embeddings pre-entrenados...\")\n",
    "        print(\"Esto puede tomar varios minutos la primera vez...\")\n",
    "        # Modelo FastText pre-entrenado en inglés\n",
    "        fasttext_model = api.load('fasttext-wiki-news-subwords-300')\n",
    "        print(\"FastText embeddings cargados exitosamente!\")\n",
    "        return fasttext_model, 300\n",
    "    except Exception as e:\n",
    "        print(f\"Error descargando FastText: {e}\")\n",
    "        return None, None\n",
    "\n",
    "def train_fasttext_from_scratch():\n",
    "    print(\"Entrenando FastText desde cero con los datos del dataset...\")\n",
    "\n",
    "    sentences_for_training = []\n",
    "\n",
    "    for sentence in input_sentences:\n",
    "        sentences_for_training.append(sentence.split())\n",
    "\n",
    "    for sentence in output_sentences:\n",
    "        clean_sentence = sentence.replace('<eos>', '').replace('<sos>', '').strip()\n",
    "        if clean_sentence:\n",
    "            sentences_for_training.append(clean_sentence.split())\n",
    "\n",
    "    fasttext_model = FastText(\n",
    "        sentences=sentences_for_training,\n",
    "        vector_size=100,  \n",
    "        window=5,         \n",
    "        min_count=1,      \n",
    "        workers=4,        \n",
    "        sg=1,             \n",
    "        epochs=20         \n",
    "    )\n",
    "\n",
    "    print(f\"FastText entrenado con {len(sentences_for_training)} oraciones\")\n",
    "    print(f\"Vocabulario: {len(fasttext_model.wv.key_to_index)} palabras\")\n",
    "\n",
    "    return fasttext_model, 100\n",
    "\n",
    "print(\"Opciones de FastText:\")\n",
    "print(\"1. Usar FastText pre-entrenado (300D) - Mejor calidad pero descarga grande\")\n",
    "print(\"2. Entrenar FastText desde cero (100D) - Más rápido, específico para tus datos\")\n",
    "print(\"3. Usar embeddings entrenables simples - Más rápido para pruebas\")\n",
    "\n",
    "use_option = 2 \n",
    "\n",
    "if use_option == 1:\n",
    "    print(\"Seleccionado: FastText pre-entrenado\")\n",
    "    fasttext_model, embedding_dim = load_fasttext_embeddings()\n",
    "    if fasttext_model is None:\n",
    "        print(\"Fallback: Entrenando FastText desde cero...\")\n",
    "        fasttext_model, embedding_dim = train_fasttext_from_scratch()\n",
    "elif use_option == 2:\n",
    "    print(\"Seleccionado: FastText desde cero\")\n",
    "    fasttext_model, embedding_dim = train_fasttext_from_scratch()\n",
    "else:\n",
    "    print(\"Seleccionado: Embeddings entrenables simples\")\n",
    "    fasttext_model, embedding_dim = None, 100\n",
    "\n",
    "def create_fasttext_embedding_matrix(word_index, fasttext_model, embedding_dim):\n",
    "    embedding_matrix = np.zeros((len(word_index) + 1, embedding_dim))\n",
    "    words_found = 0\n",
    "\n",
    "    for word, i in word_index.items():\n",
    "        try:\n",
    "            embedding_vector = fasttext_model.wv[word]\n",
    "            embedding_matrix[i] = embedding_vector\n",
    "            words_found += 1\n",
    "        except KeyError:\n",
    "            embedding_matrix[i] = np.random.normal(0, 0.1, embedding_dim)\n",
    "\n",
    "    print(f\"Palabras encontradas en FastText: {words_found}/{len(word_index)}\")\n",
    "    return embedding_matrix\n",
    "\n",
    "if fasttext_model is not None:\n",
    "    print(\"Creando matrices de embedding con FastText...\")\n",
    "    encoder_embedding_matrix = create_fasttext_embedding_matrix(\n",
    "        word2idx_inputs, fasttext_model, embedding_dim)\n",
    "    decoder_embedding_matrix = create_fasttext_embedding_matrix(\n",
    "        word2idx_outputs, fasttext_model, embedding_dim)\n",
    "\n",
    "    print(f\"Encoder embedding matrix shape: {encoder_embedding_matrix.shape}\")\n",
    "    print(f\"Decoder embedding matrix shape: {decoder_embedding_matrix.shape}\")\n",
    "\n",
    "    use_pretrained_embeddings = True\n",
    "else:\n",
    "    print(\"Usando embeddings entrenables simples\")\n",
    "    embedding_dim = 100\n",
    "    use_pretrained_embeddings = False\n",
    "\n",
    "print(f\"Embedding dimension: {embedding_dim}\")\n",
    "print(f\"Using pretrained embeddings: {use_pretrained_embeddings}\")"
   ]
  },
  {
   "cell_type": "markdown",
   "metadata": {
    "id": "3vKbhjtIwPgM"
   },
   "source": [
    "### 4 - Entrenar el modelo\n",
    "Entrenar un modelo basado en el esquema encoder-decoder utilizando los datos generados en los puntos anteriores. Utilce como referencias los ejemplos vistos en clase."
   ]
  },
  {
   "cell_type": "code",
   "execution_count": 10,
   "metadata": {
    "colab": {
     "base_uri": "https://localhost:8080/",
     "height": 1000
    },
    "id": "RZGjzWSMuI03",
    "outputId": "b78915fb-c0ea-4068-cb81-10b8aa07041d"
   },
   "outputs": [
    {
     "name": "stderr",
     "output_type": "stream",
     "text": [
      "/usr/local/lib/python3.11/dist-packages/keras/src/layers/core/embedding.py:90: UserWarning: Argument `input_length` is deprecated. Just remove it.\n",
      "  warnings.warn(\n"
     ]
    },
    {
     "data": {
      "text/html": [
       "<pre style=\"white-space:pre;overflow-x:auto;line-height:normal;font-family:Menlo,'DejaVu Sans Mono',consolas,'Courier New',monospace\"><span style=\"font-weight: bold\">Model: \"functional\"</span>\n",
       "</pre>\n"
      ],
      "text/plain": [
       "\u001b[1mModel: \"functional\"\u001b[0m\n"
      ]
     },
     "metadata": {},
     "output_type": "display_data"
    },
    {
     "data": {
      "text/html": [
       "<pre style=\"white-space:pre;overflow-x:auto;line-height:normal;font-family:Menlo,'DejaVu Sans Mono',consolas,'Courier New',monospace\">┏━━━━━━━━━━━━━━━━━━━━━┳━━━━━━━━━━━━━━━━━━━┳━━━━━━━━━━━━┳━━━━━━━━━━━━━━━━━━━┓\n",
       "┃<span style=\"font-weight: bold\"> Layer (type)        </span>┃<span style=\"font-weight: bold\"> Output Shape      </span>┃<span style=\"font-weight: bold\">    Param # </span>┃<span style=\"font-weight: bold\"> Connected to      </span>┃\n",
       "┡━━━━━━━━━━━━━━━━━━━━━╇━━━━━━━━━━━━━━━━━━━╇━━━━━━━━━━━━╇━━━━━━━━━━━━━━━━━━━┩\n",
       "│ encoder_inputs      │ (<span style=\"color: #00d7ff; text-decoration-color: #00d7ff\">None</span>, <span style=\"color: #00af00; text-decoration-color: #00af00\">9</span>)         │          <span style=\"color: #00af00; text-decoration-color: #00af00\">0</span> │ -                 │\n",
       "│ (<span style=\"color: #0087ff; text-decoration-color: #0087ff\">InputLayer</span>)        │                   │            │                   │\n",
       "├─────────────────────┼───────────────────┼────────────┼───────────────────┤\n",
       "│ decoder_inputs      │ (<span style=\"color: #00d7ff; text-decoration-color: #00d7ff\">None</span>, <span style=\"color: #00af00; text-decoration-color: #00af00\">10</span>)        │          <span style=\"color: #00af00; text-decoration-color: #00af00\">0</span> │ -                 │\n",
       "│ (<span style=\"color: #0087ff; text-decoration-color: #0087ff\">InputLayer</span>)        │                   │            │                   │\n",
       "├─────────────────────┼───────────────────┼────────────┼───────────────────┤\n",
       "│ encoder_embedding   │ (<span style=\"color: #00d7ff; text-decoration-color: #00d7ff\">None</span>, <span style=\"color: #00af00; text-decoration-color: #00af00\">9</span>, <span style=\"color: #00af00; text-decoration-color: #00af00\">100</span>)    │    <span style=\"color: #00af00; text-decoration-color: #00af00\">180,000</span> │ encoder_inputs[<span style=\"color: #00af00; text-decoration-color: #00af00\">0</span>… │\n",
       "│ (<span style=\"color: #0087ff; text-decoration-color: #0087ff\">Embedding</span>)         │                   │            │                   │\n",
       "├─────────────────────┼───────────────────┼────────────┼───────────────────┤\n",
       "│ decoder_embedding   │ (<span style=\"color: #00d7ff; text-decoration-color: #00d7ff\">None</span>, <span style=\"color: #00af00; text-decoration-color: #00af00\">10</span>, <span style=\"color: #00af00; text-decoration-color: #00af00\">100</span>)   │    <span style=\"color: #00af00; text-decoration-color: #00af00\">180,700</span> │ decoder_inputs[<span style=\"color: #00af00; text-decoration-color: #00af00\">0</span>… │\n",
       "│ (<span style=\"color: #0087ff; text-decoration-color: #0087ff\">Embedding</span>)         │                   │            │                   │\n",
       "├─────────────────────┼───────────────────┼────────────┼───────────────────┤\n",
       "│ encoder_lstm (<span style=\"color: #0087ff; text-decoration-color: #0087ff\">LSTM</span>) │ [(<span style=\"color: #00d7ff; text-decoration-color: #00d7ff\">None</span>, <span style=\"color: #00af00; text-decoration-color: #00af00\">256</span>),     │    <span style=\"color: #00af00; text-decoration-color: #00af00\">365,568</span> │ encoder_embeddin… │\n",
       "│                     │ (<span style=\"color: #00d7ff; text-decoration-color: #00d7ff\">None</span>, <span style=\"color: #00af00; text-decoration-color: #00af00\">256</span>),      │            │                   │\n",
       "│                     │ (<span style=\"color: #00d7ff; text-decoration-color: #00d7ff\">None</span>, <span style=\"color: #00af00; text-decoration-color: #00af00\">256</span>)]      │            │                   │\n",
       "├─────────────────────┼───────────────────┼────────────┼───────────────────┤\n",
       "│ decoder_lstm (<span style=\"color: #0087ff; text-decoration-color: #0087ff\">LSTM</span>) │ [(<span style=\"color: #00d7ff; text-decoration-color: #00d7ff\">None</span>, <span style=\"color: #00af00; text-decoration-color: #00af00\">10</span>, <span style=\"color: #00af00; text-decoration-color: #00af00\">256</span>), │    <span style=\"color: #00af00; text-decoration-color: #00af00\">365,568</span> │ decoder_embeddin… │\n",
       "│                     │ (<span style=\"color: #00d7ff; text-decoration-color: #00d7ff\">None</span>, <span style=\"color: #00af00; text-decoration-color: #00af00\">256</span>),      │            │ encoder_lstm[<span style=\"color: #00af00; text-decoration-color: #00af00\">0</span>][<span style=\"color: #00af00; text-decoration-color: #00af00\">…</span> │\n",
       "│                     │ (<span style=\"color: #00d7ff; text-decoration-color: #00d7ff\">None</span>, <span style=\"color: #00af00; text-decoration-color: #00af00\">256</span>)]      │            │ encoder_lstm[<span style=\"color: #00af00; text-decoration-color: #00af00\">0</span>][<span style=\"color: #00af00; text-decoration-color: #00af00\">…</span> │\n",
       "├─────────────────────┼───────────────────┼────────────┼───────────────────┤\n",
       "│ decoder_dense       │ (<span style=\"color: #00d7ff; text-decoration-color: #00d7ff\">None</span>, <span style=\"color: #00af00; text-decoration-color: #00af00\">10</span>, <span style=\"color: #00af00; text-decoration-color: #00af00\">1807</span>)  │    <span style=\"color: #00af00; text-decoration-color: #00af00\">464,399</span> │ decoder_lstm[<span style=\"color: #00af00; text-decoration-color: #00af00\">0</span>][<span style=\"color: #00af00; text-decoration-color: #00af00\">…</span> │\n",
       "│ (<span style=\"color: #0087ff; text-decoration-color: #0087ff\">Dense</span>)             │                   │            │                   │\n",
       "└─────────────────────┴───────────────────┴────────────┴───────────────────┘\n",
       "</pre>\n"
      ],
      "text/plain": [
       "┏━━━━━━━━━━━━━━━━━━━━━┳━━━━━━━━━━━━━━━━━━━┳━━━━━━━━━━━━┳━━━━━━━━━━━━━━━━━━━┓\n",
       "┃\u001b[1m \u001b[0m\u001b[1mLayer (type)       \u001b[0m\u001b[1m \u001b[0m┃\u001b[1m \u001b[0m\u001b[1mOutput Shape     \u001b[0m\u001b[1m \u001b[0m┃\u001b[1m \u001b[0m\u001b[1m   Param #\u001b[0m\u001b[1m \u001b[0m┃\u001b[1m \u001b[0m\u001b[1mConnected to     \u001b[0m\u001b[1m \u001b[0m┃\n",
       "┡━━━━━━━━━━━━━━━━━━━━━╇━━━━━━━━━━━━━━━━━━━╇━━━━━━━━━━━━╇━━━━━━━━━━━━━━━━━━━┩\n",
       "│ encoder_inputs      │ (\u001b[38;5;45mNone\u001b[0m, \u001b[38;5;34m9\u001b[0m)         │          \u001b[38;5;34m0\u001b[0m │ -                 │\n",
       "│ (\u001b[38;5;33mInputLayer\u001b[0m)        │                   │            │                   │\n",
       "├─────────────────────┼───────────────────┼────────────┼───────────────────┤\n",
       "│ decoder_inputs      │ (\u001b[38;5;45mNone\u001b[0m, \u001b[38;5;34m10\u001b[0m)        │          \u001b[38;5;34m0\u001b[0m │ -                 │\n",
       "│ (\u001b[38;5;33mInputLayer\u001b[0m)        │                   │            │                   │\n",
       "├─────────────────────┼───────────────────┼────────────┼───────────────────┤\n",
       "│ encoder_embedding   │ (\u001b[38;5;45mNone\u001b[0m, \u001b[38;5;34m9\u001b[0m, \u001b[38;5;34m100\u001b[0m)    │    \u001b[38;5;34m180,000\u001b[0m │ encoder_inputs[\u001b[38;5;34m0\u001b[0m… │\n",
       "│ (\u001b[38;5;33mEmbedding\u001b[0m)         │                   │            │                   │\n",
       "├─────────────────────┼───────────────────┼────────────┼───────────────────┤\n",
       "│ decoder_embedding   │ (\u001b[38;5;45mNone\u001b[0m, \u001b[38;5;34m10\u001b[0m, \u001b[38;5;34m100\u001b[0m)   │    \u001b[38;5;34m180,700\u001b[0m │ decoder_inputs[\u001b[38;5;34m0\u001b[0m… │\n",
       "│ (\u001b[38;5;33mEmbedding\u001b[0m)         │                   │            │                   │\n",
       "├─────────────────────┼───────────────────┼────────────┼───────────────────┤\n",
       "│ encoder_lstm (\u001b[38;5;33mLSTM\u001b[0m) │ [(\u001b[38;5;45mNone\u001b[0m, \u001b[38;5;34m256\u001b[0m),     │    \u001b[38;5;34m365,568\u001b[0m │ encoder_embeddin… │\n",
       "│                     │ (\u001b[38;5;45mNone\u001b[0m, \u001b[38;5;34m256\u001b[0m),      │            │                   │\n",
       "│                     │ (\u001b[38;5;45mNone\u001b[0m, \u001b[38;5;34m256\u001b[0m)]      │            │                   │\n",
       "├─────────────────────┼───────────────────┼────────────┼───────────────────┤\n",
       "│ decoder_lstm (\u001b[38;5;33mLSTM\u001b[0m) │ [(\u001b[38;5;45mNone\u001b[0m, \u001b[38;5;34m10\u001b[0m, \u001b[38;5;34m256\u001b[0m), │    \u001b[38;5;34m365,568\u001b[0m │ decoder_embeddin… │\n",
       "│                     │ (\u001b[38;5;45mNone\u001b[0m, \u001b[38;5;34m256\u001b[0m),      │            │ encoder_lstm[\u001b[38;5;34m0\u001b[0m][\u001b[38;5;34m…\u001b[0m │\n",
       "│                     │ (\u001b[38;5;45mNone\u001b[0m, \u001b[38;5;34m256\u001b[0m)]      │            │ encoder_lstm[\u001b[38;5;34m0\u001b[0m][\u001b[38;5;34m…\u001b[0m │\n",
       "├─────────────────────┼───────────────────┼────────────┼───────────────────┤\n",
       "│ decoder_dense       │ (\u001b[38;5;45mNone\u001b[0m, \u001b[38;5;34m10\u001b[0m, \u001b[38;5;34m1807\u001b[0m)  │    \u001b[38;5;34m464,399\u001b[0m │ decoder_lstm[\u001b[38;5;34m0\u001b[0m][\u001b[38;5;34m…\u001b[0m │\n",
       "│ (\u001b[38;5;33mDense\u001b[0m)             │                   │            │                   │\n",
       "└─────────────────────┴───────────────────┴────────────┴───────────────────┘\n"
      ]
     },
     "metadata": {},
     "output_type": "display_data"
    },
    {
     "data": {
      "text/html": [
       "<pre style=\"white-space:pre;overflow-x:auto;line-height:normal;font-family:Menlo,'DejaVu Sans Mono',consolas,'Courier New',monospace\"><span style=\"font-weight: bold\"> Total params: </span><span style=\"color: #00af00; text-decoration-color: #00af00\">1,556,235</span> (5.94 MB)\n",
       "</pre>\n"
      ],
      "text/plain": [
       "\u001b[1m Total params: \u001b[0m\u001b[38;5;34m1,556,235\u001b[0m (5.94 MB)\n"
      ]
     },
     "metadata": {},
     "output_type": "display_data"
    },
    {
     "data": {
      "text/html": [
       "<pre style=\"white-space:pre;overflow-x:auto;line-height:normal;font-family:Menlo,'DejaVu Sans Mono',consolas,'Courier New',monospace\"><span style=\"font-weight: bold\"> Trainable params: </span><span style=\"color: #00af00; text-decoration-color: #00af00\">1,556,235</span> (5.94 MB)\n",
       "</pre>\n"
      ],
      "text/plain": [
       "\u001b[1m Trainable params: \u001b[0m\u001b[38;5;34m1,556,235\u001b[0m (5.94 MB)\n"
      ]
     },
     "metadata": {},
     "output_type": "display_data"
    },
    {
     "data": {
      "text/html": [
       "<pre style=\"white-space:pre;overflow-x:auto;line-height:normal;font-family:Menlo,'DejaVu Sans Mono',consolas,'Courier New',monospace\"><span style=\"font-weight: bold\"> Non-trainable params: </span><span style=\"color: #00af00; text-decoration-color: #00af00\">0</span> (0.00 B)\n",
       "</pre>\n"
      ],
      "text/plain": [
       "\u001b[1m Non-trainable params: \u001b[0m\u001b[38;5;34m0\u001b[0m (0.00 B)\n"
      ]
     },
     "metadata": {},
     "output_type": "display_data"
    },
    {
     "name": "stdout",
     "output_type": "stream",
     "text": [
      "None\n",
      "Training samples: 4826\n",
      "Validation samples: 1207\n",
      "Iniciando entrenamiento...\n",
      "Epoch 1/50\n",
      "\u001b[1m151/151\u001b[0m \u001b[32m━━━━━━━━━━━━━━━━━━━━\u001b[0m\u001b[37m\u001b[0m \u001b[1m6s\u001b[0m 12ms/step - accuracy: 0.5226 - loss: 3.6691 - val_accuracy: 0.6395 - val_loss: 2.1019\n",
      "Epoch 2/50\n",
      "\u001b[1m151/151\u001b[0m \u001b[32m━━━━━━━━━━━━━━━━━━━━\u001b[0m\u001b[37m\u001b[0m \u001b[1m1s\u001b[0m 9ms/step - accuracy: 0.6531 - loss: 1.9428 - val_accuracy: 0.6840 - val_loss: 1.8648\n",
      "Epoch 3/50\n",
      "\u001b[1m151/151\u001b[0m \u001b[32m━━━━━━━━━━━━━━━━━━━━\u001b[0m\u001b[37m\u001b[0m \u001b[1m2s\u001b[0m 10ms/step - accuracy: 0.6939 - loss: 1.7173 - val_accuracy: 0.7105 - val_loss: 1.7185\n",
      "Epoch 4/50\n",
      "\u001b[1m151/151\u001b[0m \u001b[32m━━━━━━━━━━━━━━━━━━━━\u001b[0m\u001b[37m\u001b[0m \u001b[1m3s\u001b[0m 11ms/step - accuracy: 0.7179 - loss: 1.5661 - val_accuracy: 0.7205 - val_loss: 1.6267\n",
      "Epoch 5/50\n",
      "\u001b[1m151/151\u001b[0m \u001b[32m━━━━━━━━━━━━━━━━━━━━\u001b[0m\u001b[37m\u001b[0m \u001b[1m2s\u001b[0m 12ms/step - accuracy: 0.7282 - loss: 1.4689 - val_accuracy: 0.7324 - val_loss: 1.5715\n",
      "Epoch 6/50\n",
      "\u001b[1m151/151\u001b[0m \u001b[32m━━━━━━━━━━━━━━━━━━━━\u001b[0m\u001b[37m\u001b[0m \u001b[1m1s\u001b[0m 9ms/step - accuracy: 0.7417 - loss: 1.3607 - val_accuracy: 0.7390 - val_loss: 1.5300\n",
      "Epoch 7/50\n",
      "\u001b[1m151/151\u001b[0m \u001b[32m━━━━━━━━━━━━━━━━━━━━\u001b[0m\u001b[37m\u001b[0m \u001b[1m3s\u001b[0m 10ms/step - accuracy: 0.7429 - loss: 1.3236 - val_accuracy: 0.7399 - val_loss: 1.5112\n",
      "Epoch 8/50\n",
      "\u001b[1m151/151\u001b[0m \u001b[32m━━━━━━━━━━━━━━━━━━━━\u001b[0m\u001b[37m\u001b[0m \u001b[1m3s\u001b[0m 10ms/step - accuracy: 0.7494 - loss: 1.2708 - val_accuracy: 0.7442 - val_loss: 1.4885\n",
      "Epoch 9/50\n",
      "\u001b[1m151/151\u001b[0m \u001b[32m━━━━━━━━━━━━━━━━━━━━\u001b[0m\u001b[37m\u001b[0m \u001b[1m2s\u001b[0m 10ms/step - accuracy: 0.7541 - loss: 1.2271 - val_accuracy: 0.7417 - val_loss: 1.4794\n",
      "Epoch 10/50\n",
      "\u001b[1m151/151\u001b[0m \u001b[32m━━━━━━━━━━━━━━━━━━━━\u001b[0m\u001b[37m\u001b[0m \u001b[1m2s\u001b[0m 10ms/step - accuracy: 0.7580 - loss: 1.1846 - val_accuracy: 0.7442 - val_loss: 1.4694\n",
      "Epoch 11/50\n",
      "\u001b[1m151/151\u001b[0m \u001b[32m━━━━━━━━━━━━━━━━━━━━\u001b[0m\u001b[37m\u001b[0m \u001b[1m3s\u001b[0m 10ms/step - accuracy: 0.7656 - loss: 1.1361 - val_accuracy: 0.7522 - val_loss: 1.4655\n",
      "Epoch 12/50\n",
      "\u001b[1m151/151\u001b[0m \u001b[32m━━━━━━━━━━━━━━━━━━━━\u001b[0m\u001b[37m\u001b[0m \u001b[1m1s\u001b[0m 9ms/step - accuracy: 0.7711 - loss: 1.0934 - val_accuracy: 0.7524 - val_loss: 1.4552\n",
      "Epoch 13/50\n",
      "\u001b[1m151/151\u001b[0m \u001b[32m━━━━━━━━━━━━━━━━━━━━\u001b[0m\u001b[37m\u001b[0m \u001b[1m2s\u001b[0m 10ms/step - accuracy: 0.7731 - loss: 1.0722 - val_accuracy: 0.7550 - val_loss: 1.4573\n",
      "Epoch 14/50\n",
      "\u001b[1m151/151\u001b[0m \u001b[32m━━━━━━━━━━━━━━━━━━━━\u001b[0m\u001b[37m\u001b[0m \u001b[1m1s\u001b[0m 9ms/step - accuracy: 0.7804 - loss: 1.0321 - val_accuracy: 0.7539 - val_loss: 1.4567\n",
      "Epoch 15/50\n",
      "\u001b[1m151/151\u001b[0m \u001b[32m━━━━━━━━━━━━━━━━━━━━\u001b[0m\u001b[37m\u001b[0m \u001b[1m3s\u001b[0m 10ms/step - accuracy: 0.7806 - loss: 1.0053 - val_accuracy: 0.7540 - val_loss: 1.4595\n",
      "Epoch 16/50\n",
      "\u001b[1m151/151\u001b[0m \u001b[32m━━━━━━━━━━━━━━━━━━━━\u001b[0m\u001b[37m\u001b[0m \u001b[1m1s\u001b[0m 9ms/step - accuracy: 0.7877 - loss: 0.9711 - val_accuracy: 0.7581 - val_loss: 1.4580\n",
      "Epoch 17/50\n",
      "\u001b[1m151/151\u001b[0m \u001b[32m━━━━━━━━━━━━━━━━━━━━\u001b[0m\u001b[37m\u001b[0m \u001b[1m2s\u001b[0m 13ms/step - accuracy: 0.7887 - loss: 0.9543 - val_accuracy: 0.7575 - val_loss: 1.4691\n",
      "Epoch 18/50\n",
      "\u001b[1m151/151\u001b[0m \u001b[32m━━━━━━━━━━━━━━━━━━━━\u001b[0m\u001b[37m\u001b[0m \u001b[1m2s\u001b[0m 10ms/step - accuracy: 0.7914 - loss: 0.9354 - val_accuracy: 0.7582 - val_loss: 1.4775\n",
      "Epoch 19/50\n",
      "\u001b[1m151/151\u001b[0m \u001b[32m━━━━━━━━━━━━━━━━━━━━\u001b[0m\u001b[37m\u001b[0m \u001b[1m2s\u001b[0m 9ms/step - accuracy: 0.7940 - loss: 0.9143 - val_accuracy: 0.7586 - val_loss: 1.4758\n",
      "Epoch 20/50\n",
      "\u001b[1m151/151\u001b[0m \u001b[32m━━━━━━━━━━━━━━━━━━━━\u001b[0m\u001b[37m\u001b[0m \u001b[1m1s\u001b[0m 9ms/step - accuracy: 0.8009 - loss: 0.8790 - val_accuracy: 0.7575 - val_loss: 1.4851\n",
      "Epoch 21/50\n",
      "\u001b[1m151/151\u001b[0m \u001b[32m━━━━━━━━━━━━━━━━━━━━\u001b[0m\u001b[37m\u001b[0m \u001b[1m3s\u001b[0m 10ms/step - accuracy: 0.8052 - loss: 0.8626 - val_accuracy: 0.7584 - val_loss: 1.4863\n",
      "Epoch 22/50\n",
      "\u001b[1m151/151\u001b[0m \u001b[32m━━━━━━━━━━━━━━━━━━━━\u001b[0m\u001b[37m\u001b[0m \u001b[1m1s\u001b[0m 9ms/step - accuracy: 0.8073 - loss: 0.8383 - val_accuracy: 0.7603 - val_loss: 1.4945\n",
      "Epoch 23/50\n",
      "\u001b[1m151/151\u001b[0m \u001b[32m━━━━━━━━━━━━━━━━━━━━\u001b[0m\u001b[37m\u001b[0m \u001b[1m2s\u001b[0m 11ms/step - accuracy: 0.8127 - loss: 0.8176 - val_accuracy: 0.7596 - val_loss: 1.4958\n",
      "Epoch 24/50\n",
      "\u001b[1m151/151\u001b[0m \u001b[32m━━━━━━━━━━━━━━━━━━━━\u001b[0m\u001b[37m\u001b[0m \u001b[1m2s\u001b[0m 12ms/step - accuracy: 0.8158 - loss: 0.7918 - val_accuracy: 0.7589 - val_loss: 1.5064\n",
      "Epoch 25/50\n",
      "\u001b[1m151/151\u001b[0m \u001b[32m━━━━━━━━━━━━━━━━━━━━\u001b[0m\u001b[37m\u001b[0m \u001b[1m2s\u001b[0m 9ms/step - accuracy: 0.8182 - loss: 0.7748 - val_accuracy: 0.7597 - val_loss: 1.5084\n",
      "Epoch 26/50\n",
      "\u001b[1m151/151\u001b[0m \u001b[32m━━━━━━━━━━━━━━━━━━━━\u001b[0m\u001b[37m\u001b[0m \u001b[1m3s\u001b[0m 10ms/step - accuracy: 0.8233 - loss: 0.7551 - val_accuracy: 0.7593 - val_loss: 1.5146\n",
      "Epoch 27/50\n",
      "\u001b[1m151/151\u001b[0m \u001b[32m━━━━━━━━━━━━━━━━━━━━\u001b[0m\u001b[37m\u001b[0m \u001b[1m2s\u001b[0m 9ms/step - accuracy: 0.8289 - loss: 0.7260 - val_accuracy: 0.7606 - val_loss: 1.5303\n",
      "Epoch 28/50\n",
      "\u001b[1m151/151\u001b[0m \u001b[32m━━━━━━━━━━━━━━━━━━━━\u001b[0m\u001b[37m\u001b[0m \u001b[1m3s\u001b[0m 11ms/step - accuracy: 0.8313 - loss: 0.7203 - val_accuracy: 0.7590 - val_loss: 1.5393\n",
      "Epoch 29/50\n",
      "\u001b[1m151/151\u001b[0m \u001b[32m━━━━━━━━━━━━━━━━━━━━\u001b[0m\u001b[37m\u001b[0m \u001b[1m2s\u001b[0m 12ms/step - accuracy: 0.8353 - loss: 0.6955 - val_accuracy: 0.7597 - val_loss: 1.5432\n",
      "Epoch 30/50\n",
      "\u001b[1m151/151\u001b[0m \u001b[32m━━━━━━━━━━━━━━━━━━━━\u001b[0m\u001b[37m\u001b[0m \u001b[1m1s\u001b[0m 9ms/step - accuracy: 0.8364 - loss: 0.6813 - val_accuracy: 0.7548 - val_loss: 1.5624\n",
      "Epoch 31/50\n",
      "\u001b[1m151/151\u001b[0m \u001b[32m━━━━━━━━━━━━━━━━━━━━\u001b[0m\u001b[37m\u001b[0m \u001b[1m3s\u001b[0m 9ms/step - accuracy: 0.8408 - loss: 0.6627 - val_accuracy: 0.7582 - val_loss: 1.5691\n",
      "Epoch 32/50\n",
      "\u001b[1m151/151\u001b[0m \u001b[32m━━━━━━━━━━━━━━━━━━━━\u001b[0m\u001b[37m\u001b[0m \u001b[1m2s\u001b[0m 10ms/step - accuracy: 0.8417 - loss: 0.6526 - val_accuracy: 0.7561 - val_loss: 1.5861\n",
      "Epoch 33/50\n",
      "\u001b[1m151/151\u001b[0m \u001b[32m━━━━━━━━━━━━━━━━━━━━\u001b[0m\u001b[37m\u001b[0m \u001b[1m3s\u001b[0m 10ms/step - accuracy: 0.8490 - loss: 0.6177 - val_accuracy: 0.7560 - val_loss: 1.5880\n",
      "Epoch 34/50\n",
      "\u001b[1m151/151\u001b[0m \u001b[32m━━━━━━━━━━━━━━━━━━━━\u001b[0m\u001b[37m\u001b[0m \u001b[1m1s\u001b[0m 9ms/step - accuracy: 0.8530 - loss: 0.6065 - val_accuracy: 0.7532 - val_loss: 1.6134\n",
      "Epoch 35/50\n",
      "\u001b[1m151/151\u001b[0m \u001b[32m━━━━━━━━━━━━━━━━━━━━\u001b[0m\u001b[37m\u001b[0m \u001b[1m2s\u001b[0m 11ms/step - accuracy: 0.8553 - loss: 0.5844 - val_accuracy: 0.7533 - val_loss: 1.6157\n",
      "Epoch 36/50\n",
      "\u001b[1m151/151\u001b[0m \u001b[32m━━━━━━━━━━━━━━━━━━━━\u001b[0m\u001b[37m\u001b[0m \u001b[1m2s\u001b[0m 9ms/step - accuracy: 0.8579 - loss: 0.5759 - val_accuracy: 0.7531 - val_loss: 1.6308\n",
      "Epoch 37/50\n",
      "\u001b[1m151/151\u001b[0m \u001b[32m━━━━━━━━━━━━━━━━━━━━\u001b[0m\u001b[37m\u001b[0m \u001b[1m2s\u001b[0m 10ms/step - accuracy: 0.8633 - loss: 0.5502 - val_accuracy: 0.7526 - val_loss: 1.6416\n",
      "Epoch 38/50\n",
      "\u001b[1m151/151\u001b[0m \u001b[32m━━━━━━━━━━━━━━━━━━━━\u001b[0m\u001b[37m\u001b[0m \u001b[1m2s\u001b[0m 9ms/step - accuracy: 0.8688 - loss: 0.5280 - val_accuracy: 0.7513 - val_loss: 1.6561\n",
      "Epoch 39/50\n",
      "\u001b[1m151/151\u001b[0m \u001b[32m━━━━━━━━━━━━━━━━━━━━\u001b[0m\u001b[37m\u001b[0m \u001b[1m3s\u001b[0m 9ms/step - accuracy: 0.8723 - loss: 0.5157 - val_accuracy: 0.7524 - val_loss: 1.6683\n",
      "Epoch 40/50\n",
      "\u001b[1m151/151\u001b[0m \u001b[32m━━━━━━━━━━━━━━━━━━━━\u001b[0m\u001b[37m\u001b[0m \u001b[1m3s\u001b[0m 11ms/step - accuracy: 0.8760 - loss: 0.4995 - val_accuracy: 0.7507 - val_loss: 1.6880\n",
      "Epoch 41/50\n",
      "\u001b[1m151/151\u001b[0m \u001b[32m━━━━━━━━━━━━━━━━━━━━\u001b[0m\u001b[37m\u001b[0m \u001b[1m2s\u001b[0m 9ms/step - accuracy: 0.8775 - loss: 0.4872 - val_accuracy: 0.7485 - val_loss: 1.6944\n",
      "Epoch 42/50\n",
      "\u001b[1m151/151\u001b[0m \u001b[32m━━━━━━━━━━━━━━━━━━━━\u001b[0m\u001b[37m\u001b[0m \u001b[1m3s\u001b[0m 9ms/step - accuracy: 0.8810 - loss: 0.4730 - val_accuracy: 0.7496 - val_loss: 1.7118\n",
      "Epoch 43/50\n",
      "\u001b[1m151/151\u001b[0m \u001b[32m━━━━━━━━━━━━━━━━━━━━\u001b[0m\u001b[37m\u001b[0m \u001b[1m3s\u001b[0m 10ms/step - accuracy: 0.8884 - loss: 0.4454 - val_accuracy: 0.7500 - val_loss: 1.7248\n",
      "Epoch 44/50\n",
      "\u001b[1m151/151\u001b[0m \u001b[32m━━━━━━━━━━━━━━━━━━━━\u001b[0m\u001b[37m\u001b[0m \u001b[1m1s\u001b[0m 9ms/step - accuracy: 0.8918 - loss: 0.4335 - val_accuracy: 0.7503 - val_loss: 1.7340\n",
      "Epoch 45/50\n",
      "\u001b[1m151/151\u001b[0m \u001b[32m━━━━━━━━━━━━━━━━━━━━\u001b[0m\u001b[37m\u001b[0m \u001b[1m1s\u001b[0m 9ms/step - accuracy: 0.8962 - loss: 0.4124 - val_accuracy: 0.7463 - val_loss: 1.7568\n",
      "Epoch 46/50\n",
      "\u001b[1m151/151\u001b[0m \u001b[32m━━━━━━━━━━━━━━━━━━━━\u001b[0m\u001b[37m\u001b[0m \u001b[1m3s\u001b[0m 11ms/step - accuracy: 0.8971 - loss: 0.4054 - val_accuracy: 0.7472 - val_loss: 1.7710\n",
      "Epoch 47/50\n",
      "\u001b[1m151/151\u001b[0m \u001b[32m━━━━━━━━━━━━━━━━━━━━\u001b[0m\u001b[37m\u001b[0m \u001b[1m2s\u001b[0m 10ms/step - accuracy: 0.9022 - loss: 0.3926 - val_accuracy: 0.7454 - val_loss: 1.7848\n",
      "Epoch 48/50\n",
      "\u001b[1m151/151\u001b[0m \u001b[32m━━━━━━━━━━━━━━━━━━━━\u001b[0m\u001b[37m\u001b[0m \u001b[1m2s\u001b[0m 9ms/step - accuracy: 0.9057 - loss: 0.3756 - val_accuracy: 0.7470 - val_loss: 1.7995\n",
      "Epoch 49/50\n",
      "\u001b[1m151/151\u001b[0m \u001b[32m━━━━━━━━━━━━━━━━━━━━\u001b[0m\u001b[37m\u001b[0m \u001b[1m2s\u001b[0m 10ms/step - accuracy: 0.9097 - loss: 0.3623 - val_accuracy: 0.7448 - val_loss: 1.8175\n",
      "Epoch 50/50\n",
      "\u001b[1m151/151\u001b[0m \u001b[32m━━━━━━━━━━━━━━━━━━━━\u001b[0m\u001b[37m\u001b[0m \u001b[1m2s\u001b[0m 10ms/step - accuracy: 0.9144 - loss: 0.3479 - val_accuracy: 0.7447 - val_loss: 1.8363\n"
     ]
    }
   ],
   "source": [
    "from tensorflow.keras.layers import LSTM, Dense, Embedding, Input\n",
    "from tensorflow.keras.models import Model\n",
    "from tensorflow.keras.optimizers import Adam\n",
    "\n",
    "latent_dim = 256\n",
    "embedding_dim = 100\n",
    "\n",
    "# ENCODER\n",
    "encoder_inputs = Input(shape=(max_input_len,), name='encoder_inputs')\n",
    "encoder_embedding = Embedding(input_vocab_size,\n",
    "                            embedding_dim,\n",
    "                            input_length=max_input_len,\n",
    "                            trainable=True,\n",
    "                            name='encoder_embedding')(encoder_inputs)\n",
    "encoder_lstm = LSTM(latent_dim, return_state=True, name='encoder_lstm')\n",
    "encoder_outputs, state_h, state_c = encoder_lstm(encoder_embedding)\n",
    "encoder_states = [state_h, state_c]\n",
    "\n",
    "# DECODER\n",
    "decoder_inputs = Input(shape=(max_output_len,), name='decoder_inputs')\n",
    "decoder_embedding_layer = Embedding(output_vocab_size,\n",
    "                                   embedding_dim,\n",
    "                                   input_length=max_output_len,\n",
    "                                   trainable=True,\n",
    "                                   name='decoder_embedding')\n",
    "decoder_embedding = decoder_embedding_layer(decoder_inputs)\n",
    "decoder_lstm = LSTM(latent_dim, return_sequences=True, return_state=True, name='decoder_lstm')\n",
    "decoder_outputs, _, _ = decoder_lstm(decoder_embedding, initial_state=encoder_states)\n",
    "decoder_dense = Dense(output_vocab_size, activation='softmax', name='decoder_dense')\n",
    "decoder_outputs = decoder_dense(decoder_outputs)\n",
    "\n",
    "# Modelo completo\n",
    "model = Model([encoder_inputs, decoder_inputs], decoder_outputs)\n",
    "\n",
    "model.compile(optimizer=Adam(learning_rate=0.001),\n",
    "              loss='sparse_categorical_crossentropy',\n",
    "              metrics=['accuracy'])\n",
    "\n",
    "print(model.summary())\n",
    "\n",
    "decoder_targets_reshaped = np.expand_dims(decoder_targets, -1)\n",
    "\n",
    "X_train_enc, X_val_enc, X_train_dec, X_val_dec, y_train, y_val = train_test_split(\n",
    "    encoder_input_sequences, decoder_input_sequences, decoder_targets_reshaped,\n",
    "    test_size=0.2, random_state=42\n",
    ")\n",
    "\n",
    "print(f\"Training samples: {len(X_train_enc)}\")\n",
    "print(f\"Validation samples: {len(X_val_enc)}\")\n",
    "\n",
    "print(\"Iniciando entrenamiento...\")\n",
    "history = model.fit([X_train_enc, X_train_dec], y_train,\n",
    "                   batch_size=32,  \n",
    "                   epochs=50,     \n",
    "                   validation_data=([X_val_enc, X_val_dec], y_val),\n",
    "                   verbose=1)"
   ]
  },
  {
   "cell_type": "markdown",
   "metadata": {
    "id": "Zbwn0ekDy_s2"
   },
   "source": [
    "### 5 - Inferencia\n",
    "Experimentar el funcionamiento de su modelo. Recuerde que debe realizar la inferencia de los modelos por separado de encoder y decoder."
   ]
  },
  {
   "cell_type": "code",
   "execution_count": null,
   "metadata": {
    "colab": {
     "base_uri": "https://localhost:8080/",
     "height": 1000
    },
    "id": "lG4TMDxbumtu",
    "outputId": "877fc94c-4140-4ba8-c16d-92e87474b24a"
   },
   "outputs": [
    {
     "name": "stdout",
     "output_type": "stream",
     "text": [
      "Entrenamiento completado!\n"
     ]
    },
    {
     "data": {
      "image/png": "[encoded data removed]",
      "text/plain": [
       "<Figure size 1200x400 with 2 Axes>"
      ]
     },
     "metadata": {},
     "output_type": "display_data"
    },
    {
     "name": "stdout",
     "output_type": "stream",
     "text": [
      "Evaluando el modelo con ejemplos del dataset:\n",
      "------------------------------------------------------------\n",
      "Entrada: hello \n",
      "Esperado: hi how are you\n",
      "Predicho: hello how are you\n",
      "------------------------------------------------------------\n",
      "Entrada: hi how are you \n",
      "Esperado: not bad and you\n",
      "Predicho: i m good how are you\n",
      "------------------------------------------------------------\n",
      "Entrada: hi \n",
      "Esperado: hello\n",
      "Predicho: hi\n",
      "------------------------------------------------------------\n",
      "Entrada: hi \n",
      "Esperado: hello\n",
      "Predicho: hi\n",
      "------------------------------------------------------------\n",
      "Entrada: hi \n",
      "Esperado: hello how are you today\n",
      "Predicho: hi\n",
      "------------------------------------------------------------\n",
      "Entrada: where are you working \n",
      "Esperado: bro\n",
      "Predicho: bro\n",
      "------------------------------------------------------------\n",
      "Entrada: bro \n",
      "Esperado: where are you from\n",
      "Predicho: how are you\n",
      "------------------------------------------------------------\n",
      "Entrada: where are you from \n",
      "Esperado: i am from russia and you\n",
      "Predicho: i am from the united states\n",
      "------------------------------------------------------------\n",
      "Entrada: i am from russia and you \n",
      "Esperado: i am from the united states\n",
      "Predicho: too i m close to\n",
      "------------------------------------------------------------\n",
      "Entrada: i hate them most of the time \n",
      "Esperado: you are racist\n",
      "Predicho: you are racist\n",
      "------------------------------------------------------------\n",
      "Bot QA está listo! Escribe 'quit' para salir.\n",
      "--------------------------------------------------\n",
      "Tú: Hi\n",
      "Bot: hi\n",
      "--------------------------------------------------\n",
      "Tú: How are you\n",
      "Bot: i am doing well how are you\n",
      "--------------------------------------------------\n",
      "Tú: Fine. \n",
      "Bot: what do you do for a living\n",
      "--------------------------------------------------\n",
      "Tú: I am programmer. And you?\n",
      "Bot: \n",
      "--------------------------------------------------\n",
      "Tú: Where are you from\n",
      "Bot: i am from the united states\n",
      "--------------------------------------------------\n",
      "Tú: Where am i from\n",
      "Bot: i am from the us\n",
      "--------------------------------------------------\n",
      "Tú: What are you doing\n",
      "Bot: i am in the navy\n",
      "--------------------------------------------------\n"
     ]
    }
   ],
   "source": [
    "encoder_model = Model(encoder_inputs, encoder_states)\n",
    "\n",
    "decoder_state_input_h = Input(shape=(latent_dim,), name='decoder_state_h')\n",
    "decoder_state_input_c = Input(shape=(latent_dim,), name='decoder_state_c')\n",
    "decoder_states_inputs = [decoder_state_input_h, decoder_state_input_c]\n",
    "\n",
    "decoder_inputs_single = Input(shape=(1,), name='decoder_inputs_single')\n",
    "decoder_embedding_inf = decoder_embedding_layer(decoder_inputs_single)\n",
    "decoder_outputs_inf, state_h_inf, state_c_inf = decoder_lstm(\n",
    "    decoder_embedding_inf, initial_state=decoder_states_inputs)\n",
    "decoder_states_inf = [state_h_inf, state_c_inf]\n",
    "decoder_outputs_inf = decoder_dense(decoder_outputs_inf)\n",
    "\n",
    "decoder_model = Model([decoder_inputs_single] + decoder_states_inputs,\n",
    "                     [decoder_outputs_inf] + decoder_states_inf)\n",
    "\n",
    "reverse_input_char_index = dict((i, char) for char, i in word2idx_inputs.items())\n",
    "reverse_target_char_index = dict((i, char) for char, i in word2idx_outputs.items())\n",
    "\n",
    "def decode_sequence(input_seq):\n",
    "    states_value = encoder_model.predict(input_seq, verbose=0)\n",
    "\n",
    "    target_seq = np.zeros((1, 1))\n",
    "    if '<sos>' in word2idx_outputs:\n",
    "        target_seq[0, 0] = word2idx_outputs['<sos>']\n",
    "    else:\n",
    "        target_seq[0, 0] = 1\n",
    "\n",
    "    decoded_sentence = ''\n",
    "    max_decoder_seq_length = max_output_len\n",
    "\n",
    "    for _ in range(max_decoder_seq_length):\n",
    "        output_tokens, h, c = decoder_model.predict([target_seq] + states_value, verbose=0)\n",
    "\n",
    "        sampled_token_index = np.argmax(output_tokens[0, -1, :])\n",
    "\n",
    "        if sampled_token_index in reverse_target_char_index:\n",
    "            sampled_char = reverse_target_char_index[sampled_token_index]\n",
    "\n",
    "            if sampled_char == '<eos>':\n",
    "                break\n",
    "\n",
    "            if sampled_char not in ['<sos>', '<eos>', '<pad>']:\n",
    "                decoded_sentence += sampled_char + ' '\n",
    "\n",
    "        if sampled_token_index == 0:\n",
    "            break\n",
    "\n",
    "        target_seq = np.zeros((1, 1))\n",
    "        target_seq[0, 0] = sampled_token_index\n",
    "\n",
    "        states_value = [h, c]\n",
    "\n",
    "    return decoded_sentence.strip()\n",
    "\n",
    "def clean_response(response):\n",
    "    \"\"\"\n",
    "    Limpia la respuesta eliminando tokens especiales y múltiples espacios\n",
    "    \"\"\"\n",
    "    special_tokens = ['<eos>', '<sos>', '<pad>', 'eos', 'sos', 'pad']\n",
    "\n",
    "    for token in special_tokens:\n",
    "        response = response.replace(token, '')\n",
    "\n",
    "    response = ' '.join(response.split())\n",
    "\n",
    "    return response.strip()\n",
    "\n",
    "def chat_with_bot(input_text):\n",
    "    input_text = clean_text(input_text)\n",
    "\n",
    "    input_seq = input_tokenizer.texts_to_sequences([input_text])\n",
    "    input_seq = pad_sequences(input_seq, maxlen=max_input_len, padding='post')\n",
    "\n",
    "    decoded_sentence = decode_sequence(input_seq)\n",
    "\n",
    "    cleaned_response = clean_response(decoded_sentence)\n",
    "\n",
    "    return cleaned_response\n",
    "\n",
    "def evaluate_model():\n",
    "    print(\"Evaluando el modelo con ejemplos del dataset:\")\n",
    "    print(\"-\" * 60)\n",
    "\n",
    "    for i in range(min(10, len(input_sentences))):\n",
    "        input_example = input_sentences[i]\n",
    "        # Limpiar la salida esperada de tokens especiales\n",
    "        expected_output = clean_response(output_sentences[i].replace(' <eos>', ''))\n",
    "        predicted_output = chat_with_bot(input_example)\n",
    "\n",
    "        print(f\"Entrada: {input_example}\")\n",
    "        print(f\"Esperado: {expected_output}\")\n",
    "        print(f\"Predicho: {predicted_output}\")\n",
    "        print(\"-\" * 60)\n",
    "\n",
    "def test_bot():\n",
    "    print(\"Bot QA está listo! Escribe 'quit' para salir.\")\n",
    "    print(\"-\" * 50)\n",
    "\n",
    "    while True:\n",
    "        user_input = input(\"Tú: \")\n",
    "        if user_input.lower() == 'quit':\n",
    "            print(\"¡Hasta luego!\")\n",
    "            break\n",
    "\n",
    "        response = chat_with_bot(user_input)\n",
    "        print(f\"Bot: {response}\")\n",
    "        print(\"-\" * 50)\n",
    "\n",
    "import matplotlib.pyplot as plt\n",
    "\n",
    "def plot_training_history():\n",
    "    plt.figure(figsize=(12, 4))\n",
    "\n",
    "    plt.subplot(1, 2, 1)\n",
    "    plt.plot(history.history['loss'], label='Training Loss')\n",
    "    plt.plot(history.history['val_loss'], label='Validation Loss')\n",
    "    plt.title('Model Loss')\n",
    "    plt.xlabel('Epoch')\n",
    "    plt.ylabel('Loss')\n",
    "    plt.legend()\n",
    "\n",
    "    plt.subplot(1, 2, 2)\n",
    "    plt.plot(history.history['accuracy'], label='Training Accuracy')\n",
    "    plt.plot(history.history['val_accuracy'], label='Validation Accuracy')\n",
    "    plt.title('Model Accuracy')\n",
    "    plt.xlabel('Epoch')\n",
    "    plt.ylabel('Accuracy')\n",
    "    plt.legend()\n",
    "\n",
    "    plt.tight_layout()\n",
    "    plt.show()\n",
    "\n",
    "print(\"Entrenamiento completado!\")\n",
    "plot_training_history()\n",
    "evaluate_model()\n",
    "\n",
    "test_bot()"
   ]
  },
  {
   "cell_type": "markdown",
   "metadata": {},
   "source": [
    "### Conclusiones"
   ]
  },
  {
   "cell_type": "markdown",
   "metadata": {},
   "source": [
    "Se probaron diferentes opciones pero la única que funcionó correctamente fue usar FastText, entrenando desde cero. Otro punto interesante es que se observa como las métricas de perdida y accuracy se separan de tal manera que podemos observar que probablemente se estén entrenando demasiadas epocas para el set de datos y estamos ante la presencia clara de overfitting.\n",
    "No obstante, los resultados obtenidos son bastante aceptables y una mejora se podría lograr al ajustar los parametros mencionados y otros. \n",
    "Nota: Se intentó ejecutar las celdas de la notebook para poder probar con la reducción de las épocas y otras modificaciones y rompía el flujo al instalar gensim. Por lo que nos quedamos con los resultados obtenidos hasta el momento. "
   ]
  }
 ],
 "metadata": {
  "accelerator": "GPU",
  "colab": {
   "provenance": []
  },
  "kernelspec": {
   "display_name": "Python [conda env:base] *",
   "language": "python",
   "name": "conda-base-py"
  },
  "language_info": {
   "codemirror_mode": {
    "name": "ipython",
    "version": 3
   },
   "file_extension": ".py",
   "mimetype": "text/x-python",
   "name": "python",
   "nbconvert_exporter": "python",
   "pygments_lexer": "ipython3",
   "version": "3.12.7"
  },
  "vscode": {
   "interpreter": {
    "hash": "916dbcbb3f70747c44a77c7bcd40155683ae19c65e1c03b4aa3499c5328201f1"
   }
  }
 },
 "nbformat": 4,
 "nbformat_minor": 4
}
