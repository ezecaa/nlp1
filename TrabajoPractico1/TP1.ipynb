{
 "cells": [
  {
   "cell_type": "markdown",
   "metadata": {},
   "source": [
    "<img src=\"https://github.com/hernancontigiani/ceia_memorias_especializacion/raw/master/Figures/logoFIUBA.jpg\" width=\"500\" align=\"center\">\n",
    "\n",
    "\n",
    "# Procesamiento de lenguaje natural\n",
    "## Trábajo Práctico Nro. 1 \n",
    "## Alumno: Ezequiel Alejandro Caamaño\n",
    "## a1802"
   ]
  },
  {
   "cell_type": "code",
   "execution_count": 3,
   "metadata": {
    "id": "Sg6cUAsFnECR",
    "outputId": "fc27c4ce-7b37-42f2-e8c4-977a9630ed5e"
   },
   "outputs": [
    {
     "name": "stdout",
     "output_type": "stream",
     "text": [
      "Requirement already satisfied: numpy in /opt/anaconda3/lib/python3.12/site-packages (1.26.4)\n",
      "Requirement already satisfied: scikit-learn in /opt/anaconda3/lib/python3.12/site-packages (1.5.1)\n",
      "Requirement already satisfied: scipy>=1.6.0 in /opt/anaconda3/lib/python3.12/site-packages (from scikit-learn) (1.13.1)\n",
      "Requirement already satisfied: joblib>=1.2.0 in /opt/anaconda3/lib/python3.12/site-packages (from scikit-learn) (1.4.2)\n",
      "Requirement already satisfied: threadpoolctl>=3.1.0 in /opt/anaconda3/lib/python3.12/site-packages (from scikit-learn) (3.5.0)\n",
      "Note: you may need to restart the kernel to use updated packages.\n"
     ]
    }
   ],
   "source": [
    "%pip install numpy scikit-learn"
   ]
  },
  {
   "cell_type": "markdown",
   "metadata": {
    "id": "zq6j8LsYq1Dr"
   },
   "source": [
    "### Vectorización de texto y modelo de clasificación Naïve Bayes con el dataset 20 newsgroups"
   ]
  },
  {
   "cell_type": "code",
   "execution_count": 4,
   "metadata": {
    "id": "l7cXR6CI30ry"
   },
   "outputs": [],
   "source": [
    "from sklearn.feature_extraction.text import CountVectorizer, TfidfVectorizer\n",
    "from sklearn.metrics.pairwise import cosine_similarity\n",
    "from sklearn.naive_bayes import MultinomialNB, ComplementNB\n",
    "from sklearn.metrics import f1_score\n",
    "\n",
    "# 20newsgroups por ser un dataset clásico de NLP ya viene incluido y formateado\n",
    "# en sklearn\n",
    "from sklearn.datasets import fetch_20newsgroups\n",
    "import numpy as np"
   ]
  },
  {
   "cell_type": "markdown",
   "metadata": {
    "id": "yD-pVDWV_rQc"
   },
   "source": [
    "## Carga de datos"
   ]
  },
  {
   "cell_type": "code",
   "execution_count": 5,
   "metadata": {
    "id": "Ech9qJaUo9vK"
   },
   "outputs": [],
   "source": [
    "# cargamos los datos (ya separados de forma predeterminada en train y test)\n",
    "newsgroups_train = fetch_20newsgroups(subset='train', remove=('headers', 'footers', 'quotes'))\n",
    "newsgroups_test = fetch_20newsgroups(subset='test', remove=('headers', 'footers', 'quotes'))"
   ]
  },
  {
   "cell_type": "markdown",
   "metadata": {
    "id": "UxjSI7su_uWI"
   },
   "source": [
    "## Vectorización"
   ]
  },
  {
   "cell_type": "code",
   "execution_count": 6,
   "metadata": {
    "id": "-94VP0QYCzDn"
   },
   "outputs": [],
   "source": [
    "# instanciamos un vectorizador\n",
    "# ver diferentes parámetros de instanciación en la documentación de sklearn https://scikit-learn.org/stable/modules/generated/sklearn.feature_extraction.text.TfidfVectorizer.html\n",
    "tfidfvect = TfidfVectorizer()"
   ]
  },
  {
   "cell_type": "code",
   "execution_count": 7,
   "metadata": {
    "colab": {
     "base_uri": "https://localhost:8080/",
     "height": 104
    },
    "id": "ftPlyanuak8n",
    "outputId": "45a94d0e-49e7-4f7c-c806-7d5b66779dd0"
   },
   "outputs": [
    {
     "name": "stdout",
     "output_type": "stream",
     "text": [
      "I was wondering if anyone out there could enlighten me on this car I saw\n",
      "the other day. It was a 2-door sports car, looked to be from the late 60s/\n",
      "early 70s. It was called a Bricklin. The doors were really small. In addition,\n",
      "the front bumper was separate from the rest of the body. This is \n",
      "all I know. If anyone can tellme a model name, engine specs, years\n",
      "of production, where this car is made, history, or whatever info you\n",
      "have on this funky looking car, please e-mail.\n"
     ]
    }
   ],
   "source": [
    "# en el atributo `data` accedemos al texto\n",
    "print(newsgroups_train.data[0])"
   ]
  },
  {
   "cell_type": "code",
   "execution_count": 8,
   "metadata": {
    "id": "1zxcXV6aC_oL"
   },
   "outputs": [],
   "source": [
    "# con la interfaz habitual de sklearn podemos fitear el vectorizador\n",
    "# (obtener el vocabulario y calcular el vector IDF)\n",
    "# y transformar directamente los datos\n",
    "X_train = tfidfvect.fit_transform(newsgroups_train.data)\n",
    "# `X_train` la podemos denominar como la matriz documento-término"
   ]
  },
  {
   "cell_type": "code",
   "execution_count": 9,
   "metadata": {
    "colab": {
     "base_uri": "https://localhost:8080/"
    },
    "id": "4Sv7TXbda41-",
    "outputId": "dcca5de6-dac1-4d68-d284-ce7be2ed9e2f"
   },
   "outputs": [
    {
     "name": "stdout",
     "output_type": "stream",
     "text": [
      "<class 'scipy.sparse._csr.csr_matrix'>\n",
      "shape: (11314, 101631)\n",
      "Cantidad de documentos: 11314\n",
      "Tamaño del vocabulario (dimensionalidad de los vectores): 101631\n"
     ]
    }
   ],
   "source": [
    "# recordar que las vectorizaciones por conteos son esparsas\n",
    "# por ello sklearn convenientemente devuelve los vectores de documentos\n",
    "# como matrices esparsas\n",
    "print(type(X_train))\n",
    "print(f'shape: {X_train.shape}')\n",
    "print(f'Cantidad de documentos: {X_train.shape[0]}')\n",
    "print(f'Tamaño del vocabulario (dimensionalidad de los vectores): {X_train.shape[1]}')"
   ]
  },
  {
   "cell_type": "code",
   "execution_count": 10,
   "metadata": {
    "colab": {
     "base_uri": "https://localhost:8080/"
    },
    "id": "dgydNTZ2pAgR",
    "outputId": "95111464-e40c-4b57-d154-ede153739a82"
   },
   "outputs": [
    {
     "data": {
      "text/plain": [
       "25775"
      ]
     },
     "execution_count": 10,
     "metadata": {},
     "output_type": "execute_result"
    }
   ],
   "source": [
    "# una vez fiteado el vectorizador, podemos acceder a atributos como el vocabulario\n",
    "# aprendido. Es un diccionario que va de términos a índices.\n",
    "# El índice es la posición en el vector de documento.\n",
    "tfidfvect.vocabulary_['car']"
   ]
  },
  {
   "cell_type": "code",
   "execution_count": 11,
   "metadata": {
    "id": "xnTSZuvyrTcP"
   },
   "outputs": [],
   "source": [
    "# es muy útil tener el diccionario opuesto que va de índices a términos\n",
    "idx2word = {v: k for k,v in tfidfvect.vocabulary_.items()}"
   ]
  },
  {
   "cell_type": "code",
   "execution_count": 12,
   "metadata": {
    "colab": {
     "base_uri": "https://localhost:8080/"
    },
    "id": "swa-AgWrMSHM",
    "outputId": "93d09f31-4c42-4215-e750-a13c83ecf96a"
   },
   "outputs": [
    {
     "data": {
      "text/plain": [
       "array([ 7,  4,  4,  1, 14, 16, 13,  3,  2,  4])"
      ]
     },
     "execution_count": 12,
     "metadata": {},
     "output_type": "execute_result"
    }
   ],
   "source": [
    "# en `y_train` guardamos los targets que son enteros\n",
    "y_train = newsgroups_train.target\n",
    "y_train[:10]"
   ]
  },
  {
   "cell_type": "code",
   "execution_count": 13,
   "metadata": {
    "colab": {
     "base_uri": "https://localhost:8080/"
    },
    "id": "je5kxvQMDLvf",
    "outputId": "59799046-9799-406f-c4be-81c5765de58d"
   },
   "outputs": [
    {
     "name": "stdout",
     "output_type": "stream",
     "text": [
      "clases [ 0  1  2  3  4  5  6  7  8  9 10 11 12 13 14 15 16 17 18 19]\n"
     ]
    },
    {
     "data": {
      "text/plain": [
       "['alt.atheism',\n",
       " 'comp.graphics',\n",
       " 'comp.os.ms-windows.misc',\n",
       " 'comp.sys.ibm.pc.hardware',\n",
       " 'comp.sys.mac.hardware',\n",
       " 'comp.windows.x',\n",
       " 'misc.forsale',\n",
       " 'rec.autos',\n",
       " 'rec.motorcycles',\n",
       " 'rec.sport.baseball',\n",
       " 'rec.sport.hockey',\n",
       " 'sci.crypt',\n",
       " 'sci.electronics',\n",
       " 'sci.med',\n",
       " 'sci.space',\n",
       " 'soc.religion.christian',\n",
       " 'talk.politics.guns',\n",
       " 'talk.politics.mideast',\n",
       " 'talk.politics.misc',\n",
       " 'talk.religion.misc']"
      ]
     },
     "execution_count": 13,
     "metadata": {},
     "output_type": "execute_result"
    }
   ],
   "source": [
    "# hay 20 clases correspondientes a los 20 grupos de noticias\n",
    "print(f'clases {np.unique(newsgroups_test.target)}')\n",
    "newsgroups_test.target_names"
   ]
  },
  {
   "cell_type": "markdown",
   "metadata": {
    "id": "SXCICFSd_y90"
   },
   "source": [
    "## Similaridad de documentos"
   ]
  },
  {
   "cell_type": "code",
   "execution_count": 14,
   "metadata": {
    "colab": {
     "base_uri": "https://localhost:8080/"
    },
    "id": "_pki_olShnyE",
    "outputId": "b2bd8485-40c7-4923-c8a9-4ad6b735576e"
   },
   "outputs": [
    {
     "name": "stdout",
     "output_type": "stream",
     "text": [
      "THE WHITE HOUSE\n",
      "\n",
      "                  Office of the Press Secretary\n",
      "                   (Pittsburgh, Pennslyvania)\n",
      "______________________________________________________________\n",
      "For Immediate Release                         April 17, 1993     \n",
      "\n",
      "             \n",
      "                  RADIO ADDRESS TO THE NATION \n",
      "                        BY THE PRESIDENT\n",
      "             \n",
      "                Pittsburgh International Airport\n",
      "                    Pittsburgh, Pennsylvania\n",
      "             \n",
      "             \n",
      "10:06 A.M. EDT\n",
      "             \n",
      "             \n",
      "             THE PRESIDENT:  Good morning.  My voice is coming to\n",
      "you this morning through the facilities of the oldest radio\n",
      "station in America, KDKA in Pittsburgh.  I'm visiting the city to\n",
      "meet personally with citizens here to discuss my plans for jobs,\n",
      "health care and the economy.  But I wanted first to do my weekly\n",
      "broadcast with the American people. \n",
      "             \n",
      "             I'm told this station first broadcast in 1920 when\n",
      "it reported that year's presidential elections.  Over the past\n",
      "seven decades presidents have found ways to keep in touch with\n",
      "the people, from whistle-stop tours to fire-side chats to the bus\n",
      "tour that I adopted, along with Vice President Gore, in last\n",
      "year's campaign.\n",
      "             \n",
      "             Every Saturday morning I take this time to talk with\n",
      "you, my fellow Americans, about the problems on your minds and\n",
      "what I'm doing to try and solve them.  It's my way of reporting\n",
      "to you and of giving you a way to hold me accountable.\n",
      "             \n",
      "             You sent me to Washington to get our government and\n",
      "economy moving after years of paralysis and policy and a bad\n",
      "experiment with trickle-down economics.  You know how important\n",
      "it is for us to make bold, comprehensive changes in the way we do\n",
      "business.  \n",
      "             \n",
      "             We live in a competitive global economy.  Nations\n",
      "rise and fall on the skills of their workers, the competitiveness\n",
      "of their companies, the imagination of their industries, and the\n",
      "cooperative experience and spirit that exists between business,\n",
      "labor and government.  Although many of the economies of the\n",
      "industrialized world are now suffering from slow growth, they've\n",
      "made many of the smart investments and the tough choices which\n",
      "our government has for too long ignored.  That's why many of them\n",
      "have been moving ahead and too many of our people have been\n",
      "falling behind.\n",
      "             \n",
      "             We have an economy today that even when it grows is\n",
      "not producing new jobs.  We've increased the debt of our nation\n",
      "by four times over the last 12 years, and we don't have much to\n",
      "show for it.  We know that wages of most working people have\n",
      "stopped rising, that most people are working longer work weeks\n",
      "and that too many families can no longer afford the escalating\n",
      "cost of health care.\n",
      "             \n",
      "             But we also know that, given the right tools, the\n",
      "right incentives and the right encouragement, our workers and\n",
      "businesses can make the kinds of products and profits our economy\n",
      "needs to expand opportunity and to make our communities better\n",
      "places to live.\n",
      "             \n",
      "             In many critical products today Americans are the\n",
      "low cost, high quality producers.  Our task is to make sure that\n",
      "we create more of those kinds of jobs.\n",
      "             \n",
      "             Just two months ago I gave Congress my plan for\n",
      "long-term jobs and economic growth.  It changes the old\n",
      "priorities in Washington and puts our emphasis where it needs to\n",
      "be -- on people's real needs, on increasing investments and jobs\n",
      "and education, on cutting the federal deficit, on stopping the\n",
      "waste which pays no dividends, and redirecting our precious\n",
      "resources toward investment that creates jobs now and lays the\n",
      "groundwork for robust economic growth in the future.\n",
      "             \n",
      "             These new directions passed the Congress in record\n",
      "time and created a new sense of hope and opportunity in our\n",
      "country.  Then the jobs plan I presented to Congress, which would\n",
      "create hundreds of thousands of jobs, most of them in the private\n",
      "sector in 1993 and 1994, passed the House of Representatives.  It\n",
      "now has the support of a majority of the United States Senate. \n",
      "But it's been held up by a filibuster of a minority in the\n",
      "Senate, just 43 senators.  They blocked a vote that they know\n",
      "would result in the passage of our bill and the creation of jobs.\n",
      "             \n",
      "             The issue isn't politics; the issue is people. \n",
      "Millions of Americans are waiting for this legislation and\n",
      "counting on it, counting on us in Washington.  But the jobs bill\n",
      "has been grounded by gridlock.  \n",
      "             \n",
      "             I know the American people are tired of business as\n",
      "usual and politics as usual.  I know they don't want us to spin\n",
      "or wheels.  They want the recovery to get moving.  So I have\n",
      "taken a first step to break this gridlock and gone the extra\n",
      "mile.  Yesterday I offered to cut the size of this plan by 25\n",
      "percent -- from $16 billion to $12 billion.  \n",
      "             \n",
      "             It's not what I'd hoped for.  With 16 million\n",
      "Americans looking for full-time work, I simply can't let the bill\n",
      "languish when I know that even a compromise bill will mean\n",
      "hundreds of thousands of jobs for our people.  The mandate is to\n",
      "act to achieve change and move the country forward.  By taking\n",
      "this initiative in the face of an unrelenting Senate talkathon, I\n",
      "think we can respond to your mandate and achieve a significant\n",
      "portion of our original goals.\n",
      "             \n",
      "             First, we want to keep the programs as much as\n",
      "possible that are needed to generate jobs and meet human needs,\n",
      "including highway and road construction, summer jobs for young\n",
      "people, immunization for children, construction of waste water\n",
      "sites, and aid to small businesses.  We also want to keep funding\n",
      "for extended unemployment compensation benefits, for people who\n",
      "have been unemployed for a long time because the economy isn't\n",
      "creating jobs.\n",
      "             \n",
      "             Second, I've recommended that all the other programs\n",
      "in the bill be cut across-the-board by a little more than 40\n",
      "percent.\n",
      "             \n",
      "             And third, I've recommended a new element in this\n",
      "program to help us immediately start our attempt to fight against\n",
      "crime by providing $200 million for cities and towns to rehire\n",
      "police officers who lost their jobs during the recession and put\n",
      "them back to work protecting our people.  I'm also going to fight\n",
      "for a tough crime bill because the people of this country need it\n",
      "and deserve it.\n",
      "             \n",
      "             Now, the people who are filibustering this bill --\n",
      "the Republican senators -- say they won't vote for it because it\n",
      "increases deficit spending, because there's extra spending this\n",
      "year that hasn't already been approved.  That sounds reasonable,\n",
      "doesn't it?  Here's what they don't say.  This program is more\n",
      "than paid for by budget cuts over my five-year budget, and this\n",
      "budget is well within the spending limits already approved by the\n",
      "Congress this year.\n",
      "             \n",
      "             It's amazing to me that many of these same senators\n",
      "who are filibustering the bill voted during the previous\n",
      "administration for billions of dollars of the same kind of\n",
      "emergency spending, and much of it was not designed to put the\n",
      "American people to work.  \n",
      "             \n",
      "             This is not about deficit spending.  We have offered\n",
      "a plan to cut the deficit.  This is about where your priorities\n",
      "are -- on people or on politics.  \n",
      "             \n",
      "             Keep in mind that our jobs bill is paid for dollar\n",
      "for dollar.  It is paid for by budget cuts.  And it's the\n",
      "soundest investment we can now make for ourselves and our\n",
      "children.  I urge all Americans to take another look at this jobs\n",
      "and investment program; to consider again the benefits for all of\n",
      "us when we've helped make more American partners working to\n",
      "ensure the future of our nation and the strength of our economy.\n",
      "             \n",
      "             You know, if every American who wanted a job had\n",
      "one, we wouldn't have a lot of the other problems we have in this\n",
      "country today.  This bill is not a miracle, it's a modest first\n",
      "step to try to set off a job creation explosion in this country\n",
      "again.  But it's a step we ought to take.  And it is fully paid\n",
      "for over the life of our budget.\n",
      "             \n",
      "             Tell your lawmakers what you think.  Tell them how\n",
      "important the bill is.  If it passes, we'll all be winners.\n",
      "             \n",
      "             Good morning, and thank you for listening.\n"
     ]
    }
   ],
   "source": [
    "# Veamos similaridad de documentos. Tomemos algún documento\n",
    "idx = 4811\n",
    "print(newsgroups_train.data[idx])"
   ]
  },
  {
   "cell_type": "code",
   "execution_count": 15,
   "metadata": {
    "id": "Ssa9bqJ-hA_v"
   },
   "outputs": [],
   "source": [
    "# midamos la similaridad coseno con todos los documentos de train\n",
    "cossim = cosine_similarity(X_train[idx], X_train)[0]"
   ]
  },
  {
   "cell_type": "code",
   "execution_count": 16,
   "metadata": {
    "colab": {
     "base_uri": "https://localhost:8080/"
    },
    "id": "p_mDA7p3AzcQ",
    "outputId": "747a3923-4b1c-4e2b-921d-4ebf2b271b00"
   },
   "outputs": [
    {
     "data": {
      "text/plain": [
       "array([1.        , 0.70930477, 0.67474953, ..., 0.        , 0.        ,\n",
       "       0.        ])"
      ]
     },
     "execution_count": 16,
     "metadata": {},
     "output_type": "execute_result"
    }
   ],
   "source": [
    "# podemos ver los valores de similaridad ordenados de mayor a menos\n",
    "np.sort(cossim)[::-1]"
   ]
  },
  {
   "cell_type": "code",
   "execution_count": 17,
   "metadata": {
    "colab": {
     "base_uri": "https://localhost:8080/"
    },
    "id": "0OIhDA1jAryX",
    "outputId": "04ddf3ca-0741-42d7-8bbb-00bb395f7834"
   },
   "outputs": [
    {
     "data": {
      "text/plain": [
       "array([ 4811,  6635,  4253, ...,  1534, 10055,  4750])"
      ]
     },
     "execution_count": 17,
     "metadata": {},
     "output_type": "execute_result"
    }
   ],
   "source": [
    "# y a qué documentos corresponden\n",
    "np.argsort(cossim)[::-1]"
   ]
  },
  {
   "cell_type": "code",
   "execution_count": 18,
   "metadata": {
    "id": "hP7qLS4ZBLps"
   },
   "outputs": [],
   "source": [
    "# los 5 documentos más similares:\n",
    "mostsim = np.argsort(cossim)[::-1][1:6]"
   ]
  },
  {
   "cell_type": "code",
   "execution_count": 19,
   "metadata": {
    "colab": {
     "base_uri": "https://localhost:8080/",
     "height": 35
    },
    "id": "QdJLHPJACvaj",
    "outputId": "926186cf-7d4c-4bd3-927b-ad00bf7f24f9"
   },
   "outputs": [
    {
     "data": {
      "text/plain": [
       "'talk.politics.misc'"
      ]
     },
     "execution_count": 19,
     "metadata": {},
     "output_type": "execute_result"
    }
   ],
   "source": [
    "# el documento original pertenece a la clase:\n",
    "newsgroups_train.target_names[y_train[idx]]"
   ]
  },
  {
   "cell_type": "code",
   "execution_count": 20,
   "metadata": {
    "colab": {
     "base_uri": "https://localhost:8080/"
    },
    "id": "RWy_73epCbFG",
    "outputId": "daf534e5-b2a8-43d4-d05a-9c52b816cf69"
   },
   "outputs": [
    {
     "name": "stdout",
     "output_type": "stream",
     "text": [
      "talk.politics.misc\n",
      "talk.politics.misc\n",
      "talk.politics.misc\n",
      "talk.politics.misc\n",
      "talk.politics.misc\n"
     ]
    }
   ],
   "source": [
    "# y los 5 más similares son de las clases:\n",
    "for i in mostsim:\n",
    "  print(newsgroups_train.target_names[y_train[i]])"
   ]
  },
  {
   "cell_type": "markdown",
   "metadata": {
    "id": "zRoNnKwhBqzq"
   },
   "source": [
    "### Modelo de clasificación Naïve Bayes"
   ]
  },
  {
   "cell_type": "code",
   "execution_count": 21,
   "metadata": {
    "colab": {
     "base_uri": "https://localhost:8080/",
     "height": 74
    },
    "id": "TPM0thDaLk0R",
    "outputId": "bc7fdc3e-d912-4e0c-9d9e-33efc97b46fc"
   },
   "outputs": [
    {
     "data": {
      "text/html": [
       "<style>#sk-container-id-1 {\n",
       "  /* Definition of color scheme common for light and dark mode */\n",
       "  --sklearn-color-text: black;\n",
       "  --sklearn-color-line: gray;\n",
       "  /* Definition of color scheme for unfitted estimators */\n",
       "  --sklearn-color-unfitted-level-0: #fff5e6;\n",
       "  --sklearn-color-unfitted-level-1: #f6e4d2;\n",
       "  --sklearn-color-unfitted-level-2: #ffe0b3;\n",
       "  --sklearn-color-unfitted-level-3: chocolate;\n",
       "  /* Definition of color scheme for fitted estimators */\n",
       "  --sklearn-color-fitted-level-0: #f0f8ff;\n",
       "  --sklearn-color-fitted-level-1: #d4ebff;\n",
       "  --sklearn-color-fitted-level-2: #b3dbfd;\n",
       "  --sklearn-color-fitted-level-3: cornflowerblue;\n",
       "\n",
       "  /* Specific color for light theme */\n",
       "  --sklearn-color-text-on-default-background: var(--sg-text-color, var(--theme-code-foreground, var(--jp-content-font-color1, black)));\n",
       "  --sklearn-color-background: var(--sg-background-color, var(--theme-background, var(--jp-layout-color0, white)));\n",
       "  --sklearn-color-border-box: var(--sg-text-color, var(--theme-code-foreground, var(--jp-content-font-color1, black)));\n",
       "  --sklearn-color-icon: #696969;\n",
       "\n",
       "  @media (prefers-color-scheme: dark) {\n",
       "    /* Redefinition of color scheme for dark theme */\n",
       "    --sklearn-color-text-on-default-background: var(--sg-text-color, var(--theme-code-foreground, var(--jp-content-font-color1, white)));\n",
       "    --sklearn-color-background: var(--sg-background-color, var(--theme-background, var(--jp-layout-color0, #111)));\n",
       "    --sklearn-color-border-box: var(--sg-text-color, var(--theme-code-foreground, var(--jp-content-font-color1, white)));\n",
       "    --sklearn-color-icon: #878787;\n",
       "  }\n",
       "}\n",
       "\n",
       "#sk-container-id-1 {\n",
       "  color: var(--sklearn-color-text);\n",
       "}\n",
       "\n",
       "#sk-container-id-1 pre {\n",
       "  padding: 0;\n",
       "}\n",
       "\n",
       "#sk-container-id-1 input.sk-hidden--visually {\n",
       "  border: 0;\n",
       "  clip: rect(1px 1px 1px 1px);\n",
       "  clip: rect(1px, 1px, 1px, 1px);\n",
       "  height: 1px;\n",
       "  margin: -1px;\n",
       "  overflow: hidden;\n",
       "  padding: 0;\n",
       "  position: absolute;\n",
       "  width: 1px;\n",
       "}\n",
       "\n",
       "#sk-container-id-1 div.sk-dashed-wrapped {\n",
       "  border: 1px dashed var(--sklearn-color-line);\n",
       "  margin: 0 0.4em 0.5em 0.4em;\n",
       "  box-sizing: border-box;\n",
       "  padding-bottom: 0.4em;\n",
       "  background-color: var(--sklearn-color-background);\n",
       "}\n",
       "\n",
       "#sk-container-id-1 div.sk-container {\n",
       "  /* jupyter's `normalize.less` sets `[hidden] { display: none; }`\n",
       "     but bootstrap.min.css set `[hidden] { display: none !important; }`\n",
       "     so we also need the `!important` here to be able to override the\n",
       "     default hidden behavior on the sphinx rendered scikit-learn.org.\n",
       "     See: https://github.com/scikit-learn/scikit-learn/issues/21755 */\n",
       "  display: inline-block !important;\n",
       "  position: relative;\n",
       "}\n",
       "\n",
       "#sk-container-id-1 div.sk-text-repr-fallback {\n",
       "  display: none;\n",
       "}\n",
       "\n",
       "div.sk-parallel-item,\n",
       "div.sk-serial,\n",
       "div.sk-item {\n",
       "  /* draw centered vertical line to link estimators */\n",
       "  background-image: linear-gradient(var(--sklearn-color-text-on-default-background), var(--sklearn-color-text-on-default-background));\n",
       "  background-size: 2px 100%;\n",
       "  background-repeat: no-repeat;\n",
       "  background-position: center center;\n",
       "}\n",
       "\n",
       "/* Parallel-specific style estimator block */\n",
       "\n",
       "#sk-container-id-1 div.sk-parallel-item::after {\n",
       "  content: \"\";\n",
       "  width: 100%;\n",
       "  border-bottom: 2px solid var(--sklearn-color-text-on-default-background);\n",
       "  flex-grow: 1;\n",
       "}\n",
       "\n",
       "#sk-container-id-1 div.sk-parallel {\n",
       "  display: flex;\n",
       "  align-items: stretch;\n",
       "  justify-content: center;\n",
       "  background-color: var(--sklearn-color-background);\n",
       "  position: relative;\n",
       "}\n",
       "\n",
       "#sk-container-id-1 div.sk-parallel-item {\n",
       "  display: flex;\n",
       "  flex-direction: column;\n",
       "}\n",
       "\n",
       "#sk-container-id-1 div.sk-parallel-item:first-child::after {\n",
       "  align-self: flex-end;\n",
       "  width: 50%;\n",
       "}\n",
       "\n",
       "#sk-container-id-1 div.sk-parallel-item:last-child::after {\n",
       "  align-self: flex-start;\n",
       "  width: 50%;\n",
       "}\n",
       "\n",
       "#sk-container-id-1 div.sk-parallel-item:only-child::after {\n",
       "  width: 0;\n",
       "}\n",
       "\n",
       "/* Serial-specific style estimator block */\n",
       "\n",
       "#sk-container-id-1 div.sk-serial {\n",
       "  display: flex;\n",
       "  flex-direction: column;\n",
       "  align-items: center;\n",
       "  background-color: var(--sklearn-color-background);\n",
       "  padding-right: 1em;\n",
       "  padding-left: 1em;\n",
       "}\n",
       "\n",
       "\n",
       "/* Toggleable style: style used for estimator/Pipeline/ColumnTransformer box that is\n",
       "clickable and can be expanded/collapsed.\n",
       "- Pipeline and ColumnTransformer use this feature and define the default style\n",
       "- Estimators will overwrite some part of the style using the `sk-estimator` class\n",
       "*/\n",
       "\n",
       "/* Pipeline and ColumnTransformer style (default) */\n",
       "\n",
       "#sk-container-id-1 div.sk-toggleable {\n",
       "  /* Default theme specific background. It is overwritten whether we have a\n",
       "  specific estimator or a Pipeline/ColumnTransformer */\n",
       "  background-color: var(--sklearn-color-background);\n",
       "}\n",
       "\n",
       "/* Toggleable label */\n",
       "#sk-container-id-1 label.sk-toggleable__label {\n",
       "  cursor: pointer;\n",
       "  display: block;\n",
       "  width: 100%;\n",
       "  margin-bottom: 0;\n",
       "  padding: 0.5em;\n",
       "  box-sizing: border-box;\n",
       "  text-align: center;\n",
       "}\n",
       "\n",
       "#sk-container-id-1 label.sk-toggleable__label-arrow:before {\n",
       "  /* Arrow on the left of the label */\n",
       "  content: \"▸\";\n",
       "  float: left;\n",
       "  margin-right: 0.25em;\n",
       "  color: var(--sklearn-color-icon);\n",
       "}\n",
       "\n",
       "#sk-container-id-1 label.sk-toggleable__label-arrow:hover:before {\n",
       "  color: var(--sklearn-color-text);\n",
       "}\n",
       "\n",
       "/* Toggleable content - dropdown */\n",
       "\n",
       "#sk-container-id-1 div.sk-toggleable__content {\n",
       "  max-height: 0;\n",
       "  max-width: 0;\n",
       "  overflow: hidden;\n",
       "  text-align: left;\n",
       "  /* unfitted */\n",
       "  background-color: var(--sklearn-color-unfitted-level-0);\n",
       "}\n",
       "\n",
       "#sk-container-id-1 div.sk-toggleable__content.fitted {\n",
       "  /* fitted */\n",
       "  background-color: var(--sklearn-color-fitted-level-0);\n",
       "}\n",
       "\n",
       "#sk-container-id-1 div.sk-toggleable__content pre {\n",
       "  margin: 0.2em;\n",
       "  border-radius: 0.25em;\n",
       "  color: var(--sklearn-color-text);\n",
       "  /* unfitted */\n",
       "  background-color: var(--sklearn-color-unfitted-level-0);\n",
       "}\n",
       "\n",
       "#sk-container-id-1 div.sk-toggleable__content.fitted pre {\n",
       "  /* unfitted */\n",
       "  background-color: var(--sklearn-color-fitted-level-0);\n",
       "}\n",
       "\n",
       "#sk-container-id-1 input.sk-toggleable__control:checked~div.sk-toggleable__content {\n",
       "  /* Expand drop-down */\n",
       "  max-height: 200px;\n",
       "  max-width: 100%;\n",
       "  overflow: auto;\n",
       "}\n",
       "\n",
       "#sk-container-id-1 input.sk-toggleable__control:checked~label.sk-toggleable__label-arrow:before {\n",
       "  content: \"▾\";\n",
       "}\n",
       "\n",
       "/* Pipeline/ColumnTransformer-specific style */\n",
       "\n",
       "#sk-container-id-1 div.sk-label input.sk-toggleable__control:checked~label.sk-toggleable__label {\n",
       "  color: var(--sklearn-color-text);\n",
       "  background-color: var(--sklearn-color-unfitted-level-2);\n",
       "}\n",
       "\n",
       "#sk-container-id-1 div.sk-label.fitted input.sk-toggleable__control:checked~label.sk-toggleable__label {\n",
       "  background-color: var(--sklearn-color-fitted-level-2);\n",
       "}\n",
       "\n",
       "/* Estimator-specific style */\n",
       "\n",
       "/* Colorize estimator box */\n",
       "#sk-container-id-1 div.sk-estimator input.sk-toggleable__control:checked~label.sk-toggleable__label {\n",
       "  /* unfitted */\n",
       "  background-color: var(--sklearn-color-unfitted-level-2);\n",
       "}\n",
       "\n",
       "#sk-container-id-1 div.sk-estimator.fitted input.sk-toggleable__control:checked~label.sk-toggleable__label {\n",
       "  /* fitted */\n",
       "  background-color: var(--sklearn-color-fitted-level-2);\n",
       "}\n",
       "\n",
       "#sk-container-id-1 div.sk-label label.sk-toggleable__label,\n",
       "#sk-container-id-1 div.sk-label label {\n",
       "  /* The background is the default theme color */\n",
       "  color: var(--sklearn-color-text-on-default-background);\n",
       "}\n",
       "\n",
       "/* On hover, darken the color of the background */\n",
       "#sk-container-id-1 div.sk-label:hover label.sk-toggleable__label {\n",
       "  color: var(--sklearn-color-text);\n",
       "  background-color: var(--sklearn-color-unfitted-level-2);\n",
       "}\n",
       "\n",
       "/* Label box, darken color on hover, fitted */\n",
       "#sk-container-id-1 div.sk-label.fitted:hover label.sk-toggleable__label.fitted {\n",
       "  color: var(--sklearn-color-text);\n",
       "  background-color: var(--sklearn-color-fitted-level-2);\n",
       "}\n",
       "\n",
       "/* Estimator label */\n",
       "\n",
       "#sk-container-id-1 div.sk-label label {\n",
       "  font-family: monospace;\n",
       "  font-weight: bold;\n",
       "  display: inline-block;\n",
       "  line-height: 1.2em;\n",
       "}\n",
       "\n",
       "#sk-container-id-1 div.sk-label-container {\n",
       "  text-align: center;\n",
       "}\n",
       "\n",
       "/* Estimator-specific */\n",
       "#sk-container-id-1 div.sk-estimator {\n",
       "  font-family: monospace;\n",
       "  border: 1px dotted var(--sklearn-color-border-box);\n",
       "  border-radius: 0.25em;\n",
       "  box-sizing: border-box;\n",
       "  margin-bottom: 0.5em;\n",
       "  /* unfitted */\n",
       "  background-color: var(--sklearn-color-unfitted-level-0);\n",
       "}\n",
       "\n",
       "#sk-container-id-1 div.sk-estimator.fitted {\n",
       "  /* fitted */\n",
       "  background-color: var(--sklearn-color-fitted-level-0);\n",
       "}\n",
       "\n",
       "/* on hover */\n",
       "#sk-container-id-1 div.sk-estimator:hover {\n",
       "  /* unfitted */\n",
       "  background-color: var(--sklearn-color-unfitted-level-2);\n",
       "}\n",
       "\n",
       "#sk-container-id-1 div.sk-estimator.fitted:hover {\n",
       "  /* fitted */\n",
       "  background-color: var(--sklearn-color-fitted-level-2);\n",
       "}\n",
       "\n",
       "/* Specification for estimator info (e.g. \"i\" and \"?\") */\n",
       "\n",
       "/* Common style for \"i\" and \"?\" */\n",
       "\n",
       ".sk-estimator-doc-link,\n",
       "a:link.sk-estimator-doc-link,\n",
       "a:visited.sk-estimator-doc-link {\n",
       "  float: right;\n",
       "  font-size: smaller;\n",
       "  line-height: 1em;\n",
       "  font-family: monospace;\n",
       "  background-color: var(--sklearn-color-background);\n",
       "  border-radius: 1em;\n",
       "  height: 1em;\n",
       "  width: 1em;\n",
       "  text-decoration: none !important;\n",
       "  margin-left: 1ex;\n",
       "  /* unfitted */\n",
       "  border: var(--sklearn-color-unfitted-level-1) 1pt solid;\n",
       "  color: var(--sklearn-color-unfitted-level-1);\n",
       "}\n",
       "\n",
       ".sk-estimator-doc-link.fitted,\n",
       "a:link.sk-estimator-doc-link.fitted,\n",
       "a:visited.sk-estimator-doc-link.fitted {\n",
       "  /* fitted */\n",
       "  border: var(--sklearn-color-fitted-level-1) 1pt solid;\n",
       "  color: var(--sklearn-color-fitted-level-1);\n",
       "}\n",
       "\n",
       "/* On hover */\n",
       "div.sk-estimator:hover .sk-estimator-doc-link:hover,\n",
       ".sk-estimator-doc-link:hover,\n",
       "div.sk-label-container:hover .sk-estimator-doc-link:hover,\n",
       ".sk-estimator-doc-link:hover {\n",
       "  /* unfitted */\n",
       "  background-color: var(--sklearn-color-unfitted-level-3);\n",
       "  color: var(--sklearn-color-background);\n",
       "  text-decoration: none;\n",
       "}\n",
       "\n",
       "div.sk-estimator.fitted:hover .sk-estimator-doc-link.fitted:hover,\n",
       ".sk-estimator-doc-link.fitted:hover,\n",
       "div.sk-label-container:hover .sk-estimator-doc-link.fitted:hover,\n",
       ".sk-estimator-doc-link.fitted:hover {\n",
       "  /* fitted */\n",
       "  background-color: var(--sklearn-color-fitted-level-3);\n",
       "  color: var(--sklearn-color-background);\n",
       "  text-decoration: none;\n",
       "}\n",
       "\n",
       "/* Span, style for the box shown on hovering the info icon */\n",
       ".sk-estimator-doc-link span {\n",
       "  display: none;\n",
       "  z-index: 9999;\n",
       "  position: relative;\n",
       "  font-weight: normal;\n",
       "  right: .2ex;\n",
       "  padding: .5ex;\n",
       "  margin: .5ex;\n",
       "  width: min-content;\n",
       "  min-width: 20ex;\n",
       "  max-width: 50ex;\n",
       "  color: var(--sklearn-color-text);\n",
       "  box-shadow: 2pt 2pt 4pt #999;\n",
       "  /* unfitted */\n",
       "  background: var(--sklearn-color-unfitted-level-0);\n",
       "  border: .5pt solid var(--sklearn-color-unfitted-level-3);\n",
       "}\n",
       "\n",
       ".sk-estimator-doc-link.fitted span {\n",
       "  /* fitted */\n",
       "  background: var(--sklearn-color-fitted-level-0);\n",
       "  border: var(--sklearn-color-fitted-level-3);\n",
       "}\n",
       "\n",
       ".sk-estimator-doc-link:hover span {\n",
       "  display: block;\n",
       "}\n",
       "\n",
       "/* \"?\"-specific style due to the `<a>` HTML tag */\n",
       "\n",
       "#sk-container-id-1 a.estimator_doc_link {\n",
       "  float: right;\n",
       "  font-size: 1rem;\n",
       "  line-height: 1em;\n",
       "  font-family: monospace;\n",
       "  background-color: var(--sklearn-color-background);\n",
       "  border-radius: 1rem;\n",
       "  height: 1rem;\n",
       "  width: 1rem;\n",
       "  text-decoration: none;\n",
       "  /* unfitted */\n",
       "  color: var(--sklearn-color-unfitted-level-1);\n",
       "  border: var(--sklearn-color-unfitted-level-1) 1pt solid;\n",
       "}\n",
       "\n",
       "#sk-container-id-1 a.estimator_doc_link.fitted {\n",
       "  /* fitted */\n",
       "  border: var(--sklearn-color-fitted-level-1) 1pt solid;\n",
       "  color: var(--sklearn-color-fitted-level-1);\n",
       "}\n",
       "\n",
       "/* On hover */\n",
       "#sk-container-id-1 a.estimator_doc_link:hover {\n",
       "  /* unfitted */\n",
       "  background-color: var(--sklearn-color-unfitted-level-3);\n",
       "  color: var(--sklearn-color-background);\n",
       "  text-decoration: none;\n",
       "}\n",
       "\n",
       "#sk-container-id-1 a.estimator_doc_link.fitted:hover {\n",
       "  /* fitted */\n",
       "  background-color: var(--sklearn-color-fitted-level-3);\n",
       "}\n",
       "</style><div id=\"sk-container-id-1\" class=\"sk-top-container\"><div class=\"sk-text-repr-fallback\"><pre>MultinomialNB()</pre><b>In a Jupyter environment, please rerun this cell to show the HTML representation or trust the notebook. <br />On GitHub, the HTML representation is unable to render, please try loading this page with nbviewer.org.</b></div><div class=\"sk-container\" hidden><div class=\"sk-item\"><div class=\"sk-estimator fitted sk-toggleable\"><input class=\"sk-toggleable__control sk-hidden--visually\" id=\"sk-estimator-id-1\" type=\"checkbox\" checked><label for=\"sk-estimator-id-1\" class=\"sk-toggleable__label fitted sk-toggleable__label-arrow fitted\">&nbsp;&nbsp;MultinomialNB<a class=\"sk-estimator-doc-link fitted\" rel=\"noreferrer\" target=\"_blank\" href=\"https://scikit-learn.org/1.5/modules/generated/sklearn.naive_bayes.MultinomialNB.html\">?<span>Documentation for MultinomialNB</span></a><span class=\"sk-estimator-doc-link fitted\">i<span>Fitted</span></span></label><div class=\"sk-toggleable__content fitted\"><pre>MultinomialNB()</pre></div> </div></div></div></div>"
      ],
      "text/plain": [
       "MultinomialNB()"
      ]
     },
     "execution_count": 21,
     "metadata": {},
     "output_type": "execute_result"
    }
   ],
   "source": [
    "# es muy fácil instanciar un modelo de clasificación Naïve Bayes y entrenarlo con sklearn\n",
    "clf = MultinomialNB()\n",
    "clf.fit(X_train, y_train)"
   ]
  },
  {
   "cell_type": "code",
   "execution_count": 22,
   "metadata": {
    "id": "NrQjzM48Mu4T"
   },
   "outputs": [],
   "source": [
    "# con nuestro vectorizador ya fiteado en train, vectorizamos los textos\n",
    "# del conjunto de test\n",
    "X_test = tfidfvect.transform(newsgroups_test.data)\n",
    "y_test = newsgroups_test.target\n",
    "y_pred =  clf.predict(X_test)"
   ]
  },
  {
   "cell_type": "code",
   "execution_count": 23,
   "metadata": {
    "colab": {
     "base_uri": "https://localhost:8080/"
    },
    "id": "UkGJhetEPdA4",
    "outputId": "232ee2ce-e904-466e-be57-babc1f319029"
   },
   "outputs": [
    {
     "data": {
      "text/plain": [
       "0.5854345727938506"
      ]
     },
     "execution_count": 23,
     "metadata": {},
     "output_type": "execute_result"
    }
   ],
   "source": [
    "# el F1-score es una metrica adecuada para reportar desempeño de modelos de claificación\n",
    "# es robusta al desbalance de clases. El promediado 'macro' es el promedio de los\n",
    "# F1-score de cada clase. El promedio 'micro' es equivalente a la accuracy que no\n",
    "# es una buena métrica cuando los datasets son desbalanceados\n",
    "f1_score(y_test, y_pred, average='macro')"
   ]
  },
  {
   "cell_type": "markdown",
   "metadata": {
    "id": "McArD4rSDR2K"
   },
   "source": [
    "## Consigna del desafío 1"
   ]
  },
  {
   "cell_type": "markdown",
   "metadata": {
    "id": "lJgf6GQIIEH1"
   },
   "source": [
    "**1**. Vectorizar documentos. Tomar 5 documentos al azar y medir similaridad con el resto de los documentos.\n",
    "Estudiar los 5 documentos más similares de cada uno analizar si tiene sentido\n",
    "la similaridad según el contenido del texto y la etiqueta de clasificación.\n",
    "\n",
    "**2**. Entrenar modelos de clasificación Naïve Bayes para maximizar el desempeño de clasificación\n",
    "(f1-score macro) en el conjunto de datos de test. Considerar cambiar parámteros\n",
    "de instanciación del vectorizador y los modelos y probar modelos de Naïve Bayes Multinomial\n",
    "y ComplementNB.\n",
    "\n",
    "**3**. Transponer la matriz documento-término. De esa manera se obtiene una matriz\n",
    "término-documento que puede ser interpretada como una colección de vectorización de palabras.\n",
    "Estudiar ahora similaridad entre palabras tomando 5 palabras y estudiando sus 5 más similares. **La elección de palabras no debe ser al azar para evitar la aparición de términos poco interpretables, elegirlas \"manualmente\"**.\n"
   ]
  },
  {
   "cell_type": "markdown",
   "metadata": {
    "id": "41_YWaVynECX"
   },
   "source": [
    "# **1**. Resolvemos el punto 1.\n",
    "\n",
    "Empecemos con los siguientes ids:\n",
    "idx1 = 1111\n",
    "idx2 = 2222\n",
    "idx3 = 3333\n",
    "idx4 = 4444\n",
    "idx5 = 2323\n"
   ]
  },
  {
   "cell_type": "code",
   "execution_count": 24,
   "metadata": {
    "colab": {
     "base_uri": "https://localhost:8080/"
    },
    "id": "Tc4gXGMfnECX",
    "outputId": "b2bd8485-40c7-4923-c8a9-4ad6b735576e"
   },
   "outputs": [
    {
     "name": "stdout",
     "output_type": "stream",
     "text": [
      "Hi netters,\n",
      "\n",
      "My friend is seriously thinking of getting the Subaru SVX. There is\n",
      "a local dealer here in Seattle selling them for $22600, with\n",
      "Touring package, that's $7400 off from MSRP. He thinks it's a \n",
      "very good deal (and I think so too). Since he knows I have access to\n",
      "the net, he would like to get anyone's opinion about this car, especially\n",
      "in the area of reliability and maintenanability.\n",
      "Please send e-mail to me as my friend doesn't have access to the net.\n",
      "\n",
      "My opinion about this car is, you get a lot for $22600:\n",
      "auto everything (tranny, climate control, windows, locks, folddow rear seet),\n",
      "full wheel drive, 2+2, fast (143 top spped), heavy (3580lb);-)\n",
      "\n",
      "Thanks in advacne!\n"
     ]
    }
   ],
   "source": [
    "# Veamos similaridad de documentos. Tomemos el documento 1111\n",
    "idx1 = 1111\n",
    "print(newsgroups_train.data[idx1])"
   ]
  },
  {
   "cell_type": "code",
   "execution_count": 25,
   "metadata": {
    "id": "EH7CCiQOnECX",
    "jupyter": {
     "source_hidden": true
    }
   },
   "outputs": [],
   "source": [
    "# midamos la similaridad coseno con todos los documentos de train\n",
    "cossim1 = cosine_similarity(X_train[idx1], X_train)[0]"
   ]
  },
  {
   "cell_type": "code",
   "execution_count": 26,
   "metadata": {
    "colab": {
     "base_uri": "https://localhost:8080/"
    },
    "id": "tQgOUsTgnECX",
    "outputId": "747a3923-4b1c-4e2b-921d-4ebf2b271b00"
   },
   "outputs": [
    {
     "data": {
      "text/plain": [
       "array([1.        , 0.2463245 , 0.19692644, ..., 0.        , 0.        ,\n",
       "       0.        ])"
      ]
     },
     "execution_count": 26,
     "metadata": {},
     "output_type": "execute_result"
    }
   ],
   "source": [
    "# podemos ver los valores de similaridad ordenados de mayor a menos\n",
    "np.sort(cossim1)[::-1]"
   ]
  },
  {
   "cell_type": "code",
   "execution_count": 27,
   "metadata": {
    "colab": {
     "base_uri": "https://localhost:8080/"
    },
    "id": "OXQE9D5XnECY",
    "outputId": "04ddf3ca-0741-42d7-8bbb-00bb395f7834"
   },
   "outputs": [
    {
     "data": {
      "text/plain": [
       "array([ 1111,  9491,   120, ...,  6724,  6716, 10829])"
      ]
     },
     "execution_count": 27,
     "metadata": {},
     "output_type": "execute_result"
    }
   ],
   "source": [
    "# y a qué documentos corresponden\n",
    "np.argsort(cossim1)[::-1]"
   ]
  },
  {
   "cell_type": "code",
   "execution_count": 28,
   "metadata": {
    "id": "9vnPJQaTnECY"
   },
   "outputs": [],
   "source": [
    "# los 5 documentos más similares:\n",
    "mostsim1 = np.argsort(cossim1)[::-1][1:6]"
   ]
  },
  {
   "cell_type": "code",
   "execution_count": 29,
   "metadata": {
    "colab": {
     "base_uri": "https://localhost:8080/",
     "height": 35
    },
    "id": "OgYjv_IknECY",
    "outputId": "926186cf-7d4c-4bd3-927b-ad00bf7f24f9"
   },
   "outputs": [
    {
     "data": {
      "text/plain": [
       "'rec.autos'"
      ]
     },
     "execution_count": 29,
     "metadata": {},
     "output_type": "execute_result"
    }
   ],
   "source": [
    "# el documento original pertenece a la clase:\n",
    "newsgroups_train.target_names[y_train[idx1]]"
   ]
  },
  {
   "cell_type": "code",
   "execution_count": 30,
   "metadata": {
    "colab": {
     "base_uri": "https://localhost:8080/"
    },
    "id": "zW9AcmFjnECY",
    "outputId": "daf534e5-b2a8-43d4-d05a-9c52b816cf69"
   },
   "outputs": [
    {
     "name": "stdout",
     "output_type": "stream",
     "text": [
      "rec.autos\n",
      "soc.religion.christian\n",
      "rec.autos\n",
      "soc.religion.christian\n",
      "rec.autos\n"
     ]
    }
   ],
   "source": [
    "# y los 5 más similares son de las clases:\n",
    "for i in mostsim1:\n",
    "  print(newsgroups_train.target_names[y_train[i]])"
   ]
  },
  {
   "cell_type": "code",
   "execution_count": 31,
   "metadata": {
    "colab": {
     "base_uri": "https://localhost:8080/"
    },
    "id": "WagPLzqrnECY",
    "outputId": "b2bd8485-40c7-4923-c8a9-4ad6b735576e"
   },
   "outputs": [
    {
     "name": "stdout",
     "output_type": "stream",
     "text": [
      "\n",
      "however, the word \"pa^ques\" in french _is_ the word for easter.  ask\n",
      "any francophone, whether from quebec or from paris.  besides, haven't\n",
      "you heard of the phrase \"the paschal lamb\" (meaning jesus)?\n",
      "\n",
      "sorry to nitpick on the more trivial part of this thread....\n"
     ]
    }
   ],
   "source": [
    "# Veamos similaridad de documentos. Tomemos el documento 2222\n",
    "idx2 = 2222\n",
    "print(newsgroups_train.data[idx2])"
   ]
  },
  {
   "cell_type": "code",
   "execution_count": 32,
   "metadata": {
    "id": "pQeH5jvdnECY"
   },
   "outputs": [],
   "source": [
    "# midamos la similaridad coseno con todos los documentos de train\n",
    "cossim2 = cosine_similarity(X_train[idx2], X_train)[0]"
   ]
  },
  {
   "cell_type": "code",
   "execution_count": 33,
   "metadata": {
    "colab": {
     "base_uri": "https://localhost:8080/"
    },
    "id": "vjh6UVmMnECY",
    "outputId": "747a3923-4b1c-4e2b-921d-4ebf2b271b00"
   },
   "outputs": [
    {
     "data": {
      "text/plain": [
       "array([1.        , 0.25658245, 0.20773143, ..., 0.        , 0.        ,\n",
       "       0.        ])"
      ]
     },
     "execution_count": 33,
     "metadata": {},
     "output_type": "execute_result"
    }
   ],
   "source": [
    "# podemos ver los valores de similaridad ordenados de mayor a menos\n",
    "np.sort(cossim2)[::-1]"
   ]
  },
  {
   "cell_type": "code",
   "execution_count": 34,
   "metadata": {
    "colab": {
     "base_uri": "https://localhost:8080/"
    },
    "id": "5B792WO2nECb",
    "outputId": "04ddf3ca-0741-42d7-8bbb-00bb395f7834"
   },
   "outputs": [
    {
     "data": {
      "text/plain": [
       "array([2222, 3853, 5986, ..., 8484,  660, 7207])"
      ]
     },
     "execution_count": 34,
     "metadata": {},
     "output_type": "execute_result"
    }
   ],
   "source": [
    "# y a qué documentos corresponden\n",
    "np.argsort(cossim2)[::-1]"
   ]
  },
  {
   "cell_type": "code",
   "execution_count": 35,
   "metadata": {
    "id": "MgvuMjllnECb"
   },
   "outputs": [],
   "source": [
    "# los 5 documentos más similares:\n",
    "mostsim2 = np.argsort(cossim2)[::-1][1:6]"
   ]
  },
  {
   "cell_type": "code",
   "execution_count": 36,
   "metadata": {
    "colab": {
     "base_uri": "https://localhost:8080/",
     "height": 35
    },
    "id": "8ehG-AgJnECb",
    "outputId": "926186cf-7d4c-4bd3-927b-ad00bf7f24f9"
   },
   "outputs": [
    {
     "data": {
      "text/plain": [
       "'soc.religion.christian'"
      ]
     },
     "execution_count": 36,
     "metadata": {},
     "output_type": "execute_result"
    }
   ],
   "source": [
    "# el documento original pertenece a la clase:\n",
    "newsgroups_train.target_names[y_train[idx2]]"
   ]
  },
  {
   "cell_type": "code",
   "execution_count": 37,
   "metadata": {
    "colab": {
     "base_uri": "https://localhost:8080/"
    },
    "id": "Ork9eQUVnECb",
    "outputId": "daf534e5-b2a8-43d4-d05a-9c52b816cf69"
   },
   "outputs": [
    {
     "name": "stdout",
     "output_type": "stream",
     "text": [
      "soc.religion.christian\n",
      "soc.religion.christian\n",
      "soc.religion.christian\n",
      "soc.religion.christian\n",
      "alt.atheism\n"
     ]
    }
   ],
   "source": [
    "# y los 5 más similares son de las clases:\n",
    "for i in mostsim2:\n",
    "  print(newsgroups_train.target_names[y_train[i]])"
   ]
  },
  {
   "cell_type": "code",
   "execution_count": 38,
   "metadata": {
    "colab": {
     "base_uri": "https://localhost:8080/"
    },
    "id": "iwhbHWTVnECb",
    "outputId": "b2bd8485-40c7-4923-c8a9-4ad6b735576e"
   },
   "outputs": [
    {
     "name": "stdout",
     "output_type": "stream",
     "text": [
      "Hello,\n",
      "\n",
      "\tHas anyone built cxterm (X11R5) on a MIPS platform.  If you have,\n",
      "please send me email as I don't read this group.  I've a bunch of questions...\n",
      ":-)\n",
      "\n",
      "\t\t\t\tThanks\n"
     ]
    }
   ],
   "source": [
    "# Veamos similaridad de documentos. Tomemos el documento 3333\n",
    "idx3 = 6666\n",
    "print(newsgroups_train.data[idx3])"
   ]
  },
  {
   "cell_type": "code",
   "execution_count": 39,
   "metadata": {
    "id": "LQ1O02t4nECb"
   },
   "outputs": [],
   "source": [
    "# midamos la similaridad coseno con todos los documentos de train\n",
    "cossim3 = cosine_similarity(X_train[idx3], X_train)[0]"
   ]
  },
  {
   "cell_type": "code",
   "execution_count": 40,
   "metadata": {
    "colab": {
     "base_uri": "https://localhost:8080/"
    },
    "id": "ldwpLhtEnECb",
    "outputId": "747a3923-4b1c-4e2b-921d-4ebf2b271b00"
   },
   "outputs": [
    {
     "data": {
      "text/plain": [
       "array([1.        , 0.24077394, 0.24077394, ..., 0.        , 0.        ,\n",
       "       0.        ])"
      ]
     },
     "execution_count": 40,
     "metadata": {},
     "output_type": "execute_result"
    }
   ],
   "source": [
    "# podemos ver los valores de similaridad ordenados de mayor a menos\n",
    "np.sort(cossim3)[::-1]"
   ]
  },
  {
   "cell_type": "code",
   "execution_count": 41,
   "metadata": {
    "colab": {
     "base_uri": "https://localhost:8080/"
    },
    "id": "0lY6u7ZanECc",
    "outputId": "04ddf3ca-0741-42d7-8bbb-00bb395f7834"
   },
   "outputs": [
    {
     "data": {
      "text/plain": [
       "array([6666, 8719, 2429, ..., 1241, 6489, 8078])"
      ]
     },
     "execution_count": 41,
     "metadata": {},
     "output_type": "execute_result"
    }
   ],
   "source": [
    "# y a qué documentos corresponden\n",
    "np.argsort(cossim3)[::-1]"
   ]
  },
  {
   "cell_type": "code",
   "execution_count": 42,
   "metadata": {
    "id": "APOjOCttnECc"
   },
   "outputs": [],
   "source": [
    "# los 5 documentos más similares:\n",
    "mostsim3 = np.argsort(cossim3)[::-1][1:6]"
   ]
  },
  {
   "cell_type": "code",
   "execution_count": 43,
   "metadata": {
    "colab": {
     "base_uri": "https://localhost:8080/",
     "height": 35
    },
    "id": "B_cpjSHNnECc",
    "outputId": "926186cf-7d4c-4bd3-927b-ad00bf7f24f9"
   },
   "outputs": [
    {
     "data": {
      "text/plain": [
       "'comp.windows.x'"
      ]
     },
     "execution_count": 43,
     "metadata": {},
     "output_type": "execute_result"
    }
   ],
   "source": [
    "# el documento original pertenece a la clase:\n",
    "newsgroups_train.target_names[y_train[idx3]]"
   ]
  },
  {
   "cell_type": "code",
   "execution_count": 44,
   "metadata": {
    "colab": {
     "base_uri": "https://localhost:8080/"
    },
    "id": "6Izt1KdHnECc",
    "outputId": "daf534e5-b2a8-43d4-d05a-9c52b816cf69"
   },
   "outputs": [
    {
     "name": "stdout",
     "output_type": "stream",
     "text": [
      "sci.med\n",
      "comp.graphics\n",
      "talk.religion.misc\n",
      "talk.politics.misc\n",
      "sci.electronics\n"
     ]
    }
   ],
   "source": [
    "# y los 5 más similares son de las clases:\n",
    "for i in mostsim3:\n",
    "  print(newsgroups_train.target_names[y_train[i]])"
   ]
  },
  {
   "cell_type": "code",
   "execution_count": 45,
   "metadata": {
    "colab": {
     "base_uri": "https://localhost:8080/"
    },
    "id": "9FSu8xsBnECc",
    "outputId": "b2bd8485-40c7-4923-c8a9-4ad6b735576e"
   },
   "outputs": [
    {
     "name": "stdout",
     "output_type": "stream",
     "text": [
      "\n",
      "It was more than a theoretical concept; it was seriously pursued by\n",
      "Freeman Dyson et al many years ago. I don't know how well-known this is,\n",
      "but a high explosive Orion prototype flew (in the atmosphere) in San\n",
      "Diego back in 1957 or 1958. I was working at General Atomic at the time,\n",
      "but I didn't learn about the experiment until almost thirty years later,\n",
      "when \n",
      "Ted Taylor visited us and revealed that it had been done. I feel sure\n",
      "that someone must have film of that experiment, and I'd really like to\n",
      "see it. Has anyone out there seen it?\n"
     ]
    }
   ],
   "source": [
    "# Veamos similaridad de documentos. Tomemos el documento 1111\n",
    "idx4 = 4444\n",
    "print(newsgroups_train.data[idx4])"
   ]
  },
  {
   "cell_type": "code",
   "execution_count": 46,
   "metadata": {
    "id": "Qwr8iPCAnECc"
   },
   "outputs": [],
   "source": [
    "# midamos la similaridad coseno con todos los documentos de train\n",
    "cossim4 = cosine_similarity(X_train[idx4], X_train)[0]"
   ]
  },
  {
   "cell_type": "code",
   "execution_count": 47,
   "metadata": {
    "colab": {
     "base_uri": "https://localhost:8080/"
    },
    "id": "obmauOL2nECc",
    "outputId": "747a3923-4b1c-4e2b-921d-4ebf2b271b00"
   },
   "outputs": [
    {
     "data": {
      "text/plain": [
       "array([1.        , 0.24766676, 0.24031326, ..., 0.        , 0.        ,\n",
       "       0.        ])"
      ]
     },
     "execution_count": 47,
     "metadata": {},
     "output_type": "execute_result"
    }
   ],
   "source": [
    "# podemos ver los valores de similaridad ordenados de mayor a menos\n",
    "np.sort(cossim4)[::-1]"
   ]
  },
  {
   "cell_type": "code",
   "execution_count": 48,
   "metadata": {
    "colab": {
     "base_uri": "https://localhost:8080/"
    },
    "id": "ZYFj6Z0MnECc",
    "outputId": "04ddf3ca-0741-42d7-8bbb-00bb395f7834"
   },
   "outputs": [
    {
     "data": {
      "text/plain": [
       "array([ 4444,  8483,  9623, ...,  9450,  9452, 10169])"
      ]
     },
     "execution_count": 48,
     "metadata": {},
     "output_type": "execute_result"
    }
   ],
   "source": [
    "# y a qué documentos corresponden\n",
    "np.argsort(cossim4)[::-1]"
   ]
  },
  {
   "cell_type": "code",
   "execution_count": 49,
   "metadata": {
    "id": "eYhee11qnECc"
   },
   "outputs": [],
   "source": [
    "# los 5 documentos más similares:\n",
    "mostsim4 = np.argsort(cossim4)[::-1][1:6]"
   ]
  },
  {
   "cell_type": "code",
   "execution_count": 50,
   "metadata": {
    "colab": {
     "base_uri": "https://localhost:8080/",
     "height": 35
    },
    "id": "ve0-nz1onECc",
    "outputId": "926186cf-7d4c-4bd3-927b-ad00bf7f24f9"
   },
   "outputs": [
    {
     "data": {
      "text/plain": [
       "'sci.space'"
      ]
     },
     "execution_count": 50,
     "metadata": {},
     "output_type": "execute_result"
    }
   ],
   "source": [
    "# el documento original pertenece a la clase:\n",
    "newsgroups_train.target_names[y_train[idx4]]"
   ]
  },
  {
   "cell_type": "code",
   "execution_count": 51,
   "metadata": {
    "colab": {
     "base_uri": "https://localhost:8080/"
    },
    "id": "gmoNIbgfnECc",
    "outputId": "daf534e5-b2a8-43d4-d05a-9c52b816cf69"
   },
   "outputs": [
    {
     "name": "stdout",
     "output_type": "stream",
     "text": [
      "sci.space\n",
      "talk.politics.mideast\n",
      "talk.politics.mideast\n",
      "talk.politics.mideast\n",
      "talk.politics.mideast\n"
     ]
    }
   ],
   "source": [
    "# y los 5 más similares son de las clases:\n",
    "for i in mostsim4:\n",
    "  print(newsgroups_train.target_names[y_train[i]])"
   ]
  },
  {
   "cell_type": "code",
   "execution_count": 52,
   "metadata": {
    "colab": {
     "base_uri": "https://localhost:8080/"
    },
    "id": "N0LZmgXInECc",
    "outputId": "b2bd8485-40c7-4923-c8a9-4ad6b735576e"
   },
   "outputs": [
    {
     "name": "stdout",
     "output_type": "stream",
     "text": [
      "\n",
      "The Fujitsu 2322 uses what is known as an 'SMD' interface (Storage Module\n",
      "Device?).  A lot of older minis used it.  Sun still does on their server\n",
      "models.  There are several different speeds of SMD, and I think that the \n",
      "Fuji drive you have is rated at about 24 Mb/sec (thats megabits).  There\n",
      "used to be several companies that made couplers for the PC (Interphase in\n",
      "Texas being one), but I think that the market pretty much has dried up.\n",
      "Controllers for this type of drive are readily available for VME buses\n",
      "though.  Rumor has it that there is a SMD to SCSI adapter available, but\n",
      "I think that it was designed for slower SMD devices.  In other words,\n",
      "if you have a PC or Mac, that drive is pretty much dogmeat.\n",
      "Cheers,\n",
      "Corwin\n",
      "\n"
     ]
    }
   ],
   "source": [
    "# Tomemos el documento 2323\n",
    "idx5 = 2323\n",
    "print(newsgroups_train.data[idx5])"
   ]
  },
  {
   "cell_type": "code",
   "execution_count": 53,
   "metadata": {
    "id": "yEmxkAdinECc"
   },
   "outputs": [],
   "source": [
    "# midamos la similaridad coseno con todos los documentos de train\n",
    "cossim5 = cosine_similarity(X_train[idx5], X_train)[0]"
   ]
  },
  {
   "cell_type": "code",
   "execution_count": 54,
   "metadata": {
    "colab": {
     "base_uri": "https://localhost:8080/"
    },
    "id": "zeOgZl2HnECc",
    "outputId": "747a3923-4b1c-4e2b-921d-4ebf2b271b00"
   },
   "outputs": [
    {
     "data": {
      "text/plain": [
       "array([1.        , 0.38013379, 0.22989429, ..., 0.        , 0.        ,\n",
       "       0.        ])"
      ]
     },
     "execution_count": 54,
     "metadata": {},
     "output_type": "execute_result"
    }
   ],
   "source": [
    "# podemos ver los valores de similaridad ordenados de mayor a menos\n",
    "np.sort(cossim5)[::-1]"
   ]
  },
  {
   "cell_type": "code",
   "execution_count": 55,
   "metadata": {
    "colab": {
     "base_uri": "https://localhost:8080/"
    },
    "id": "n2DtvdD0nECc",
    "outputId": "04ddf3ca-0741-42d7-8bbb-00bb395f7834"
   },
   "outputs": [
    {
     "data": {
      "text/plain": [
       "array([2323, 5908, 7722, ..., 5927, 8033, 6115])"
      ]
     },
     "execution_count": 55,
     "metadata": {},
     "output_type": "execute_result"
    }
   ],
   "source": [
    "# y a qué documentos corresponden\n",
    "np.argsort(cossim5)[::-1]"
   ]
  },
  {
   "cell_type": "code",
   "execution_count": 56,
   "metadata": {
    "id": "R9HUc0jpnECc"
   },
   "outputs": [],
   "source": [
    "# los 5 documentos más similares:\n",
    "mostsim5 = np.argsort(cossim5)[::-1][1:6]"
   ]
  },
  {
   "cell_type": "code",
   "execution_count": 57,
   "metadata": {
    "colab": {
     "base_uri": "https://localhost:8080/",
     "height": 35
    },
    "id": "GSCeyZF_nECc",
    "outputId": "926186cf-7d4c-4bd3-927b-ad00bf7f24f9"
   },
   "outputs": [
    {
     "data": {
      "text/plain": [
       "'sci.electronics'"
      ]
     },
     "execution_count": 57,
     "metadata": {},
     "output_type": "execute_result"
    }
   ],
   "source": [
    "# el documento original pertenece a la clase:\n",
    "newsgroups_train.target_names[y_train[idx5]]"
   ]
  },
  {
   "cell_type": "code",
   "execution_count": 58,
   "metadata": {
    "colab": {
     "base_uri": "https://localhost:8080/"
    },
    "id": "20FhUioDnECc",
    "outputId": "daf534e5-b2a8-43d4-d05a-9c52b816cf69"
   },
   "outputs": [
    {
     "name": "stdout",
     "output_type": "stream",
     "text": [
      "sci.electronics\n",
      "comp.sys.ibm.pc.hardware\n",
      "comp.sys.ibm.pc.hardware\n",
      "comp.sys.ibm.pc.hardware\n",
      "comp.sys.mac.hardware\n"
     ]
    }
   ],
   "source": [
    "# y los 5 más similares son de las clases:\n",
    "for i in mostsim5:\n",
    "  print(newsgroups_train.target_names[y_train[i]])"
   ]
  },
  {
   "cell_type": "markdown",
   "metadata": {
    "id": "SNalR8C7nECc"
   },
   "source": [
    "**2**. Resolvemos el punto 2.\n",
    "\n",
    "Empecemos por importar las librerìas que vamos a necesitar\n",
    "\n"
   ]
  },
  {
   "cell_type": "code",
   "execution_count": 59,
   "metadata": {
    "id": "hyH6gKL6nECc"
   },
   "outputs": [],
   "source": [
    "import numpy as np\n",
    "import pandas as pd\n",
    "from sklearn.feature_extraction.text import TfidfVectorizer\n",
    "from sklearn.naive_bayes import MultinomialNB, ComplementNB\n",
    "from sklearn.model_selection import train_test_split\n",
    "from sklearn.metrics import classification_report, f1_score\n",
    "\n",
    "from sklearn.datasets import fetch_20newsgroups"
   ]
  },
  {
   "cell_type": "markdown",
   "metadata": {
    "id": "awj-7tQunECc"
   },
   "source": [
    "\n",
    "Cargamos los datos, sets de entrenamiento y prueba\n",
    "\n"
   ]
  },
  {
   "cell_type": "code",
   "execution_count": 60,
   "metadata": {
    "id": "vhAfb1BvnECc",
    "outputId": "0972524c-ec3e-4781-b486-f26595e73926"
   },
   "outputs": [
    {
     "name": "stdout",
     "output_type": "stream",
     "text": [
      "Número de documentos de entrenamiento: 11314\n",
      "Número de documentos de prueba: 7532\n"
     ]
    }
   ],
   "source": [
    "newsgroups_train = fetch_20newsgroups(subset='train', remove=('headers', 'footers', 'quotes'))\n",
    "newsgroups_test = fetch_20newsgroups(subset='test', remove=('headers', 'footers', 'quotes'))\n",
    "\n",
    "X_train, y_train = newsgroups_train.data, newsgroups_train.target\n",
    "X_test, y_test = newsgroups_test.data, newsgroups_test.target\n",
    "\n",
    "print(f\"Número de documentos de entrenamiento: {len(X_train)}\")\n",
    "print(f\"Número de documentos de prueba: {len(X_test)}\")\n"
   ]
  },
  {
   "cell_type": "markdown",
   "metadata": {
    "id": "ZfiAe2P1nECd"
   },
   "source": [
    "Vectorizamos"
   ]
  },
  {
   "cell_type": "code",
   "execution_count": 61,
   "metadata": {
    "id": "0kNjj2d8nECd",
    "outputId": "778c17ab-f4c9-411c-b163-8180eaa6b22b"
   },
   "outputs": [
    {
     "name": "stdout",
     "output_type": "stream",
     "text": [
      "Forma de la matriz TF-IDF de entrenamiento: (11314, 101631)\n",
      "Forma de la matriz TF-IDF de prueba: (7532, 101631)\n"
     ]
    }
   ],
   "source": [
    "tfidf_vectorizer = TfidfVectorizer()\n",
    "X_train_tfidf = tfidf_vectorizer.fit_transform(X_train)\n",
    "X_test_tfidf = tfidf_vectorizer.transform(X_test)\n",
    "\n",
    "print(f\"Forma de la matriz TF-IDF de entrenamiento: {X_train_tfidf.shape}\")\n",
    "print(f\"Forma de la matriz TF-IDF de prueba: {X_test_tfidf.shape}\")"
   ]
  },
  {
   "cell_type": "markdown",
   "metadata": {
    "id": "0u-PunzUnECd"
   },
   "source": [
    "Comenzamos con la resolución, buscando optimmizar NB"
   ]
  },
  {
   "cell_type": "code",
   "execution_count": 62,
   "metadata": {
    "id": "geqQi9DynECd",
    "outputId": "853bbef0-aabc-4e8b-fdf9-ba7a167e5f70"
   },
   "outputs": [
    {
     "name": "stdout",
     "output_type": "stream",
     "text": [
      "\n",
      "--- Probando con TfidfVectorizer: Base ---\n",
      "  Entrenando y evaluando: MultinomialNB\n",
      "    F1-score (macro): 0.5854\n",
      "    Reporte de Clasificación:\n",
      "                          precision    recall  f1-score   support\n",
      "\n",
      "             alt.atheism       0.81      0.07      0.13       319\n",
      "           comp.graphics       0.72      0.62      0.67       389\n",
      " comp.os.ms-windows.misc       0.70      0.50      0.59       394\n",
      "comp.sys.ibm.pc.hardware       0.55      0.75      0.64       392\n",
      "   comp.sys.mac.hardware       0.81      0.61      0.69       385\n",
      "          comp.windows.x       0.83      0.74      0.78       395\n",
      "            misc.forsale       0.86      0.69      0.77       390\n",
      "               rec.autos       0.82      0.68      0.74       396\n",
      "         rec.motorcycles       0.89      0.63      0.73       398\n",
      "      rec.sport.baseball       0.95      0.69      0.80       397\n",
      "        rec.sport.hockey       0.59      0.90      0.71       399\n",
      "               sci.crypt       0.47      0.80      0.59       396\n",
      "         sci.electronics       0.77      0.43      0.55       393\n",
      "                 sci.med       0.86      0.63      0.73       396\n",
      "               sci.space       0.84      0.63      0.72       394\n",
      "  soc.religion.christian       0.22      0.95      0.36       398\n",
      "      talk.politics.guns       0.59      0.59      0.59       364\n",
      "   talk.politics.mideast       0.85      0.70      0.77       376\n",
      "      talk.politics.misc       0.81      0.08      0.15       310\n",
      "      talk.religion.misc       0.50      0.00      0.01       251\n",
      "\n",
      "                accuracy                           0.61      7532\n",
      "               macro avg       0.72      0.58      0.59      7532\n",
      "            weighted avg       0.72      0.61      0.61      7532\n",
      "\n",
      "  Entrenando y evaluando: ComplementNB\n",
      "    F1-score (macro): 0.6930\n",
      "    Reporte de Clasificación:\n",
      "                          precision    recall  f1-score   support\n",
      "\n",
      "             alt.atheism       0.31      0.40      0.35       319\n",
      "           comp.graphics       0.73      0.73      0.73       389\n",
      " comp.os.ms-windows.misc       0.71      0.61      0.66       394\n",
      "comp.sys.ibm.pc.hardware       0.64      0.71      0.67       392\n",
      "   comp.sys.mac.hardware       0.78      0.72      0.75       385\n",
      "          comp.windows.x       0.82      0.78      0.80       395\n",
      "            misc.forsale       0.78      0.74      0.76       390\n",
      "               rec.autos       0.83      0.74      0.78       396\n",
      "         rec.motorcycles       0.85      0.78      0.81       398\n",
      "      rec.sport.baseball       0.93      0.84      0.88       397\n",
      "        rec.sport.hockey       0.86      0.93      0.90       399\n",
      "               sci.crypt       0.73      0.81      0.76       396\n",
      "         sci.electronics       0.71      0.55      0.62       393\n",
      "                 sci.med       0.82      0.80      0.81       396\n",
      "               sci.space       0.80      0.80      0.80       394\n",
      "  soc.religion.christian       0.50      0.91      0.64       398\n",
      "      talk.politics.guns       0.58      0.74      0.65       364\n",
      "   talk.politics.mideast       0.82      0.85      0.83       376\n",
      "      talk.politics.misc       0.70      0.41      0.51       310\n",
      "      talk.religion.misc       0.53      0.08      0.14       251\n",
      "\n",
      "                accuracy                           0.71      7532\n",
      "               macro avg       0.72      0.70      0.69      7532\n",
      "            weighted avg       0.73      0.71      0.71      7532\n",
      "\n",
      "\n",
      "--- Probando con TfidfVectorizer: Ngrams (1,2) ---\n",
      "  Entrenando y evaluando: MultinomialNB\n",
      "    F1-score (macro): 0.5398\n",
      "    Reporte de Clasificación:\n",
      "                          precision    recall  f1-score   support\n",
      "\n",
      "             alt.atheism       0.85      0.07      0.13       319\n",
      "           comp.graphics       0.72      0.56      0.63       389\n",
      " comp.os.ms-windows.misc       0.71      0.49      0.58       394\n",
      "comp.sys.ibm.pc.hardware       0.57      0.73      0.64       392\n",
      "   comp.sys.mac.hardware       0.85      0.51      0.64       385\n",
      "          comp.windows.x       0.78      0.73      0.75       395\n",
      "            misc.forsale       0.85      0.74      0.79       390\n",
      "               rec.autos       0.85      0.53      0.65       396\n",
      "         rec.motorcycles       0.94      0.46      0.62       398\n",
      "      rec.sport.baseball       0.94      0.58      0.72       397\n",
      "        rec.sport.hockey       0.58      0.87      0.69       399\n",
      "               sci.crypt       0.45      0.78      0.57       396\n",
      "         sci.electronics       0.78      0.31      0.44       393\n",
      "                 sci.med       0.86      0.53      0.65       396\n",
      "               sci.space       0.85      0.52      0.65       394\n",
      "  soc.religion.christian       0.17      0.95      0.28       398\n",
      "      talk.politics.guns       0.62      0.46      0.53       364\n",
      "   talk.politics.mideast       0.80      0.68      0.73       376\n",
      "      talk.politics.misc       0.88      0.05      0.09       310\n",
      "      talk.religion.misc       1.00      0.00      0.01       251\n",
      "\n",
      "                accuracy                           0.55      7532\n",
      "               macro avg       0.75      0.53      0.54      7532\n",
      "            weighted avg       0.74      0.55      0.56      7532\n",
      "\n",
      "  Entrenando y evaluando: ComplementNB\n",
      "    F1-score (macro): 0.6817\n",
      "    Reporte de Clasificación:\n",
      "                          precision    recall  f1-score   support\n",
      "\n",
      "             alt.atheism       0.28      0.32      0.30       319\n",
      "           comp.graphics       0.73      0.69      0.71       389\n",
      " comp.os.ms-windows.misc       0.69      0.63      0.66       394\n",
      "comp.sys.ibm.pc.hardware       0.67      0.74      0.70       392\n",
      "   comp.sys.mac.hardware       0.80      0.70      0.74       385\n",
      "          comp.windows.x       0.79      0.78      0.79       395\n",
      "            misc.forsale       0.81      0.82      0.81       390\n",
      "               rec.autos       0.84      0.72      0.77       396\n",
      "         rec.motorcycles       0.88      0.74      0.81       398\n",
      "      rec.sport.baseball       0.93      0.81      0.86       397\n",
      "        rec.sport.hockey       0.89      0.93      0.91       399\n",
      "               sci.crypt       0.70      0.81      0.75       396\n",
      "         sci.electronics       0.74      0.53      0.62       393\n",
      "                 sci.med       0.84      0.78      0.81       396\n",
      "               sci.space       0.79      0.76      0.78       394\n",
      "  soc.religion.christian       0.40      0.92      0.55       398\n",
      "      talk.politics.guns       0.61      0.74      0.67       364\n",
      "   talk.politics.mideast       0.76      0.82      0.79       376\n",
      "      talk.politics.misc       0.75      0.38      0.51       310\n",
      "      talk.religion.misc       0.50      0.06      0.10       251\n",
      "\n",
      "                accuracy                           0.70      7532\n",
      "               macro avg       0.72      0.68      0.68      7532\n",
      "            weighted avg       0.73      0.70      0.70      7532\n",
      "\n",
      "\n",
      "--- Probando con TfidfVectorizer: Filtered (min_df=5, max_df=0.8) ---\n",
      "  Entrenando y evaluando: MultinomialNB\n",
      "    F1-score (macro): 0.6132\n",
      "    Reporte de Clasificación:\n",
      "                          precision    recall  f1-score   support\n",
      "\n",
      "             alt.atheism       0.71      0.10      0.18       319\n",
      "           comp.graphics       0.67      0.66      0.67       389\n",
      " comp.os.ms-windows.misc       0.66      0.54      0.59       394\n",
      "comp.sys.ibm.pc.hardware       0.57      0.74      0.65       392\n",
      "   comp.sys.mac.hardware       0.81      0.62      0.70       385\n",
      "          comp.windows.x       0.80      0.74      0.77       395\n",
      "            misc.forsale       0.83      0.72      0.77       390\n",
      "               rec.autos       0.78      0.72      0.75       396\n",
      "         rec.motorcycles       0.85      0.70      0.76       398\n",
      "      rec.sport.baseball       0.94      0.76      0.84       397\n",
      "        rec.sport.hockey       0.59      0.89      0.71       399\n",
      "               sci.crypt       0.59      0.77      0.67       396\n",
      "         sci.electronics       0.71      0.49      0.58       393\n",
      "                 sci.med       0.82      0.73      0.77       396\n",
      "               sci.space       0.79      0.67      0.72       394\n",
      "  soc.religion.christian       0.27      0.93      0.42       398\n",
      "      talk.politics.guns       0.59      0.66      0.62       364\n",
      "   talk.politics.mideast       0.81      0.73      0.77       376\n",
      "      talk.politics.misc       0.88      0.18      0.30       310\n",
      "      talk.religion.misc       0.67      0.01      0.02       251\n",
      "\n",
      "                accuracy                           0.64      7532\n",
      "               macro avg       0.72      0.62      0.61      7532\n",
      "            weighted avg       0.72      0.64      0.63      7532\n",
      "\n",
      "  Entrenando y evaluando: ComplementNB\n",
      "    F1-score (macro): 0.6838\n",
      "    Reporte de Clasificación:\n",
      "                          precision    recall  f1-score   support\n",
      "\n",
      "             alt.atheism       0.30      0.43      0.35       319\n",
      "           comp.graphics       0.68      0.69      0.69       389\n",
      " comp.os.ms-windows.misc       0.66      0.61      0.63       394\n",
      "comp.sys.ibm.pc.hardware       0.64      0.69      0.66       392\n",
      "   comp.sys.mac.hardware       0.78      0.71      0.75       385\n",
      "          comp.windows.x       0.79      0.77      0.78       395\n",
      "            misc.forsale       0.76      0.74      0.75       390\n",
      "               rec.autos       0.79      0.71      0.75       396\n",
      "         rec.motorcycles       0.83      0.78      0.80       398\n",
      "      rec.sport.baseball       0.89      0.82      0.86       397\n",
      "        rec.sport.hockey       0.86      0.92      0.89       399\n",
      "               sci.crypt       0.79      0.78      0.78       396\n",
      "         sci.electronics       0.67      0.54      0.60       393\n",
      "                 sci.med       0.81      0.80      0.81       396\n",
      "               sci.space       0.78      0.77      0.78       394\n",
      "  soc.religion.christian       0.54      0.88      0.67       398\n",
      "      talk.politics.guns       0.58      0.73      0.65       364\n",
      "   talk.politics.mideast       0.80      0.84      0.82       376\n",
      "      talk.politics.misc       0.64      0.43      0.51       310\n",
      "      talk.religion.misc       0.48      0.10      0.17       251\n",
      "\n",
      "                accuracy                           0.70      7532\n",
      "               macro avg       0.70      0.69      0.68      7532\n",
      "            weighted avg       0.71      0.70      0.70      7532\n",
      "\n",
      "\n",
      "--- Probando con TfidfVectorizer: Ngrams + Filtered ---\n",
      "  Entrenando y evaluando: MultinomialNB\n",
      "    F1-score (macro): 0.5813\n",
      "    Reporte de Clasificación:\n",
      "                          precision    recall  f1-score   support\n",
      "\n",
      "             alt.atheism       0.69      0.08      0.14       319\n",
      "           comp.graphics       0.64      0.62      0.63       389\n",
      " comp.os.ms-windows.misc       0.67      0.52      0.58       394\n",
      "comp.sys.ibm.pc.hardware       0.58      0.73      0.64       392\n",
      "   comp.sys.mac.hardware       0.81      0.55      0.65       385\n",
      "          comp.windows.x       0.74      0.74      0.74       395\n",
      "            misc.forsale       0.81      0.77      0.79       390\n",
      "               rec.autos       0.79      0.65      0.71       396\n",
      "         rec.motorcycles       0.86      0.64      0.73       398\n",
      "      rec.sport.baseball       0.92      0.68      0.78       397\n",
      "        rec.sport.hockey       0.58      0.89      0.70       399\n",
      "               sci.crypt       0.57      0.76      0.65       396\n",
      "         sci.electronics       0.69      0.43      0.53       393\n",
      "                 sci.med       0.80      0.67      0.73       396\n",
      "               sci.space       0.79      0.64      0.71       394\n",
      "  soc.religion.christian       0.23      0.94      0.37       398\n",
      "      talk.politics.guns       0.60      0.60      0.60       364\n",
      "   talk.politics.mideast       0.77      0.71      0.74       376\n",
      "      talk.politics.misc       0.86      0.10      0.18       310\n",
      "      talk.religion.misc       0.50      0.00      0.01       251\n",
      "\n",
      "                accuracy                           0.61      7532\n",
      "               macro avg       0.69      0.59      0.58      7532\n",
      "            weighted avg       0.70      0.61      0.60      7532\n",
      "\n",
      "  Entrenando y evaluando: ComplementNB\n",
      "    F1-score (macro): 0.6840\n",
      "    Reporte de Clasificación:\n",
      "                          precision    recall  f1-score   support\n",
      "\n",
      "             alt.atheism       0.30      0.41      0.35       319\n",
      "           comp.graphics       0.67      0.68      0.68       389\n",
      " comp.os.ms-windows.misc       0.68      0.64      0.66       394\n",
      "comp.sys.ibm.pc.hardware       0.67      0.70      0.68       392\n",
      "   comp.sys.mac.hardware       0.79      0.69      0.73       385\n",
      "          comp.windows.x       0.77      0.78      0.78       395\n",
      "            misc.forsale       0.73      0.83      0.78       390\n",
      "               rec.autos       0.83      0.70      0.76       396\n",
      "         rec.motorcycles       0.82      0.75      0.79       398\n",
      "      rec.sport.baseball       0.89      0.80      0.84       397\n",
      "        rec.sport.hockey       0.87      0.92      0.89       399\n",
      "               sci.crypt       0.79      0.76      0.77       396\n",
      "         sci.electronics       0.70      0.53      0.60       393\n",
      "                 sci.med       0.81      0.78      0.79       396\n",
      "               sci.space       0.80      0.78      0.79       394\n",
      "  soc.religion.christian       0.50      0.89      0.64       398\n",
      "      talk.politics.guns       0.58      0.74      0.65       364\n",
      "   talk.politics.mideast       0.78      0.82      0.80       376\n",
      "      talk.politics.misc       0.70      0.44      0.54       310\n",
      "      talk.religion.misc       0.52      0.09      0.15       251\n",
      "\n",
      "                accuracy                           0.70      7532\n",
      "               macro avg       0.71      0.69      0.68      7532\n",
      "            weighted avg       0.72      0.70      0.70      7532\n",
      "\n",
      "\n",
      "--- MEJORES RESULTADOS ENCONTRADOS ---\n",
      "Mejor F1-score (macro): 0.6930\n",
      "Configuración del Vectorizador: Base\n",
      "Modelo Naïve Bayes: ComplementNB\n"
     ]
    }
   ],
   "source": [
    "# Definir los modelos a probar\n",
    "models = {\n",
    "    'MultinomialNB': MultinomialNB(),\n",
    "    'ComplementNB': ComplementNB()\n",
    "}\n",
    "\n",
    "# Definir diferentes configuraciones para el TfidfVectorizer\n",
    "# Experimentaremos con ngram_range y min_df/max_df para ver el impacto\n",
    "vectorizer_params = {\n",
    "    'Base': {}, # Sin parámetros adicionales\n",
    "    'Ngrams (1,2)': {'ngram_range': (1, 2)}, # Unigramas y bigramas\n",
    "    'Filtered (min_df=5, max_df=0.8)': {'min_df': 5, 'max_df': 0.8}, # Filtrar palabras muy raras y muy comunes\n",
    "    'Ngrams + Filtered': {'ngram_range': (1, 2), 'min_df': 5, 'max_df': 0.8}\n",
    "}\n",
    "\n",
    "best_f1_score = -1\n",
    "best_config_name = \"\"\n",
    "best_model_name = \"\"\n",
    "best_model_instance = None\n",
    "best_vectorizer_instance = None\n",
    "\n",
    "for vec_name, vec_params in vectorizer_params.items():\n",
    "    print(f\"\\n--- Probando con TfidfVectorizer: {vec_name} ---\")\n",
    "    current_vectorizer = TfidfVectorizer(**vec_params)\n",
    "\n",
    "    # Re-vectorizar los datos para cada configuración\n",
    "    X_train_current_tfidf = current_vectorizer.fit_transform(X_train)\n",
    "    X_test_current_tfidf = current_vectorizer.transform(X_test)\n",
    "\n",
    "    for model_name, model_instance in models.items():\n",
    "        print(f\"  Entrenando y evaluando: {model_name}\")\n",
    "\n",
    "        # Entrenar el modelo\n",
    "        model_instance.fit(X_train_current_tfidf, y_train)\n",
    "\n",
    "        # Realizar predicciones\n",
    "        y_pred = model_instance.predict(X_test_current_tfidf)\n",
    "\n",
    "        # Calcular f1-score macro\n",
    "        f1 = f1_score(y_test, y_pred, average='macro')\n",
    "\n",
    "        print(f\"    F1-score (macro): {f1:.4f}\")\n",
    "        print(\"    Reporte de Clasificación:\")\n",
    "        print(classification_report(y_test, y_pred, target_names=newsgroups_test.target_names))\n",
    "\n",
    "        # Actualizar el mejor modelo si se supera el f1-score\n",
    "        if f1 > best_f1_score:\n",
    "            best_f1_score = f1\n",
    "            best_config_name = vec_name\n",
    "            best_model_name = model_name\n",
    "            best_model_instance = model_instance # Guardar la instancia del modelo entrenado\n",
    "            best_vectorizer_instance = current_vectorizer # Guardar la instancia del vectorizador usado\n",
    "\n",
    "print(f\"\\n--- MEJORES RESULTADOS ENCONTRADOS ---\")\n",
    "print(f\"Mejor F1-score (macro): {best_f1_score:.4f}\")\n",
    "print(f\"Configuración del Vectorizador: {best_config_name}\")\n",
    "print(f\"Modelo Naïve Bayes: {best_model_name}\")"
   ]
  },
  {
   "cell_type": "markdown",
   "metadata": {
    "id": "nLw9eiHinECd"
   },
   "source": [
    "# Resolvemos el punto 3"
   ]
  },
  {
   "cell_type": "markdown",
   "metadata": {
    "id": "Y238X2T_nECd"
   },
   "source": [
    "**A** Importamos librerías y recalculamos la matriz  con el mejor vectorizador encontrado"
   ]
  },
  {
   "cell_type": "code",
   "execution_count": 64,
   "metadata": {
    "id": "fL-WY-ppnECd"
   },
   "outputs": [],
   "source": [
    "from sklearn.metrics.pairwise import cosine_similarity\n",
    "import numpy as np # Asegurarse de que numpy esté importado\n",
    "\n",
    "matrix_document_term_for_similarity = best_vectorizer_instance.transform(X_train)\n",
    "vectorizer_for_similarity = best_vectorizer_instance\n"
   ]
  },
  {
   "cell_type": "markdown",
   "metadata": {
    "id": "vflpv7DanECd"
   },
   "source": [
    "Transponemos la matriz documento-término y obtenemos las características del mejor vectorizador"
   ]
  },
  {
   "cell_type": "code",
   "execution_count": 65,
   "metadata": {
    "id": "nfs6F5sAnECd",
    "outputId": "5428df48-2a15-4eba-cde5-23277f4eef00"
   },
   "outputs": [
    {
     "name": "stdout",
     "output_type": "stream",
     "text": [
      "Forma de la matriz término-documento: (101631, 11314)\n",
      "Cantidad de palabras en el vocabulario: 101631\n"
     ]
    }
   ],
   "source": [
    "# 1. Transponer la matriz documento-término\n",
    "matrix_term_document = matrix_document_term_for_similarity.T\n",
    "print(f\"Forma de la matriz término-documento: {matrix_term_document.shape}\")\n",
    "\n",
    "# 2. Obtener los nombres de las características (palabras) del mejor vectorizador\n",
    "feature_names = vectorizer_for_similarity.get_feature_names_out()\n",
    "print(f\"Cantidad de palabras en el vocabulario: {len(feature_names)}\")\n"
   ]
  },
  {
   "cell_type": "markdown",
   "metadata": {
    "id": "fPc3TOBanECd"
   },
   "source": [
    "Definimos una funciòn que nos permita encontrar las palabras màs similares"
   ]
  },
  {
   "cell_type": "code",
   "execution_count": 66,
   "metadata": {
    "id": "RC62VtatnECd"
   },
   "outputs": [],
   "source": [
    "# Función para encontrar las palabras más similares\n",
    "def find_similar_words(word, matrix, feature_names, top_n=5):\n",
    "    if word not in feature_names:\n",
    "        # Manejar palabras que no están en el vocabulario\n",
    "        print(f\"La palabra '{word}' no se encuentra en el vocabulario del vectorizador usado.\")\n",
    "        return []\n",
    "\n",
    "    # Obtener el índice de la palabra\n",
    "    word_index = np.where(feature_names == word)[0][0]\n",
    "    word_vector = matrix[word_index]\n",
    "\n",
    "    # Calcular la similaridad coseno entre el vector de la palabra y todos los demás\n",
    "    similarities = cosine_similarity(word_vector.toarray(), matrix.toarray())\n",
    "\n",
    "    # Obtener los índices de las palabras más similares (excluyendo la palabra misma)\n",
    "    # Convertir a 1D, ordenar de mayor a menor y tomar los top_n+1 (para excluir la palabra original)\n",
    "    similar_indices = similarities.flatten().argsort()[-top_n-1:-1][::-1]\n",
    "\n",
    "    similar_words_with_scores = []\n",
    "    for idx in similar_indices:\n",
    "        similar_words_with_scores.append((feature_names[idx], similarities[0, idx]))\n",
    "    return similar_words_with_scores"
   ]
  },
  {
   "cell_type": "markdown",
   "metadata": {
    "id": "0isw57VbnECd"
   },
   "source": [
    "Elegimos cinco palabras que podamos utilizar relacionadas con temas diversos."
   ]
  },
  {
   "cell_type": "code",
   "execution_count": 67,
   "metadata": {
    "id": "C8qAIpKznECd"
   },
   "outputs": [],
   "source": [
    "# 3. Elegir 5 palabras manualmente y estudiar sus 5 más similares\n",
    "selected_words = [\n",
    "    'computer',   \n",
    "    'religion',   \n",
    "    'game',       \n",
    "    'windows',    \n",
    "    'israel'  \n",
    "]"
   ]
  },
  {
   "cell_type": "markdown",
   "metadata": {
    "id": "cZ43OOtjnECd"
   },
   "source": [
    "Con la función desarrollada se buscan las palabras similares a esas cinco elegidas"
   ]
  },
  {
   "cell_type": "code",
   "execution_count": 68,
   "metadata": {
    "id": "vxhYGTh_nECd",
    "outputId": "72a60c18-17b9-4d5c-b1d8-e497ccabf5a4"
   },
   "outputs": [
    {
     "name": "stdout",
     "output_type": "stream",
     "text": [
      "\n",
      "--- Palabras seleccionadas y sus 5 más similares ---\n",
      "\n",
      "Palabras más similares a 'computer':\n",
      "- decwriter (Similaridad: 0.1563)\n",
      "- harkens (Similaridad: 0.1522)\n",
      "- deluged (Similaridad: 0.1522)\n",
      "- shopper (Similaridad: 0.1443)\n",
      "- the (Similaridad: 0.1361)\n",
      "\n",
      "Palabras más similares a 'religion':\n",
      "- religious (Similaridad: 0.2451)\n",
      "- religions (Similaridad: 0.2116)\n",
      "- categorized (Similaridad: 0.2039)\n",
      "- purpsoe (Similaridad: 0.2008)\n",
      "- crusades (Similaridad: 0.1987)\n",
      "\n",
      "Palabras más similares a 'game':\n",
      "- games (Similaridad: 0.2116)\n",
      "- espn (Similaridad: 0.1935)\n",
      "- hockey (Similaridad: 0.1806)\n",
      "- team (Similaridad: 0.1786)\n",
      "- scored (Similaridad: 0.1707)\n",
      "\n",
      "Palabras más similares a 'windows':\n",
      "- dos (Similaridad: 0.3037)\n",
      "- ms (Similaridad: 0.2320)\n",
      "- microsoft (Similaridad: 0.2219)\n",
      "- nt (Similaridad: 0.2140)\n",
      "- for (Similaridad: 0.1930)\n",
      "\n",
      "Palabras más similares a 'israel':\n",
      "- israeli (Similaridad: 0.4169)\n",
      "- arab (Similaridad: 0.3734)\n",
      "- syrian (Similaridad: 0.3691)\n",
      "- lebanon (Similaridad: 0.3626)\n",
      "- lebanese (Similaridad: 0.3373)\n"
     ]
    }
   ],
   "source": [
    "print(\"\\n--- Palabras seleccionadas y sus 5 más similares ---\")\n",
    "for word in selected_words:\n",
    "    print(f\"\\nPalabras más similares a '{word}':\")\n",
    "    similar_results = find_similar_words(word, matrix_term_document, feature_names, top_n=5)\n",
    "    if similar_results:\n",
    "        for sim_word, score in similar_results:\n",
    "            print(f\"- {sim_word} (Similaridad: {score:.4f})\")\n",
    "    else:\n",
    "        print(f\"No se encontraron palabras similares para '{word}'.\")"
   ]
  },
  {
   "cell_type": "markdown",
   "metadata": {},
   "source": [
    "## Conclusiones"
   ]
  },
  {
   "cell_type": "markdown",
   "metadata": {},
   "source": [
    "Punto 1: Se puede observar claramente que al probar similaridad de distintos documentos, en algunos textos el modelo inicial no arroja resultados tan precisos, obteniendo, por ejemplo, tres clases iguales a las del documento objetivo. Sin embargo, en la mayoría si se obtuvieron buenos resultados, aunque en algunos casos pudiera parecer que no. Ejemplo de esto es el caso del documento , que pertenece a la clase sci.electronics, y los similares a hardware. Más allá de la aparente diferencia, entendemos que son áreas de conocimiento que se solapan, por lo cual el resultado (al poner foco siempre en el dominio del problema) es correcto. \n",
    "\n",
    "Algún documento no obtuvo similaridades, como el caso del documento 4, que estaba en la categoría \"sci.space\" y encontraron similaridades en documentos de la categorìa \"politics\". Se podría realizar un análisis del contenido de los documentos encontrados, ya que se piensa la carrera espacial en Estados Unidos como política de estado, con lo que podría haber en el texto referencias a esta, pero escapa un poco del foco del trabajo. \n",
    "\n",
    "Punto 2: Se efectuaron entrenamiento con modelos de Naice Banes Multinomial y ComplementNB, obteniendo mejores métricas con este último.\n",
    "\n",
    "Punto 3: Se buscaron similaridad de palabras de distintas áreaa (computación, juegos, sistemas operativos, religion, etc. y se obtuvieron algunos resultados interesantes. Por ejemplo, en el caso de \"religion, lo primero que surge son términos derivados, mientras que en el caso de \"windows\", solo arroja resultados relacionados al contexto, o como el caso de \"israel\", donde arroja varios gentilicios, pero de lugares relacionados geográficamente e historicamente con ese país. "
   ]
  }
 ],
 "metadata": {
  "colab": {
   "provenance": []
  },
  "kernelspec": {
   "display_name": "Python [conda env:base] *",
   "language": "python",
   "name": "conda-base-py"
  },
  "language_info": {
   "codemirror_mode": {
    "name": "ipython",
    "version": 3
   },
   "file_extension": ".py",
   "mimetype": "text/x-python",
   "name": "python",
   "nbconvert_exporter": "python",
   "pygments_lexer": "ipython3",
   "version": "3.12.7"
  }
 },
 "nbformat": 4,
 "nbformat_minor": 4
}
